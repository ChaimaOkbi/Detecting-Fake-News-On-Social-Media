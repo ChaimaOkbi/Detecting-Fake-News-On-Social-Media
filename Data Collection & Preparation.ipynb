{
 "cells": [
  {
   "cell_type": "code",
   "execution_count": 123,
   "metadata": {},
   "outputs": [],
   "source": [
    "import pandas as pd\n",
    "import seaborn as sn\n",
    "import numpy as np\n",
    "import nltk\n",
    "from nltk.stem import SnowballStemmer\n",
    "from nltk.stem.porter import PorterStemmer\n",
    "from nltk.tokenize import word_tokenize"
   ]
  },
  {
   "cell_type": "code",
   "execution_count": 99,
   "metadata": {},
   "outputs": [],
   "source": [
    "header_list = [\"id\", \"label\", \"statement\", \"subject\", \"speaker\", \n",
    "               \"speaker_job\", \"speaker_state\", \"speaker_affiliation\", \n",
    "               \"barely_true_counts\", \"false_counts\", \"half_true_counts\", \n",
    "               \"mostly_true_counts\", \"pants_on_fire_counts\", \"context\"]\n",
    "\n",
    "train_data = pd.read_csv('liar_dataset/train.tsv', sep='\\t',  names=header_list)\n",
    "val_data = pd.read_csv('liar_dataset/valid.tsv', sep='\\t',  names=header_list)\n",
    "test_data = pd.read_csv('liar_dataset/valid.tsv', sep='\\t', names=header_list)"
   ]
  },
  {
   "cell_type": "code",
   "execution_count": 101,
   "metadata": {},
   "outputs": [],
   "source": [
    "#data observation\n",
    "def data_obs():\n",
    "    print(\"training dataset size:\")\n",
    "    print(train_data.shape)\n",
    "    print(train_data.head(10))\n",
    "\n",
    "    print(\"validation dataset size:\")\n",
    "    print(val_data.shape)\n",
    "    print(val_data.head(10))\n",
    "    \n",
    "    print(\"test dataset size:\")\n",
    "    print(test_data.shape)\n",
    "    print(test_data.head(10))"
   ]
  },
  {
   "cell_type": "markdown",
   "metadata": {},
   "source": []
  },
  {
   "cell_type": "code",
   "execution_count": 102,
   "metadata": {},
   "outputs": [
    {
     "name": "stdout",
     "output_type": "stream",
     "text": [
      "training dataset size:\n",
      "(10240, 14)\n",
      "           id        label                                          statement  \\\n",
      "0   2635.json        false  Says the Annies List political group supports ...   \n",
      "1  10540.json    half-true  When did the decline of coal start? It started...   \n",
      "2    324.json  mostly-true  Hillary Clinton agrees with John McCain \"by vo...   \n",
      "3   1123.json        false  Health care reform legislation is likely to ma...   \n",
      "4   9028.json    half-true  The economic turnaround started at the end of ...   \n",
      "5  12465.json         true  The Chicago Bears have had more starting quart...   \n",
      "6   2342.json  barely-true  Jim Dunnam has not lived in the district he re...   \n",
      "7    153.json    half-true  I'm the only person on this stage who has work...   \n",
      "8   5602.json    half-true  However, it took $19.5 million in Oregon Lotte...   \n",
      "9   9741.json  mostly-true  Says GOP primary opponents Glenn Grothman and ...   \n",
      "\n",
      "                                     subject                 speaker  \\\n",
      "0                                   abortion            dwayne-bohac   \n",
      "1         energy,history,job-accomplishments          scott-surovell   \n",
      "2                             foreign-policy            barack-obama   \n",
      "3                                health-care            blog-posting   \n",
      "4                               economy,jobs           charlie-crist   \n",
      "5                                  education               robin-vos   \n",
      "6                       candidates-biography  republican-party-texas   \n",
      "7                                     ethics            barack-obama   \n",
      "8                                       jobs          oregon-lottery   \n",
      "9  energy,message-machine-2014,voting-record           duey-stroebel   \n",
      "\n",
      "                  speaker_job speaker_state speaker_affiliation  \\\n",
      "0        State representative         Texas          republican   \n",
      "1              State delegate      Virginia            democrat   \n",
      "2                   President      Illinois            democrat   \n",
      "3                         NaN           NaN                none   \n",
      "4                         NaN       Florida            democrat   \n",
      "5  Wisconsin Assembly speaker     Wisconsin          republican   \n",
      "6                         NaN         Texas          republican   \n",
      "7                   President      Illinois            democrat   \n",
      "8                         NaN           NaN        organization   \n",
      "9        State representative     Wisconsin          republican   \n",
      "\n",
      "   barely_true_counts  false_counts  half_true_counts  mostly_true_counts  \\\n",
      "0                 0.0           1.0               0.0                 0.0   \n",
      "1                 0.0           0.0               1.0                 1.0   \n",
      "2                70.0          71.0             160.0               163.0   \n",
      "3                 7.0          19.0               3.0                 5.0   \n",
      "4                15.0           9.0              20.0                19.0   \n",
      "5                 0.0           3.0               2.0                 5.0   \n",
      "6                 3.0           1.0               1.0                 3.0   \n",
      "7                70.0          71.0             160.0               163.0   \n",
      "8                 0.0           0.0               1.0                 0.0   \n",
      "9                 0.0           0.0               0.0                 1.0   \n",
      "\n",
      "   pants_on_fire_counts                                   context  \n",
      "0                   0.0                                  a mailer  \n",
      "1                   0.0                           a floor speech.  \n",
      "2                   9.0                                    Denver  \n",
      "3                  44.0                            a news release  \n",
      "4                   2.0                       an interview on CNN  \n",
      "5                   1.0                 a an online opinion-piece  \n",
      "6                   1.0                          a press release.  \n",
      "7                   9.0  a Democratic debate in Philadelphia, Pa.  \n",
      "8                   1.0                                a website   \n",
      "9                   0.0                           an online video  \n",
      "validation dataset size:\n",
      "(1284, 14)\n",
      "           id        label                                          statement  \\\n",
      "0  12134.json  barely-true  We have less Americans working now than in the...   \n",
      "1    238.json   pants-fire  When Obama was sworn into office, he DID NOT u...   \n",
      "2   7891.json        false  Says Having organizations parading as being so...   \n",
      "3   8169.json    half-true     Says nearly half of Oregons children are poor.   \n",
      "4    929.json    half-true  On attacks by Republicans that various program...   \n",
      "5   9416.json        false  Says when armed civilians stop mass shootings ...   \n",
      "6   6861.json         true  Says Tennessee is providing millions of dollar...   \n",
      "7   1122.json        false  The health care reform plan would set limits s...   \n",
      "8  13138.json         true  Says Donald Trump started his career back in 1...   \n",
      "9   1880.json    half-true  Bill White has a long history of trying to lim...   \n",
      "\n",
      "                                  subject                 speaker  \\\n",
      "0                            economy,jobs          vicky-hartzler   \n",
      "1        obama-birth-certificate,religion             chain-email   \n",
      "2         campaign-finance,congress,taxes         earl-blumenauer   \n",
      "3                                 poverty         jim-francesconi   \n",
      "4                        economy,stimulus            barack-obama   \n",
      "5                                    guns              jim-rubens   \n",
      "6                  education,state-budget              andy-berke   \n",
      "7                             health-care             club-growth   \n",
      "8  candidates-biography,diversity,housing         hillary-clinton   \n",
      "9                                military  republican-party-texas   \n",
      "\n",
      "                                     speaker_job  speaker_state  \\\n",
      "0                            U.S. Representative       Missouri   \n",
      "1                                            NaN            NaN   \n",
      "2                            U.S. representative         Oregon   \n",
      "3  Member of the State Board of Higher Education         Oregon   \n",
      "4                                      President       Illinois   \n",
      "5                           Small business owner  New Hampshire   \n",
      "6                       Lawyer and state senator      Tennessee   \n",
      "7                                            NaN            NaN   \n",
      "8                         Presidential candidate       New York   \n",
      "9                                            NaN          Texas   \n",
      "\n",
      "  speaker_affiliation  barely_true_counts  false_counts  half_true_counts  \\\n",
      "0          republican                   1             0                 1   \n",
      "1                none                  11            43                 8   \n",
      "2            democrat                   0             1                 1   \n",
      "3                none                   0             1                 1   \n",
      "4            democrat                  70            71               160   \n",
      "5          republican                   1             1                 0   \n",
      "6            democrat                   0             0                 0   \n",
      "7                none                   4             5                 4   \n",
      "8            democrat                  40            29                69   \n",
      "9          republican                   3             1                 1   \n",
      "\n",
      "   mostly_true_counts  pants_on_fire_counts  \\\n",
      "0                   0                     0   \n",
      "1                   5                   105   \n",
      "2                   1                     0   \n",
      "3                   1                     0   \n",
      "4                 163                     9   \n",
      "5                   1                     0   \n",
      "6                   0                     0   \n",
      "7                   2                     0   \n",
      "8                  76                     7   \n",
      "9                   3                     1   \n",
      "\n",
      "                                             context  \n",
      "0                       an interview with ABC17 News  \n",
      "1                                                NaN  \n",
      "2                      a U.S. Ways and Means hearing  \n",
      "3                                 an opinion article  \n",
      "4                            interview with CBS News  \n",
      "5        in an interview at gun shop in Hudson, N.H.  \n",
      "6  a letter to state Senate education committee c...  \n",
      "7                                            a TV ad  \n",
      "8                      the first presidential debate  \n",
      "9                                          an e-mail  \n",
      "test dataset size:\n",
      "(1284, 14)\n",
      "           id        label                                          statement  \\\n",
      "0  12134.json  barely-true  We have less Americans working now than in the...   \n",
      "1    238.json   pants-fire  When Obama was sworn into office, he DID NOT u...   \n",
      "2   7891.json        false  Says Having organizations parading as being so...   \n",
      "3   8169.json    half-true     Says nearly half of Oregons children are poor.   \n",
      "4    929.json    half-true  On attacks by Republicans that various program...   \n",
      "5   9416.json        false  Says when armed civilians stop mass shootings ...   \n",
      "6   6861.json         true  Says Tennessee is providing millions of dollar...   \n",
      "7   1122.json        false  The health care reform plan would set limits s...   \n",
      "8  13138.json         true  Says Donald Trump started his career back in 1...   \n",
      "9   1880.json    half-true  Bill White has a long history of trying to lim...   \n",
      "\n",
      "                                  subject                 speaker  \\\n",
      "0                            economy,jobs          vicky-hartzler   \n",
      "1        obama-birth-certificate,religion             chain-email   \n",
      "2         campaign-finance,congress,taxes         earl-blumenauer   \n",
      "3                                 poverty         jim-francesconi   \n",
      "4                        economy,stimulus            barack-obama   \n",
      "5                                    guns              jim-rubens   \n",
      "6                  education,state-budget              andy-berke   \n",
      "7                             health-care             club-growth   \n",
      "8  candidates-biography,diversity,housing         hillary-clinton   \n",
      "9                                military  republican-party-texas   \n",
      "\n",
      "                                     speaker_job  speaker_state  \\\n",
      "0                            U.S. Representative       Missouri   \n",
      "1                                            NaN            NaN   \n",
      "2                            U.S. representative         Oregon   \n",
      "3  Member of the State Board of Higher Education         Oregon   \n",
      "4                                      President       Illinois   \n",
      "5                           Small business owner  New Hampshire   \n",
      "6                       Lawyer and state senator      Tennessee   \n",
      "7                                            NaN            NaN   \n",
      "8                         Presidential candidate       New York   \n",
      "9                                            NaN          Texas   \n",
      "\n",
      "  speaker_affiliation  barely_true_counts  false_counts  half_true_counts  \\\n",
      "0          republican                   1             0                 1   \n",
      "1                none                  11            43                 8   \n",
      "2            democrat                   0             1                 1   \n",
      "3                none                   0             1                 1   \n",
      "4            democrat                  70            71               160   \n",
      "5          republican                   1             1                 0   \n",
      "6            democrat                   0             0                 0   \n",
      "7                none                   4             5                 4   \n",
      "8            democrat                  40            29                69   \n",
      "9          republican                   3             1                 1   \n",
      "\n",
      "   mostly_true_counts  pants_on_fire_counts  \\\n",
      "0                   0                     0   \n",
      "1                   5                   105   \n",
      "2                   1                     0   \n",
      "3                   1                     0   \n",
      "4                 163                     9   \n",
      "5                   1                     0   \n",
      "6                   0                     0   \n",
      "7                   2                     0   \n",
      "8                  76                     7   \n",
      "9                   3                     1   \n",
      "\n",
      "                                             context  \n",
      "0                       an interview with ABC17 News  \n",
      "1                                                NaN  \n",
      "2                      a U.S. Ways and Means hearing  \n",
      "3                                 an opinion article  \n",
      "4                            interview with CBS News  \n",
      "5        in an interview at gun shop in Hudson, N.H.  \n",
      "6  a letter to state Senate education committee c...  \n",
      "7                                            a TV ad  \n",
      "8                      the first presidential debate  \n",
      "9                                          an e-mail  \n"
     ]
    }
   ],
   "source": [
    "data_obs()"
   ]
  },
  {
   "cell_type": "code",
   "execution_count": 103,
   "metadata": {},
   "outputs": [],
   "source": [
    "#distribution of classes for prediction\n",
    "def create_distribution(dataFile):\n",
    "    \n",
    "    return sn.countplot(x='label', data=dataFile, palette='hls')"
   ]
  },
  {
   "cell_type": "code",
   "execution_count": 104,
   "metadata": {},
   "outputs": [
    {
     "data": {
      "text/plain": [
       "<matplotlib.axes._subplots.AxesSubplot at 0x11d9f4550>"
      ]
     },
     "execution_count": 104,
     "metadata": {},
     "output_type": "execute_result"
    },
    {
     "data": {
      "image/png": "[encoded data removed]",
      "text/plain": [
       "<Figure size 432x288 with 1 Axes>"
      ]
     },
     "metadata": {
      "needs_background": "light"
     },
     "output_type": "display_data"
    }
   ],
   "source": [
    "#by calling below we can see that training, test and valid data seems to be failry evenly distributed between the classes\n",
    "create_distribution(train_data)\n",
    "create_distribution(test_data)\n",
    "create_distribution(val_data)"
   ]
  },
  {
   "cell_type": "code",
   "execution_count": 105,
   "metadata": {},
   "outputs": [
    {
     "name": "stdout",
     "output_type": "stream",
     "text": [
      "<class 'pandas.core.frame.DataFrame'>\n",
      "RangeIndex: 10240 entries, 0 to 10239\n",
      "Data columns (total 14 columns):\n",
      " #   Column                Non-Null Count  Dtype  \n",
      "---  ------                --------------  -----  \n",
      " 0   id                    10240 non-null  object \n",
      " 1   label                 10240 non-null  object \n",
      " 2   statement             10240 non-null  object \n",
      " 3   subject               10238 non-null  object \n",
      " 4   speaker               10238 non-null  object \n",
      " 5   speaker_job           7343 non-null   object \n",
      " 6   speaker_state         8032 non-null   object \n",
      " 7   speaker_affiliation   10238 non-null  object \n",
      " 8   barely_true_counts    10238 non-null  float64\n",
      " 9   false_counts          10238 non-null  float64\n",
      " 10  half_true_counts      10238 non-null  float64\n",
      " 11  mostly_true_counts    10238 non-null  float64\n",
      " 12  pants_on_fire_counts  10238 non-null  float64\n",
      " 13  context               10138 non-null  object \n",
      "dtypes: float64(5), object(9)\n",
      "memory usage: 1.1+ MB\n"
     ]
    }
   ],
   "source": [
    "train_data.info()"
   ]
  },
  {
   "cell_type": "code",
   "execution_count": 106,
   "metadata": {},
   "outputs": [
    {
     "name": "stdout",
     "output_type": "stream",
     "text": [
      "half-true      2114\n",
      "false          1995\n",
      "mostly-true    1962\n",
      "true           1676\n",
      "barely-true    1654\n",
      "pants-fire      839\n",
      "Name: label, dtype: int64\n",
      "false          263\n",
      "mostly-true    251\n",
      "half-true      248\n",
      "barely-true    237\n",
      "true           169\n",
      "pants-fire     116\n",
      "Name: label, dtype: int64\n",
      "false          263\n",
      "mostly-true    251\n",
      "half-true      248\n",
      "barely-true    237\n",
      "true           169\n",
      "pants-fire     116\n",
      "Name: label, dtype: int64\n"
     ]
    }
   ],
   "source": [
    "print(train_data['label'].value_counts())\n",
    "print(val_data['label'].value_counts())\n",
    "print(test_data['label'].value_counts())\n",
    "# Mapping of lables\n",
    "# True -- True\n",
    "# Mostly-true -- True\n",
    "# Half-true -- True\n",
    "# Barely-true -- False\n",
    "# False -- False\n",
    "# Pants-fire -- False"
   ]
  },
  {
   "cell_type": "code",
   "execution_count": 107,
   "metadata": {},
   "outputs": [],
   "source": [
    "def map_lables(train,test,val):\n",
    "    labels_dict = {'true': 'true','mostly-true': 'true',\n",
    "                   'half-true':'true', 'false':'false', \n",
    "                   'barely-true':'false','pants-fire':'false'}\n",
    "    \n",
    "    train= train.replace({\"label\": labels_dict})[['label','statement']]\n",
    "    test = test.replace({\"label\": labels_dict})[['label','statement']]\n",
    "    val = val.replace({\"label\": labels_dict})[['label','statement']]\n",
    "    display(train.head(3), test.head(3), val.head(3))\n",
    "    \n",
    "    return train, test, val  "
   ]
  },
  {
   "cell_type": "code",
   "execution_count": 108,
   "metadata": {},
   "outputs": [
    {
     "data": {
      "text/html": [
       "<div>\n",
       "<style scoped>\n",
       "    .dataframe tbody tr th:only-of-type {\n",
       "        vertical-align: middle;\n",
       "    }\n",
       "\n",
       "    .dataframe tbody tr th {\n",
       "        vertical-align: top;\n",
       "    }\n",
       "\n",
       "    .dataframe thead th {\n",
       "        text-align: right;\n",
       "    }\n",
       "</style>\n",
       "<table border=\"1\" class=\"dataframe\">\n",
       "  <thead>\n",
       "    <tr style=\"text-align: right;\">\n",
       "      <th></th>\n",
       "      <th>label</th>\n",
       "      <th>statement</th>\n",
       "    </tr>\n",
       "  </thead>\n",
       "  <tbody>\n",
       "    <tr>\n",
       "      <th>0</th>\n",
       "      <td>false</td>\n",
       "      <td>Says the Annies List political group supports ...</td>\n",
       "    </tr>\n",
       "    <tr>\n",
       "      <th>1</th>\n",
       "      <td>true</td>\n",
       "      <td>When did the decline of coal start? It started...</td>\n",
       "    </tr>\n",
       "    <tr>\n",
       "      <th>2</th>\n",
       "      <td>true</td>\n",
       "      <td>Hillary Clinton agrees with John McCain \"by vo...</td>\n",
       "    </tr>\n",
       "  </tbody>\n",
       "</table>\n",
       "</div>"
      ],
      "text/plain": [
       "   label                                          statement\n",
       "0  false  Says the Annies List political group supports ...\n",
       "1   true  When did the decline of coal start? It started...\n",
       "2   true  Hillary Clinton agrees with John McCain \"by vo..."
      ]
     },
     "metadata": {},
     "output_type": "display_data"
    },
    {
     "data": {
      "text/html": [
       "<div>\n",
       "<style scoped>\n",
       "    .dataframe tbody tr th:only-of-type {\n",
       "        vertical-align: middle;\n",
       "    }\n",
       "\n",
       "    .dataframe tbody tr th {\n",
       "        vertical-align: top;\n",
       "    }\n",
       "\n",
       "    .dataframe thead th {\n",
       "        text-align: right;\n",
       "    }\n",
       "</style>\n",
       "<table border=\"1\" class=\"dataframe\">\n",
       "  <thead>\n",
       "    <tr style=\"text-align: right;\">\n",
       "      <th></th>\n",
       "      <th>label</th>\n",
       "      <th>statement</th>\n",
       "    </tr>\n",
       "  </thead>\n",
       "  <tbody>\n",
       "    <tr>\n",
       "      <th>0</th>\n",
       "      <td>false</td>\n",
       "      <td>We have less Americans working now than in the...</td>\n",
       "    </tr>\n",
       "    <tr>\n",
       "      <th>1</th>\n",
       "      <td>false</td>\n",
       "      <td>When Obama was sworn into office, he DID NOT u...</td>\n",
       "    </tr>\n",
       "    <tr>\n",
       "      <th>2</th>\n",
       "      <td>false</td>\n",
       "      <td>Says Having organizations parading as being so...</td>\n",
       "    </tr>\n",
       "  </tbody>\n",
       "</table>\n",
       "</div>"
      ],
      "text/plain": [
       "   label                                          statement\n",
       "0  false  We have less Americans working now than in the...\n",
       "1  false  When Obama was sworn into office, he DID NOT u...\n",
       "2  false  Says Having organizations parading as being so..."
      ]
     },
     "metadata": {},
     "output_type": "display_data"
    },
    {
     "data": {
      "text/html": [
       "<div>\n",
       "<style scoped>\n",
       "    .dataframe tbody tr th:only-of-type {\n",
       "        vertical-align: middle;\n",
       "    }\n",
       "\n",
       "    .dataframe tbody tr th {\n",
       "        vertical-align: top;\n",
       "    }\n",
       "\n",
       "    .dataframe thead th {\n",
       "        text-align: right;\n",
       "    }\n",
       "</style>\n",
       "<table border=\"1\" class=\"dataframe\">\n",
       "  <thead>\n",
       "    <tr style=\"text-align: right;\">\n",
       "      <th></th>\n",
       "      <th>label</th>\n",
       "      <th>statement</th>\n",
       "    </tr>\n",
       "  </thead>\n",
       "  <tbody>\n",
       "    <tr>\n",
       "      <th>0</th>\n",
       "      <td>false</td>\n",
       "      <td>We have less Americans working now than in the...</td>\n",
       "    </tr>\n",
       "    <tr>\n",
       "      <th>1</th>\n",
       "      <td>false</td>\n",
       "      <td>When Obama was sworn into office, he DID NOT u...</td>\n",
       "    </tr>\n",
       "    <tr>\n",
       "      <th>2</th>\n",
       "      <td>false</td>\n",
       "      <td>Says Having organizations parading as being so...</td>\n",
       "    </tr>\n",
       "  </tbody>\n",
       "</table>\n",
       "</div>"
      ],
      "text/plain": [
       "   label                                          statement\n",
       "0  false  We have less Americans working now than in the...\n",
       "1  false  When Obama was sworn into office, he DID NOT u...\n",
       "2  false  Says Having organizations parading as being so..."
      ]
     },
     "metadata": {},
     "output_type": "display_data"
    }
   ],
   "source": [
    "train_news, test_news, val_news = map_lables(train_data,test_data,val_data)"
   ]
  },
  {
   "cell_type": "code",
   "execution_count": 109,
   "metadata": {
    "scrolled": true
   },
   "outputs": [],
   "source": [
    "# train_news.to_csv('train.csv', index=False)\n",
    "# val_news.to_csv('val.csv', index=False)\n",
    "# test_news.to_csv('test.csv', index=False)                          "
   ]
  },
  {
   "cell_type": "code",
   "execution_count": 120,
   "metadata": {},
   "outputs": [],
   "source": [
    "#data integrity check (missing label values)\n",
    "#none of the datasets contains missing values therefore no cleaning required\n",
    "def data_qualityCheck():\n",
    "    \n",
    "    print(\"Checking train data qualitites...\")\n",
    "    train_news.isnull().sum()\n",
    "    train_news.info()\n",
    "        \n",
    "    print(\"check finished...\")\n",
    "    print()\n",
    "\n",
    "    print(\"Checking test data qualitites...\")\n",
    "    test_news.isnull().sum()\n",
    "    test_news.info()\n",
    "    print(\"check finished...\")\n",
    "    print()\n",
    "    \n",
    "    print(\"Checking validation data qualitites...\")\n",
    "    val_news.isnull().sum()\n",
    "    val_news.info()"
   ]
  },
  {
   "cell_type": "code",
   "execution_count": 124,
   "metadata": {},
   "outputs": [
    {
     "data": {
      "text/plain": [
       "<matplotlib.axes._subplots.AxesSubplot at 0x11dacf610>"
      ]
     },
     "execution_count": 124,
     "metadata": {},
     "output_type": "execute_result"
    },
    {
     "data": {
      "image/png": "[encoded data removed]",
      "text/plain": [
       "<Figure size 432x288 with 1 Axes>"
      ]
     },
     "metadata": {
      "needs_background": "light"
     },
     "output_type": "display_data"
    }
   ],
   "source": [
    "#by calling below we can see that training, test and valid data seems to be failry evenly distributed between the classes\n",
    "create_distribution(train_news)"
   ]
  },
  {
   "cell_type": "code",
   "execution_count": 125,
   "metadata": {},
   "outputs": [
    {
     "data": {
      "text/plain": [
       "<matplotlib.axes._subplots.AxesSubplot at 0x11b9f54c0>"
      ]
     },
     "execution_count": 125,
     "metadata": {},
     "output_type": "execute_result"
    },
    {
     "data": {
      "image/png": "[encoded data removed]",
      "text/plain": [
       "<Figure size 432x288 with 1 Axes>"
      ]
     },
     "metadata": {
      "needs_background": "light"
     },
     "output_type": "display_data"
    }
   ],
   "source": [
    "create_distribution(test_news)"
   ]
  },
  {
   "cell_type": "code",
   "execution_count": 126,
   "metadata": {},
   "outputs": [
    {
     "data": {
      "text/plain": [
       "<matplotlib.axes._subplots.AxesSubplot at 0x11ba4f040>"
      ]
     },
     "execution_count": 126,
     "metadata": {},
     "output_type": "execute_result"
    },
    {
     "data": {
      "image/png": "[encoded data removed]",
      "text/plain": [
       "<Figure size 432x288 with 1 Axes>"
      ]
     },
     "metadata": {
      "needs_background": "light"
     },
     "output_type": "display_data"
    }
   ],
   "source": [
    "create_distribution(val_news)"
   ]
  },
  {
   "cell_type": "code",
   "execution_count": 121,
   "metadata": {},
   "outputs": [
    {
     "name": "stdout",
     "output_type": "stream",
     "text": [
      "Checking train data qualitites...\n",
      "<class 'pandas.core.frame.DataFrame'>\n",
      "RangeIndex: 10240 entries, 0 to 10239\n",
      "Data columns (total 2 columns):\n",
      " #   Column     Non-Null Count  Dtype \n",
      "---  ------     --------------  ----- \n",
      " 0   label      10240 non-null  object\n",
      " 1   statement  10240 non-null  object\n",
      "dtypes: object(2)\n",
      "memory usage: 160.1+ KB\n",
      "check finished...\n",
      "\n",
      "Checking test data qualitites...\n",
      "<class 'pandas.core.frame.DataFrame'>\n",
      "RangeIndex: 1284 entries, 0 to 1283\n",
      "Data columns (total 2 columns):\n",
      " #   Column     Non-Null Count  Dtype \n",
      "---  ------     --------------  ----- \n",
      " 0   label      1284 non-null   object\n",
      " 1   statement  1284 non-null   object\n",
      "dtypes: object(2)\n",
      "memory usage: 20.2+ KB\n",
      "check finished...\n",
      "\n",
      "Checking validation data qualitites...\n",
      "<class 'pandas.core.frame.DataFrame'>\n",
      "RangeIndex: 1284 entries, 0 to 1283\n",
      "Data columns (total 2 columns):\n",
      " #   Column     Non-Null Count  Dtype \n",
      "---  ------     --------------  ----- \n",
      " 0   label      1284 non-null   object\n",
      " 1   statement  1284 non-null   object\n",
      "dtypes: object(2)\n",
      "memory usage: 20.2+ KB\n"
     ]
    }
   ],
   "source": [
    "data_qualityCheck()"
   ]
  },
  {
   "cell_type": "code",
   "execution_count": null,
   "metadata": {},
   "outputs": [],
   "source": [
    "# eng_stemmer = SnowballStemmer('english')\n",
    "# stopwords = set(nltk.corpus.stopwords.words('english'))\n",
    "\n",
    "# #Stemming\n",
    "# def stem_tokens(tokens, stemmer):\n",
    "#     stemmed = []\n",
    "#     for token in tokens:\n",
    "#         stemmed.append(stemmer.stem(token))\n",
    "#     return stemmed\n",
    "\n",
    "# #process the data\n",
    "# def process_data(data,exclude_stopword=True,stem=True):\n",
    "#     tokens = [w.lower() for w in data]\n",
    "#     tokens_stemmed = tokens\n",
    "#     tokens_stemmed = stem_tokens(tokens, eng_stemmer)\n",
    "#     tokens_stemmed = [w for w in tokens_stemmed if w not in stopwords ]\n",
    "#     return tokens_stemmed"
   ]
  }
 ],
 "metadata": {
  "kernelspec": {
   "display_name": "Python 3",
   "language": "python",
   "name": "python3"
  },
  "language_info": {
   "codemirror_mode": {
    "name": "ipython",
    "version": 3
   },
   "file_extension": ".py",
   "mimetype": "text/x-python",
   "name": "python",
   "nbconvert_exporter": "python",
   "pygments_lexer": "ipython3",
   "version": "3.8.3"
  }
 },
 "nbformat": 4,
 "nbformat_minor": 4
}
