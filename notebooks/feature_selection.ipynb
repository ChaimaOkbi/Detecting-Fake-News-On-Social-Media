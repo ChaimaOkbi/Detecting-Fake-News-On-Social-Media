{
 "cells": [
  {
   "cell_type": "code",
   "execution_count": 1,
   "metadata": {},
   "outputs": [
    {
     "name": "stderr",
     "output_type": "stream",
     "text": [
      "[nltk_data] Downloading package stopwords to\n",
      "[nltk_data]     /Users/kiranrawat/nltk_data...\n",
      "[nltk_data]   Package stopwords is already up-to-date!\n"
     ]
    }
   ],
   "source": [
    "import pandas as pd\n",
    "import numpy as np\n",
    "import string\n",
    "from sklearn.feature_extraction.text import CountVectorizer\n",
    "from sklearn.feature_extraction.text import TfidfTransformer\n",
    "from sklearn.feature_extraction.text import TfidfVectorizer\n",
    "from sklearn.pipeline import Pipeline\n",
    "from sklearn.naive_bayes import MultinomialNB\n",
    "from sklearn.metrics import classification_report,confusion_matrix\n",
    "import nltk\n",
    "import nltk.corpus \n",
    "from nltk.corpus import stopwords\n",
    "nltk.download('stopwords')\n",
    "from nltk.stem.snowball import SnowballStemmer\n",
    "from gensim.models.word2vec import Word2Vec"
   ]
  },
  {
   "cell_type": "code",
   "execution_count": 4,
   "metadata": {},
   "outputs": [],
   "source": [
    "train_news = pd.read_csv('../data/processed/train.csv')\n",
    "val_news = pd.read_csv('../data/processed/val.csv')\n",
    "test_news = pd.read_csv('../data/processed/test.csv')"
   ]
  },
  {
   "cell_type": "code",
   "execution_count": 5,
   "metadata": {},
   "outputs": [
    {
     "name": "stdout",
     "output_type": "stream",
     "text": [
      "====Label Distribution in Training Data ====\n",
      "True     5752\n",
      "False    4488\n",
      "Name: label, dtype: int64\n",
      "====Label Distribution in Validation Data ====\n",
      "True     668\n",
      "False    616\n",
      "Name: label, dtype: int64\n",
      "====Label Distribution in Test Data====\n",
      "True     714\n",
      "False    553\n",
      "Name: label, dtype: int64\n"
     ]
    }
   ],
   "source": [
    "print(\"====Label Distribution in Training Data ====\")\n",
    "print(train_news['label'].value_counts())\n",
    "print(\"====Label Distribution in Validation Data ====\")\n",
    "print(val_news['label'].value_counts())\n",
    "print(\"====Label Distribution in Test Data====\")\n",
    "print(test_news['label'].value_counts())"
   ]
  },
  {
   "cell_type": "markdown",
   "metadata": {},
   "source": [
    "By seeing the label's distribution, it seems like a balanced class. As number of 'True' and 'False' lables are kind of equally distributed in the dataset."
   ]
  },
  {
   "cell_type": "code",
   "execution_count": 6,
   "metadata": {},
   "outputs": [
    {
     "data": {
      "text/html": [
       "<div>\n",
       "<style scoped>\n",
       "    .dataframe tbody tr th:only-of-type {\n",
       "        vertical-align: middle;\n",
       "    }\n",
       "\n",
       "    .dataframe tbody tr th {\n",
       "        vertical-align: top;\n",
       "    }\n",
       "\n",
       "    .dataframe thead tr th {\n",
       "        text-align: left;\n",
       "    }\n",
       "\n",
       "    .dataframe thead tr:last-of-type th {\n",
       "        text-align: right;\n",
       "    }\n",
       "</style>\n",
       "<table border=\"1\" class=\"dataframe\">\n",
       "  <thead>\n",
       "    <tr>\n",
       "      <th></th>\n",
       "      <th colspan=\"4\" halign=\"left\">statement</th>\n",
       "    </tr>\n",
       "    <tr>\n",
       "      <th></th>\n",
       "      <th>count</th>\n",
       "      <th>unique</th>\n",
       "      <th>top</th>\n",
       "      <th>freq</th>\n",
       "    </tr>\n",
       "    <tr>\n",
       "      <th>label</th>\n",
       "      <th></th>\n",
       "      <th></th>\n",
       "      <th></th>\n",
       "      <th></th>\n",
       "    </tr>\n",
       "  </thead>\n",
       "  <tbody>\n",
       "    <tr>\n",
       "      <th>False</th>\n",
       "      <td>4488</td>\n",
       "      <td>4481</td>\n",
       "      <td>On changing the rules for filibusters on presi...</td>\n",
       "      <td>3</td>\n",
       "    </tr>\n",
       "    <tr>\n",
       "      <th>True</th>\n",
       "      <td>5752</td>\n",
       "      <td>5746</td>\n",
       "      <td>Says Mitt Romney flip-flopped on abortion.</td>\n",
       "      <td>2</td>\n",
       "    </tr>\n",
       "  </tbody>\n",
       "</table>\n",
       "</div>"
      ],
      "text/plain": [
       "      statement                                                               \n",
       "          count unique                                                top freq\n",
       "label                                                                         \n",
       "False      4488   4481  On changing the rules for filibusters on presi...    3\n",
       "True       5752   5746         Says Mitt Romney flip-flopped on abortion.    2"
      ]
     },
     "execution_count": 6,
     "metadata": {},
     "output_type": "execute_result"
    }
   ],
   "source": [
    "train_news.groupby('label').describe()"
   ]
  },
  {
   "cell_type": "markdown",
   "metadata": {},
   "source": [
    "from above information, we know that:\n",
    "\n",
    "1. About 44% of the statements are classified as a True.\n",
    "2. There are some duplicate messages, since the number of unique values lower than the count values of the text."
   ]
  },
  {
   "cell_type": "markdown",
   "metadata": {},
   "source": [
    "In the next part, lext check the length of each text messages to see whether it is correlated with the text classified as a True or False."
   ]
  },
  {
   "cell_type": "code",
   "execution_count": 7,
   "metadata": {},
   "outputs": [],
   "source": [
    "train_news['length'] = train_news['statement'].apply(len)"
   ]
  },
  {
   "cell_type": "code",
   "execution_count": 8,
   "metadata": {},
   "outputs": [
    {
     "data": {
      "text/plain": [
       "array([<matplotlib.axes._subplots.AxesSubplot object at 0x12691f9d0>,\n",
       "       <matplotlib.axes._subplots.AxesSubplot object at 0x1269e5e20>],\n",
       "      dtype=object)"
      ]
     },
     "execution_count": 8,
     "metadata": {},
     "output_type": "execute_result"
    },
    {
     "data": {
      "image/png": "[encoded data removed]",
      "text/plain": [
       "<Figure size 1080x432 with 2 Axes>"
      ]
     },
     "metadata": {
      "needs_background": "light"
     },
     "output_type": "display_data"
    }
   ],
   "source": [
    "train_news.hist(column='length',by='label',bins=60, figsize=(15,6))"
   ]
  },
  {
   "cell_type": "markdown",
   "metadata": {},
   "source": [
    "from above figure, we can see almost both True and False statements have length under 500."
   ]
  },
  {
   "cell_type": "code",
   "execution_count": 9,
   "metadata": {},
   "outputs": [],
   "source": [
    "def process_text(text):\n",
    "    '''\n",
    "    What will be covered:\n",
    "    1. Remove punctuation\n",
    "    2. Remove stopwords\n",
    "    3. Return list of clean text words\n",
    "    '''\n",
    "    \n",
    "    #1\n",
    "    nopunc = [char for char in text if char not in string.punctuation]\n",
    "    nopunc = ''.join(nopunc)\n",
    "    \n",
    "    #2\n",
    "    clean_words = [word for word in nopunc.split() if word.lower() not in stopwords.words('english')]\n",
    "    \n",
    "    #3\n",
    "    return clean_words"
   ]
  },
  {
   "cell_type": "code",
   "execution_count": 10,
   "metadata": {},
   "outputs": [
    {
     "data": {
      "text/plain": [
       "0    [Says, Annies, List, political, group, support...\n",
       "1    [decline, coal, start, started, natural, gas, ...\n",
       "2    [Hillary, Clinton, agrees, John, McCain, votin...\n",
       "3    [Health, care, reform, legislation, likely, ma...\n",
       "4           [economic, turnaround, started, end, term]\n",
       "Name: statement, dtype: object"
      ]
     },
     "execution_count": 10,
     "metadata": {},
     "output_type": "execute_result"
    }
   ],
   "source": [
    "train_news['statement'].apply(process_text).head()"
   ]
  },
  {
   "cell_type": "markdown",
   "metadata": {},
   "source": [
    "### CountVectorizer : \n",
    "\n",
    "It Convert a collection of text documents to a matrix of token counts.\n",
    "\n",
    "\n",
    "### TfidfTransformer : \n",
    "\n",
    "1. TF (Term Frequency): The number of times a word appears in a document divded by the total number of words in the document. Every document has its own term frequency.\n",
    "\n",
    "2. IDF (Inverse Data Frequency): The log of the number of documents divided by the number of documents that contain the word w. Inverse data frequency determines the weight of rare words across all documents in the corpus.\n",
    "\n",
    "3. Lastly, the TF-IDF is simply the TF multiplied by IDF.\n",
    "\n",
    "### Stemming: \n",
    "\n",
    "From Wikipedia, stemming is the process of reducing inflected (or sometimes derived) words to their word stem, base or root form. E.g. A stemming algorithm reduces the words “fishing”, “fished”, and “fisher” to the root word, “fish”.\n",
    "\n",
    "\n",
    "### APPLY STEMMING?"
   ]
  },
  {
   "cell_type": "code",
   "execution_count": 11,
   "metadata": {},
   "outputs": [
    {
     "data": {
      "text/plain": [
       "(10240, 14694)"
      ]
     },
     "execution_count": 11,
     "metadata": {},
     "output_type": "execute_result"
    }
   ],
   "source": [
    "count_vect = CountVectorizer(analyzer=process_text)\n",
    "X_train_counts = count_vect.fit_transform(train_news.statement)\n",
    "X_train_counts.shape"
   ]
  },
  {
   "cell_type": "markdown",
   "metadata": {},
   "source": [
    "Here by doing ‘count_vect.fit_transform(train_news.statement)’, we are learning the vocabulary dictionary and it returns a Document-Term matrix. [n_samples, n_features]"
   ]
  },
  {
   "cell_type": "code",
   "execution_count": 12,
   "metadata": {},
   "outputs": [
    {
     "name": "stdout",
     "output_type": "stream",
     "text": [
      "CountVectorizer(analyzer=<function process_text at 0x11ac8dca0>, binary=False,\n",
      "                decode_error='strict', dtype=<class 'numpy.int64'>,\n",
      "                encoding='utf-8', input='content', lowercase=True, max_df=1.0,\n",
      "                max_features=None, min_df=1, ngram_range=(1, 1),\n",
      "                preprocessor=None, stop_words=None, strip_accents=None,\n",
      "                token_pattern='(?u)\\\\b\\\\w\\\\w+\\\\b', tokenizer=None,\n",
      "                vocabulary=None)\n",
      "  (0, 4480)\t1\n",
      "  (0, 1168)\t1\n",
      "  (0, 3292)\t1\n",
      "  (0, 11437)\t1\n",
      "  (0, 9014)\t1\n",
      "  (0, 13467)\t1\n",
      "  (0, 13747)\t1\n",
      "  (0, 5396)\t1\n",
      "  (0, 7472)\t1\n",
      "  (1, 7386)\t1\n",
      "  (1, 6780)\t1\n",
      "  (1, 13218)\t1\n",
      "  (1, 13219)\t2\n",
      "  (1, 10660)\t1\n",
      "  (1, 8841)\t1\n",
      "  (1, 13828)\t1\n",
      "  (1, 6113)\t1\n",
      "  (1, 4098)\t1\n",
      "  (1, 2529)\t1\n",
      "  (1, 5172)\t1\n",
      "  (1, 1523)\t1\n",
      "  (1, 5513)\t1\n",
      "  (2, 2529)\t1\n",
      "  (2, 2759)\t1\n",
      "  (2, 1745)\t1\n",
      "  :\t:\n",
      "  (10237, 2498)\t1\n",
      "  (10237, 11151)\t1\n",
      "  (10237, 10932)\t1\n",
      "  (10238, 5074)\t1\n",
      "  (10238, 5665)\t1\n",
      "  (10238, 1907)\t1\n",
      "  (10238, 13934)\t1\n",
      "  (10238, 8024)\t1\n",
      "  (10238, 1908)\t1\n",
      "  (10238, 10075)\t1\n",
      "  (10239, 9877)\t1\n",
      "  (10239, 10082)\t1\n",
      "  (10239, 2051)\t1\n",
      "  (10239, 14284)\t1\n",
      "  (10239, 5143)\t1\n",
      "  (10239, 1062)\t1\n",
      "  (10239, 6866)\t1\n",
      "  (10239, 14258)\t1\n",
      "  (10239, 6847)\t1\n",
      "  (10239, 13427)\t1\n",
      "  (10239, 12015)\t1\n",
      "  (10239, 13640)\t1\n",
      "  (10239, 8075)\t1\n",
      "  (10239, 13367)\t1\n",
      "  (10239, 10272)\t1\n"
     ]
    }
   ],
   "source": [
    "print(count_vect)\n",
    "print(X_train_counts)"
   ]
  },
  {
   "cell_type": "code",
   "execution_count": 13,
   "metadata": {},
   "outputs": [
    {
     "data": {
      "text/plain": [
       "(10240, 14694)"
      ]
     },
     "execution_count": 13,
     "metadata": {},
     "output_type": "execute_result"
    }
   ],
   "source": [
    "tfidf_transformer = TfidfTransformer()\n",
    "X_train_tfidf = tfidf_transformer.fit_transform(X_train_counts)\n",
    "X_train_tfidf.shape"
   ]
  },
  {
   "cell_type": "code",
   "execution_count": 14,
   "metadata": {},
   "outputs": [
    {
     "name": "stdout",
     "output_type": "stream",
     "text": [
      "  (0, 13747)\t0.4111721462668922\n",
      "  (0, 13467)\t0.268763909950058\n",
      "  (0, 11437)\t0.288299097736884\n",
      "  (0, 9014)\t0.29572900100023347\n",
      "  (0, 7472)\t0.3487778612305985\n",
      "  (0, 5396)\t0.2913344923941701\n",
      "  (0, 4480)\t0.11315616700304243\n",
      "  (0, 3292)\t0.42942130476966167\n",
      "  (0, 1168)\t0.42942130476966167\n",
      "  (1, 13828)\t0.1992848257109974\n",
      "  (1, 13219)\t0.4969030230072441\n",
      "  (1, 13218)\t0.2798176297170201\n",
      "  (1, 10660)\t0.2739440793861925\n",
      "  (1, 8841)\t0.22394629275523875\n",
      "  (1, 7386)\t0.3062283783186632\n",
      "  (1, 6780)\t0.2758031142293708\n",
      "  (1, 6113)\t0.295266927264955\n",
      "  (1, 5513)\t0.20276327129406949\n",
      "  (1, 5172)\t0.24939236562772774\n",
      "  (1, 4098)\t0.16242753464879256\n",
      "  (1, 2529)\t0.21935004602848507\n",
      "  (1, 1523)\t0.2739440793861925\n",
      "  (2, 14363)\t0.2756773185579947\n",
      "  (2, 8899)\t0.26938879684469363\n",
      "  (2, 7809)\t0.39530812320324743\n",
      "  :\t:\n",
      "  (10237, 4480)\t0.08541385115156024\n",
      "  (10237, 2498)\t0.3005921835315536\n",
      "  (10237, 1869)\t0.18420294004003412\n",
      "  (10238, 13934)\t0.39490677491613024\n",
      "  (10238, 10075)\t0.43475306416516835\n",
      "  (10238, 8024)\t0.4237885664662053\n",
      "  (10238, 5665)\t0.3488034695202553\n",
      "  (10238, 5074)\t0.20595679303244496\n",
      "  (10238, 1908)\t0.41482991954064935\n",
      "  (10238, 1907)\t0.3731966507957674\n",
      "  (10239, 14284)\t0.21895186635845582\n",
      "  (10239, 14258)\t0.27655408867776893\n",
      "  (10239, 13640)\t0.27655408867776893\n",
      "  (10239, 13427)\t0.2666548294275707\n",
      "  (10239, 13367)\t0.3044585332464873\n",
      "  (10239, 12015)\t0.23749895916208144\n",
      "  (10239, 10272)\t0.31435779249668555\n",
      "  (10239, 10082)\t0.18286291515717296\n",
      "  (10239, 9877)\t0.19582484135319703\n",
      "  (10239, 8075)\t0.3044585332464873\n",
      "  (10239, 6866)\t0.23512488588235206\n",
      "  (10239, 6847)\t0.2666548294275707\n",
      "  (10239, 5143)\t0.2613504406966389\n",
      "  (10239, 2051)\t0.19888556118264783\n",
      "  (10239, 1062)\t0.28520192223119634\n"
     ]
    }
   ],
   "source": [
    "print(X_train_tfidf)"
   ]
  }
 ],
 "metadata": {
  "kernelspec": {
   "display_name": "Python 3",
   "language": "python",
   "name": "python3"
  },
  "language_info": {
   "codemirror_mode": {
    "name": "ipython",
    "version": 3
   },
   "file_extension": ".py",
   "mimetype": "text/x-python",
   "name": "python",
   "nbconvert_exporter": "python",
   "pygments_lexer": "ipython3",
   "version": "3.8.3"
  }
 },
 "nbformat": 4,
 "nbformat_minor": 4
}
