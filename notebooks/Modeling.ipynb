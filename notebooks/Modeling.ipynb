{
 "cells": [
  {
   "cell_type": "markdown",
   "metadata": {},
   "source": [
    "# Import necessary dependencies and settings"
   ]
  },
  {
   "cell_type": "code",
   "execution_count": 12,
   "metadata": {},
   "outputs": [],
   "source": [
    "import pandas as pd\n",
    "import numpy as np\n",
    "import string\n",
    "import logging\n",
    "import re\n",
    "\n",
    "from sklearn.preprocessing import LabelEncoder\n",
    "from sklearn.feature_extraction.text import CountVectorizer,TfidfVectorizer\n",
    "\n",
    "from sklearn.pipeline import Pipeline\n",
    "from sklearn.naive_bayes import MultinomialNB\n",
    "from sklearn.linear_model import  LogisticRegression\n",
    "from sklearn import svm\n",
    "from sklearn.ensemble import RandomForestClassifier\n",
    "from sklearn.model_selection import train_test_split\n",
    "from sklearn.metrics import classification_report, confusion_matrix, f1_score\n",
    "from sklearn.model_selection import KFold\n",
    "from sklearn.metrics import precision_recall_fscore_support\n",
    "\n",
    "from skopt import BayesSearchCV\n",
    "from skopt.callbacks import DeadlineStopper, VerboseCallback, DeltaXStopper\n",
    "\n",
    "import nltk\n",
    "import nltk.corpus \n",
    "from nltk.corpus import stopwords"
   ]
  },
  {
   "cell_type": "markdown",
   "metadata": {},
   "source": [
    "# Loading the Data"
   ]
  },
  {
   "cell_type": "code",
   "execution_count": 3,
   "metadata": {},
   "outputs": [],
   "source": [
    "train_news = pd.read_csv('../data/processed/train.csv')\n",
    "val_news = pd.read_csv('../data/processed/val.csv')\n",
    "test_news = pd.read_csv('../data/processed/test.csv')"
   ]
  },
  {
   "cell_type": "code",
   "execution_count": 4,
   "metadata": {},
   "outputs": [
    {
     "data": {
      "text/html": [
       "<div>\n",
       "<style scoped>\n",
       "    .dataframe tbody tr th:only-of-type {\n",
       "        vertical-align: middle;\n",
       "    }\n",
       "\n",
       "    .dataframe tbody tr th {\n",
       "        vertical-align: top;\n",
       "    }\n",
       "\n",
       "    .dataframe thead th {\n",
       "        text-align: right;\n",
       "    }\n",
       "</style>\n",
       "<table border=\"1\" class=\"dataframe\">\n",
       "  <thead>\n",
       "    <tr style=\"text-align: right;\">\n",
       "      <th></th>\n",
       "      <th>label</th>\n",
       "      <th>statement</th>\n",
       "      <th>len</th>\n",
       "    </tr>\n",
       "  </thead>\n",
       "  <tbody>\n",
       "    <tr>\n",
       "      <th>0</th>\n",
       "      <td>False</td>\n",
       "      <td>Says the Annies List political group supports ...</td>\n",
       "      <td>82</td>\n",
       "    </tr>\n",
       "    <tr>\n",
       "      <th>1</th>\n",
       "      <td>True</td>\n",
       "      <td>When did the decline of coal start? It started...</td>\n",
       "      <td>141</td>\n",
       "    </tr>\n",
       "    <tr>\n",
       "      <th>2</th>\n",
       "      <td>True</td>\n",
       "      <td>Hillary Clinton agrees with John McCain \"by vo...</td>\n",
       "      <td>105</td>\n",
       "    </tr>\n",
       "    <tr>\n",
       "      <th>3</th>\n",
       "      <td>False</td>\n",
       "      <td>Health care reform legislation is likely to ma...</td>\n",
       "      <td>78</td>\n",
       "    </tr>\n",
       "    <tr>\n",
       "      <th>4</th>\n",
       "      <td>True</td>\n",
       "      <td>The economic turnaround started at the end of ...</td>\n",
       "      <td>54</td>\n",
       "    </tr>\n",
       "    <tr>\n",
       "      <th>5</th>\n",
       "      <td>True</td>\n",
       "      <td>The Chicago Bears have had more starting quart...</td>\n",
       "      <td>155</td>\n",
       "    </tr>\n",
       "    <tr>\n",
       "      <th>6</th>\n",
       "      <td>False</td>\n",
       "      <td>Jim Dunnam has not lived in the district he re...</td>\n",
       "      <td>69</td>\n",
       "    </tr>\n",
       "    <tr>\n",
       "      <th>7</th>\n",
       "      <td>True</td>\n",
       "      <td>I'm the only person on this stage who has work...</td>\n",
       "      <td>159</td>\n",
       "    </tr>\n",
       "    <tr>\n",
       "      <th>8</th>\n",
       "      <td>True</td>\n",
       "      <td>However, it took $19.5 million in Oregon Lotte...</td>\n",
       "      <td>144</td>\n",
       "    </tr>\n",
       "    <tr>\n",
       "      <th>9</th>\n",
       "      <td>True</td>\n",
       "      <td>Says GOP primary opponents Glenn Grothman and ...</td>\n",
       "      <td>132</td>\n",
       "    </tr>\n",
       "    <tr>\n",
       "      <th>10</th>\n",
       "      <td>True</td>\n",
       "      <td>For the first time in history, the share of th...</td>\n",
       "      <td>116</td>\n",
       "    </tr>\n",
       "    <tr>\n",
       "      <th>11</th>\n",
       "      <td>True</td>\n",
       "      <td>Since 2000, nearly 12 million Americans have s...</td>\n",
       "      <td>94</td>\n",
       "    </tr>\n",
       "    <tr>\n",
       "      <th>12</th>\n",
       "      <td>False</td>\n",
       "      <td>When Mitt Romney was governor of Massachusetts...</td>\n",
       "      <td>124</td>\n",
       "    </tr>\n",
       "    <tr>\n",
       "      <th>13</th>\n",
       "      <td>True</td>\n",
       "      <td>The economy bled $24 billion due to the govern...</td>\n",
       "      <td>60</td>\n",
       "    </tr>\n",
       "    <tr>\n",
       "      <th>14</th>\n",
       "      <td>False</td>\n",
       "      <td>Most of the (Affordable Care Act) has already ...</td>\n",
       "      <td>95</td>\n",
       "    </tr>\n",
       "  </tbody>\n",
       "</table>\n",
       "</div>"
      ],
      "text/plain": [
       "    label                                          statement  len\n",
       "0   False  Says the Annies List political group supports ...   82\n",
       "1    True  When did the decline of coal start? It started...  141\n",
       "2    True  Hillary Clinton agrees with John McCain \"by vo...  105\n",
       "3   False  Health care reform legislation is likely to ma...   78\n",
       "4    True  The economic turnaround started at the end of ...   54\n",
       "5    True  The Chicago Bears have had more starting quart...  155\n",
       "6   False  Jim Dunnam has not lived in the district he re...   69\n",
       "7    True  I'm the only person on this stage who has work...  159\n",
       "8    True  However, it took $19.5 million in Oregon Lotte...  144\n",
       "9    True  Says GOP primary opponents Glenn Grothman and ...  132\n",
       "10   True  For the first time in history, the share of th...  116\n",
       "11   True  Since 2000, nearly 12 million Americans have s...   94\n",
       "12  False  When Mitt Romney was governor of Massachusetts...  124\n",
       "13   True  The economy bled $24 billion due to the govern...   60\n",
       "14  False  Most of the (Affordable Care Act) has already ...   95"
      ]
     },
     "execution_count": 4,
     "metadata": {},
     "output_type": "execute_result"
    }
   ],
   "source": [
    "train_news.head(15)"
   ]
  },
  {
   "cell_type": "code",
   "execution_count": 3,
   "metadata": {},
   "outputs": [
    {
     "data": {
      "text/html": [
       "<div>\n",
       "<style scoped>\n",
       "    .dataframe tbody tr th:only-of-type {\n",
       "        vertical-align: middle;\n",
       "    }\n",
       "\n",
       "    .dataframe tbody tr th {\n",
       "        vertical-align: top;\n",
       "    }\n",
       "\n",
       "    .dataframe thead th {\n",
       "        text-align: right;\n",
       "    }\n",
       "</style>\n",
       "<table border=\"1\" class=\"dataframe\">\n",
       "  <thead>\n",
       "    <tr style=\"text-align: right;\">\n",
       "      <th></th>\n",
       "      <th>label</th>\n",
       "      <th>statement</th>\n",
       "    </tr>\n",
       "  </thead>\n",
       "  <tbody>\n",
       "    <tr>\n",
       "      <th>0</th>\n",
       "      <td>False</td>\n",
       "      <td>Says the Annies List political group supports ...</td>\n",
       "    </tr>\n",
       "    <tr>\n",
       "      <th>1</th>\n",
       "      <td>True</td>\n",
       "      <td>When did the decline of coal start? It started...</td>\n",
       "    </tr>\n",
       "    <tr>\n",
       "      <th>2</th>\n",
       "      <td>True</td>\n",
       "      <td>Hillary Clinton agrees with John McCain \"by vo...</td>\n",
       "    </tr>\n",
       "    <tr>\n",
       "      <th>3</th>\n",
       "      <td>False</td>\n",
       "      <td>Health care reform legislation is likely to ma...</td>\n",
       "    </tr>\n",
       "    <tr>\n",
       "      <th>4</th>\n",
       "      <td>True</td>\n",
       "      <td>The economic turnaround started at the end of ...</td>\n",
       "    </tr>\n",
       "    <tr>\n",
       "      <th>...</th>\n",
       "      <td>...</td>\n",
       "      <td>...</td>\n",
       "    </tr>\n",
       "    <tr>\n",
       "      <th>10235</th>\n",
       "      <td>True</td>\n",
       "      <td>There are a larger number of shark attacks in ...</td>\n",
       "    </tr>\n",
       "    <tr>\n",
       "      <th>10236</th>\n",
       "      <td>True</td>\n",
       "      <td>Democrats have now become the party of the [At...</td>\n",
       "    </tr>\n",
       "    <tr>\n",
       "      <th>10237</th>\n",
       "      <td>True</td>\n",
       "      <td>Says an alternative to Social Security that op...</td>\n",
       "    </tr>\n",
       "    <tr>\n",
       "      <th>10238</th>\n",
       "      <td>False</td>\n",
       "      <td>On lifting the U.S. Cuban embargo and allowing...</td>\n",
       "    </tr>\n",
       "    <tr>\n",
       "      <th>10239</th>\n",
       "      <td>False</td>\n",
       "      <td>The Department of Veterans Affairs has a manua...</td>\n",
       "    </tr>\n",
       "  </tbody>\n",
       "</table>\n",
       "<p>10240 rows × 2 columns</p>\n",
       "</div>"
      ],
      "text/plain": [
       "       label                                          statement\n",
       "0      False  Says the Annies List political group supports ...\n",
       "1       True  When did the decline of coal start? It started...\n",
       "2       True  Hillary Clinton agrees with John McCain \"by vo...\n",
       "3      False  Health care reform legislation is likely to ma...\n",
       "4       True  The economic turnaround started at the end of ...\n",
       "...      ...                                                ...\n",
       "10235   True  There are a larger number of shark attacks in ...\n",
       "10236   True  Democrats have now become the party of the [At...\n",
       "10237   True  Says an alternative to Social Security that op...\n",
       "10238  False  On lifting the U.S. Cuban embargo and allowing...\n",
       "10239  False  The Department of Veterans Affairs has a manua...\n",
       "\n",
       "[10240 rows x 2 columns]"
      ]
     },
     "metadata": {},
     "output_type": "display_data"
    },
    {
     "data": {
      "text/html": [
       "<div>\n",
       "<style scoped>\n",
       "    .dataframe tbody tr th:only-of-type {\n",
       "        vertical-align: middle;\n",
       "    }\n",
       "\n",
       "    .dataframe tbody tr th {\n",
       "        vertical-align: top;\n",
       "    }\n",
       "\n",
       "    .dataframe thead th {\n",
       "        text-align: right;\n",
       "    }\n",
       "</style>\n",
       "<table border=\"1\" class=\"dataframe\">\n",
       "  <thead>\n",
       "    <tr style=\"text-align: right;\">\n",
       "      <th></th>\n",
       "      <th>label</th>\n",
       "      <th>statement</th>\n",
       "    </tr>\n",
       "  </thead>\n",
       "  <tbody>\n",
       "    <tr>\n",
       "      <th>0</th>\n",
       "      <td>True</td>\n",
       "      <td>Building a wall on the U.S.-Mexico border will...</td>\n",
       "    </tr>\n",
       "    <tr>\n",
       "      <th>1</th>\n",
       "      <td>False</td>\n",
       "      <td>Wisconsin is on pace to double the number of l...</td>\n",
       "    </tr>\n",
       "    <tr>\n",
       "      <th>2</th>\n",
       "      <td>False</td>\n",
       "      <td>Says John McCain has done nothing to help the ...</td>\n",
       "    </tr>\n",
       "    <tr>\n",
       "      <th>3</th>\n",
       "      <td>True</td>\n",
       "      <td>Suzanne Bonamici supports a plan that will cut...</td>\n",
       "    </tr>\n",
       "    <tr>\n",
       "      <th>4</th>\n",
       "      <td>False</td>\n",
       "      <td>When asked by a reporter whether hes at the ce...</td>\n",
       "    </tr>\n",
       "    <tr>\n",
       "      <th>...</th>\n",
       "      <td>...</td>\n",
       "      <td>...</td>\n",
       "    </tr>\n",
       "    <tr>\n",
       "      <th>1262</th>\n",
       "      <td>True</td>\n",
       "      <td>Says his budget provides the highest state fun...</td>\n",
       "    </tr>\n",
       "    <tr>\n",
       "      <th>1263</th>\n",
       "      <td>False</td>\n",
       "      <td>Ive been here almost every day.</td>\n",
       "    </tr>\n",
       "    <tr>\n",
       "      <th>1264</th>\n",
       "      <td>False</td>\n",
       "      <td>In the early 1980s, Sen. Edward Kennedy secret...</td>\n",
       "    </tr>\n",
       "    <tr>\n",
       "      <th>1265</th>\n",
       "      <td>False</td>\n",
       "      <td>Says an EPA permit languished under Strickland...</td>\n",
       "    </tr>\n",
       "    <tr>\n",
       "      <th>1266</th>\n",
       "      <td>False</td>\n",
       "      <td>Says the governor is going around the state ta...</td>\n",
       "    </tr>\n",
       "  </tbody>\n",
       "</table>\n",
       "<p>1267 rows × 2 columns</p>\n",
       "</div>"
      ],
      "text/plain": [
       "      label                                          statement\n",
       "0      True  Building a wall on the U.S.-Mexico border will...\n",
       "1     False  Wisconsin is on pace to double the number of l...\n",
       "2     False  Says John McCain has done nothing to help the ...\n",
       "3      True  Suzanne Bonamici supports a plan that will cut...\n",
       "4     False  When asked by a reporter whether hes at the ce...\n",
       "...     ...                                                ...\n",
       "1262   True  Says his budget provides the highest state fun...\n",
       "1263  False                    Ive been here almost every day.\n",
       "1264  False  In the early 1980s, Sen. Edward Kennedy secret...\n",
       "1265  False  Says an EPA permit languished under Strickland...\n",
       "1266  False  Says the governor is going around the state ta...\n",
       "\n",
       "[1267 rows x 2 columns]"
      ]
     },
     "metadata": {},
     "output_type": "display_data"
    },
    {
     "data": {
      "text/html": [
       "<div>\n",
       "<style scoped>\n",
       "    .dataframe tbody tr th:only-of-type {\n",
       "        vertical-align: middle;\n",
       "    }\n",
       "\n",
       "    .dataframe tbody tr th {\n",
       "        vertical-align: top;\n",
       "    }\n",
       "\n",
       "    .dataframe thead th {\n",
       "        text-align: right;\n",
       "    }\n",
       "</style>\n",
       "<table border=\"1\" class=\"dataframe\">\n",
       "  <thead>\n",
       "    <tr style=\"text-align: right;\">\n",
       "      <th></th>\n",
       "      <th>label</th>\n",
       "      <th>statement</th>\n",
       "    </tr>\n",
       "  </thead>\n",
       "  <tbody>\n",
       "    <tr>\n",
       "      <th>0</th>\n",
       "      <td>False</td>\n",
       "      <td>We have less Americans working now than in the...</td>\n",
       "    </tr>\n",
       "    <tr>\n",
       "      <th>1</th>\n",
       "      <td>False</td>\n",
       "      <td>When Obama was sworn into office, he DID NOT u...</td>\n",
       "    </tr>\n",
       "    <tr>\n",
       "      <th>2</th>\n",
       "      <td>False</td>\n",
       "      <td>Says Having organizations parading as being so...</td>\n",
       "    </tr>\n",
       "    <tr>\n",
       "      <th>3</th>\n",
       "      <td>True</td>\n",
       "      <td>Says nearly half of Oregons children are poor.</td>\n",
       "    </tr>\n",
       "    <tr>\n",
       "      <th>4</th>\n",
       "      <td>True</td>\n",
       "      <td>On attacks by Republicans that various program...</td>\n",
       "    </tr>\n",
       "    <tr>\n",
       "      <th>...</th>\n",
       "      <td>...</td>\n",
       "      <td>...</td>\n",
       "    </tr>\n",
       "    <tr>\n",
       "      <th>1279</th>\n",
       "      <td>True</td>\n",
       "      <td>For the first time in more than a decade, impo...</td>\n",
       "    </tr>\n",
       "    <tr>\n",
       "      <th>1280</th>\n",
       "      <td>True</td>\n",
       "      <td>Says Donald Trump has bankrupted his companies...</td>\n",
       "    </tr>\n",
       "    <tr>\n",
       "      <th>1281</th>\n",
       "      <td>True</td>\n",
       "      <td>John McCain and George Bush have \"absolutely n...</td>\n",
       "    </tr>\n",
       "    <tr>\n",
       "      <th>1282</th>\n",
       "      <td>False</td>\n",
       "      <td>A new poll shows 62 percent support the presid...</td>\n",
       "    </tr>\n",
       "    <tr>\n",
       "      <th>1283</th>\n",
       "      <td>False</td>\n",
       "      <td>No one claims the report vindicating New Jerse...</td>\n",
       "    </tr>\n",
       "  </tbody>\n",
       "</table>\n",
       "<p>1284 rows × 2 columns</p>\n",
       "</div>"
      ],
      "text/plain": [
       "      label                                          statement\n",
       "0     False  We have less Americans working now than in the...\n",
       "1     False  When Obama was sworn into office, he DID NOT u...\n",
       "2     False  Says Having organizations parading as being so...\n",
       "3      True     Says nearly half of Oregons children are poor.\n",
       "4      True  On attacks by Republicans that various program...\n",
       "...     ...                                                ...\n",
       "1279   True  For the first time in more than a decade, impo...\n",
       "1280   True  Says Donald Trump has bankrupted his companies...\n",
       "1281   True  John McCain and George Bush have \"absolutely n...\n",
       "1282  False  A new poll shows 62 percent support the presid...\n",
       "1283  False  No one claims the report vindicating New Jerse...\n",
       "\n",
       "[1284 rows x 2 columns]"
      ]
     },
     "metadata": {},
     "output_type": "display_data"
    },
    {
     "data": {
      "text/plain": [
       "(None, None, None)"
      ]
     },
     "execution_count": 3,
     "metadata": {},
     "output_type": "execute_result"
    }
   ],
   "source": [
    "display(train_news), display(test_news), display(val_news)"
   ]
  },
  {
   "cell_type": "markdown",
   "metadata": {},
   "source": [
    "## Merging train & val data for K-Fold"
   ]
  },
  {
   "cell_type": "code",
   "execution_count": 5,
   "metadata": {},
   "outputs": [],
   "source": [
    "\"\"\"\n",
    "Merging the training and validation data together, so that I can peroform k-fold cross validation \n",
    "and shuffle the data to reduce the bias.\n",
    "\"\"\"\n",
    "labelEncoder = LabelEncoder()\n",
    "frames = [train_news, val_news]\n",
    "train_val = pd.concat(frames)\n",
    "train_val['label'].value_counts()\n",
    "train_val['label'] = labelEncoder.fit_transform(train_val['label'])"
   ]
  },
  {
   "cell_type": "code",
   "execution_count": 6,
   "metadata": {},
   "outputs": [
    {
     "data": {
      "text/html": [
       "<div>\n",
       "<style scoped>\n",
       "    .dataframe tbody tr th:only-of-type {\n",
       "        vertical-align: middle;\n",
       "    }\n",
       "\n",
       "    .dataframe tbody tr th {\n",
       "        vertical-align: top;\n",
       "    }\n",
       "\n",
       "    .dataframe thead th {\n",
       "        text-align: right;\n",
       "    }\n",
       "</style>\n",
       "<table border=\"1\" class=\"dataframe\">\n",
       "  <thead>\n",
       "    <tr style=\"text-align: right;\">\n",
       "      <th></th>\n",
       "      <th>label</th>\n",
       "      <th>statement</th>\n",
       "      <th>len</th>\n",
       "    </tr>\n",
       "  </thead>\n",
       "  <tbody>\n",
       "    <tr>\n",
       "      <th>0</th>\n",
       "      <td>0</td>\n",
       "      <td>Says the Annies List political group supports ...</td>\n",
       "      <td>82.0</td>\n",
       "    </tr>\n",
       "    <tr>\n",
       "      <th>1</th>\n",
       "      <td>1</td>\n",
       "      <td>When did the decline of coal start? It started...</td>\n",
       "      <td>141.0</td>\n",
       "    </tr>\n",
       "    <tr>\n",
       "      <th>2</th>\n",
       "      <td>1</td>\n",
       "      <td>Hillary Clinton agrees with John McCain \"by vo...</td>\n",
       "      <td>105.0</td>\n",
       "    </tr>\n",
       "    <tr>\n",
       "      <th>3</th>\n",
       "      <td>0</td>\n",
       "      <td>Health care reform legislation is likely to ma...</td>\n",
       "      <td>78.0</td>\n",
       "    </tr>\n",
       "    <tr>\n",
       "      <th>4</th>\n",
       "      <td>1</td>\n",
       "      <td>The economic turnaround started at the end of ...</td>\n",
       "      <td>54.0</td>\n",
       "    </tr>\n",
       "    <tr>\n",
       "      <th>...</th>\n",
       "      <td>...</td>\n",
       "      <td>...</td>\n",
       "      <td>...</td>\n",
       "    </tr>\n",
       "    <tr>\n",
       "      <th>1279</th>\n",
       "      <td>1</td>\n",
       "      <td>For the first time in more than a decade, impo...</td>\n",
       "      <td>NaN</td>\n",
       "    </tr>\n",
       "    <tr>\n",
       "      <th>1280</th>\n",
       "      <td>1</td>\n",
       "      <td>Says Donald Trump has bankrupted his companies...</td>\n",
       "      <td>NaN</td>\n",
       "    </tr>\n",
       "    <tr>\n",
       "      <th>1281</th>\n",
       "      <td>1</td>\n",
       "      <td>John McCain and George Bush have \"absolutely n...</td>\n",
       "      <td>NaN</td>\n",
       "    </tr>\n",
       "    <tr>\n",
       "      <th>1282</th>\n",
       "      <td>0</td>\n",
       "      <td>A new poll shows 62 percent support the presid...</td>\n",
       "      <td>NaN</td>\n",
       "    </tr>\n",
       "    <tr>\n",
       "      <th>1283</th>\n",
       "      <td>0</td>\n",
       "      <td>No one claims the report vindicating New Jerse...</td>\n",
       "      <td>NaN</td>\n",
       "    </tr>\n",
       "  </tbody>\n",
       "</table>\n",
       "<p>11520 rows × 3 columns</p>\n",
       "</div>"
      ],
      "text/plain": [
       "      label                                          statement    len\n",
       "0         0  Says the Annies List political group supports ...   82.0\n",
       "1         1  When did the decline of coal start? It started...  141.0\n",
       "2         1  Hillary Clinton agrees with John McCain \"by vo...  105.0\n",
       "3         0  Health care reform legislation is likely to ma...   78.0\n",
       "4         1  The economic turnaround started at the end of ...   54.0\n",
       "...     ...                                                ...    ...\n",
       "1279      1  For the first time in more than a decade, impo...    NaN\n",
       "1280      1  Says Donald Trump has bankrupted his companies...    NaN\n",
       "1281      1  John McCain and George Bush have \"absolutely n...    NaN\n",
       "1282      0  A new poll shows 62 percent support the presid...    NaN\n",
       "1283      0  No one claims the report vindicating New Jerse...    NaN\n",
       "\n",
       "[11520 rows x 3 columns]"
      ]
     },
     "execution_count": 6,
     "metadata": {},
     "output_type": "execute_result"
    }
   ],
   "source": [
    "train_val"
   ]
  },
  {
   "cell_type": "code",
   "execution_count": 8,
   "metadata": {},
   "outputs": [],
   "source": [
    "def process_text(text):\n",
    "    '''\n",
    "    What will be covered:\n",
    "    1. Lower case and remove special characters\\whitespaces\n",
    "    1. Remove punctuation\n",
    "    2. Remove stopwords\n",
    "    3. Return list of clean text words\n",
    "    '''\n",
    "    #1  \n",
    "    text = re.sub(r'[^a-zA-Z\\s]', '', text, re.I|re.A)\n",
    "    \n",
    "    #2\n",
    "    nopunc = [char for char in text if char not in string.punctuation]\n",
    "    nopunc = ''.join(nopunc)\n",
    "    \n",
    "    #3\n",
    "    clean_words = [word for word in nopunc.split() if word.lower() not in stopwords.words('english')]\n",
    "    \n",
    "    #4\n",
    "    return clean_words"
   ]
  },
  {
   "cell_type": "markdown",
   "metadata": {},
   "source": [
    "## Feature Weighting\n",
    "\n",
    "Not all words are equally important to a particular document / category. For example, while words like ‘murder’, ‘knife’ and ‘abduction’ are important to a crime related document, words like ‘news’ and ‘reporter’ may not be quite as important. \n",
    "\n",
    "### Binary Weighting\n",
    "The most basic form of feature weighting, is binary weighting. Where if a word is present in a document, the weight is ‘1’ and if the word is absent the weight is ‘0’. \n",
    "\n",
    "### CountVectorizer\n",
    "\n",
    "It Convert a collection of text documents to a matrix of token counts.\n",
    "\n",
    "\n",
    "### Tfidf Weighting \n",
    "\n",
    "TF-IDF weighting where words that are unique to a particular document would have higher weights compared to words that are used commonly across documents. \n",
    "\n",
    "1. TF (Term Frequency): The number of times a word appears in a document divded by the total number of words in the document. Every document has its own term frequency.\n",
    "\n",
    "2. IDF (Inverse Data Frequency): The log of the number of documents divided by the number of documents that contain the word w. Inverse data frequency determines the weight of rare words across all documents in the corpus.\n",
    "\n",
    "3. Lastly, the TF-IDF is simply the TF multiplied by IDF."
   ]
  },
  {
   "cell_type": "code",
   "execution_count": 9,
   "metadata": {},
   "outputs": [],
   "source": [
    "logging.basicConfig(format='%(asctime)s : %(levelname)s : %(message)s', level=logging.INFO)\n",
    "\n",
    "def extract_features(field,training_data,testing_data,type):\n",
    "    \"\"\"Extract features using different methods\"\"\"\n",
    "    \n",
    "    logging.info(\"Extracting features and creating vocabulary...\")\n",
    "    \n",
    "    if \"binary\" in type:\n",
    "        \n",
    "        # BINARY FEATURE REPRESENTATION\n",
    "        cv= CountVectorizer(binary=True, max_df=0.95, analyzer=process_text)\n",
    "        cv.fit_transform(training_data.values)\n",
    "        \n",
    "        train_feature_set=cv.transform(training_data.values)\n",
    "        test_feature_set=cv.transform(testing_data.values)\n",
    "        \n",
    "        return train_feature_set,test_feature_set,cv\n",
    "  \n",
    "    elif \"counts\" in type:\n",
    "        \n",
    "        # COUNT BASED FEATURE REPRESENTATION\n",
    "        cv= CountVectorizer(binary=False, max_df=0.95, analyzer=process_text)\n",
    "        cv.fit_transform(training_data.values)\n",
    "        \n",
    "        train_feature_set=cv.transform(training_data.values)\n",
    "        test_feature_set=cv.transform(testing_data.values)\n",
    "        \n",
    "        return train_feature_set,test_feature_set,cv\n",
    "    \n",
    "    else:    \n",
    "        \n",
    "        # TF-IDF BASED FEATURE REPRESENTATION\n",
    "        tfidf_vectorizer=TfidfVectorizer(use_idf=True, max_df=0.95, analyzer=process_text)\n",
    "        tfidf_vectorizer.fit_transform(training_data.values)\n",
    "        \n",
    "        train_feature_set=tfidf_vectorizer.transform(training_data.values)\n",
    "        test_feature_set=tfidf_vectorizer.transform(testing_data.values)\n",
    "        \n",
    "        return train_feature_set,test_feature_set,tfidf_vectorizer"
   ]
  },
  {
   "cell_type": "code",
   "execution_count": 10,
   "metadata": {},
   "outputs": [],
   "source": [
    "def train_model(classifier, train_val, field=\"statement\",feature_rep=\"binary\"):\n",
    "    \"\"\"\n",
    "    Training the classifier for the provided features.\n",
    "    \"\"\"\n",
    "    \n",
    "    logging.info(\"Starting model training...\")\n",
    "    \n",
    "    scores = []\n",
    "    confusion = np.array([[0,0],[0,0]])\n",
    "    \n",
    "    # GET A TRAIN TEST SPLIT (set seed for consistent results)\n",
    "    training_data, testing_data = train_test_split(train_val,random_state = 2000,)\n",
    "\n",
    "    # features\n",
    "    X_train=training_data['statement']\n",
    "    X_test=testing_data['statement']\n",
    "    \n",
    "    # GET LABELS\n",
    "    Y_train=training_data['label'].values\n",
    "    Y_test=testing_data['label'].values\n",
    "     \n",
    "    # GET FEATURES\n",
    "    train_features,test_features,feature_transformer=extract_features(field,X_train,X_test,type=feature_rep)\n",
    "\n",
    "    # INIT LOGISTIC REGRESSION CLASSIFIER\n",
    "    logging.info(\"Training a Classification Model...\")\n",
    "#     scikit_log_reg = LogisticRegression(verbose=1, solver='liblinear',random_state=0, C=5, penalty='l2',max_iter=1000)\n",
    "    model=classifier.fit(train_features,Y_train)\n",
    "\n",
    "    # GET PREDICTIONS\n",
    "    predictions = model.predict(test_features)\n",
    "    \n",
    "    # GET EVALUATION NUMBERS ON TEST SET -- HOW DID WE DO?\n",
    "    logging.info(\"Starting evaluation...\")\n",
    "    score = f1_score(Y_test,predictions)\n",
    "    print(classification_report(Y_test,predictions))\n",
    "    print(confusion_matrix(Y_test,predictions))\n",
    "    logging.info(\"Done training and evaluation.\")\n",
    "    \n",
    "    return model,feature_transformer,score\n"
   ]
  },
  {
   "cell_type": "markdown",
   "metadata": {},
   "source": [
    "## Metric\n",
    "\n",
    "I need to minimize false positives (number of fake news predicted as real news) as it can be very misleadling . For class 0 i.e. 'fake', recall should be high as well as precision. Because we want our model to perform well on both classes (real & fake). In short, we need to maximize f1-score.\n",
    "\n",
    "### Cases I considered to choose the right metric\n",
    "\n",
    "**1. Maximizing recall of class 0 (fake) or minimizing false positives(FP)?**\n",
    "Well, in extreme case, what if all the news predicted by model are labelled as 'fake'. Recall will still be 1, but overall model is really bad i.e. not able to predict class 1 ('real'). \n",
    "\n",
    "Ex=> TN = 553, FP = 0, TP = 0, FN = 714\n",
    "\n",
    "Class0-Recall = TN / (TN + FP) = 1\n",
    "Class0-Precision = TN / (TN + FN) = 0.43\n",
    "\n",
    "F1-Score = 2 * Class0-Recall * Class0-Precision/(Class0-Recall + Class0-Precision) = 0.60\n",
    "\n",
    "Recall, Precision and F1-score for class 1 will be 0.\n",
    "\n",
    "**2. Considering an extreme case, if all the news classified as True (Even, fake news are predicted as True).**\n",
    "\n",
    "Ex=>  TN = 0, FP = 553, TP = 714, FN =0\n",
    "In that case, TN will be 0, which led to Precision 0, Recall 0 and F1 = 0 for class 0 ('fake').\n",
    "\n",
    "For class 1, Class1-Recall = TP / (TP + FN) = 1\n",
    "Class1-Precision = TP / (TP + FP) = 0.56"
   ]
  },
  {
   "cell_type": "markdown",
   "metadata": {},
   "source": [
    "## Model Training"
   ]
  },
  {
   "cell_type": "markdown",
   "metadata": {},
   "source": [
    "## Text Classification Algorithms\n",
    "\n",
    "1. Naive Bayes (NB)\n",
    "2. Logistics Regression\n",
    "3. SVM\n",
    "4. Random Forest"
   ]
  },
  {
   "cell_type": "markdown",
   "metadata": {},
   "source": [
    "## Naive Bayes\n",
    "\n",
    "Well, when assumption of independence holds, a Naive Bayes classifier performs better compare to other models like logistic regression and you need less training data. An advantage of naive Bayes is that it only requires a small number of training data to estimate the parameters necessary for classification. \n",
    "\n",
    "Bayes’ Theorem provides a way that we can calculate the probability of a piece of data belonging to a given class, given our prior knowledge. Bayes’ Theorem is stated as:\n",
    "\n",
    "P(class|data) = (P(data|class) * P(class)) / P(data)\n",
    "\n",
    "Where P(class|data) is the probability of class given the provided data.\n",
    "\n",
    "Naive Bayes is a classification algorithm for binary (two-class) and multiclass classification problems. It is called Naive Bayes or idiot Bayes because the calculations of the probabilities for each class are simplified to make their calculations tractable.\n",
    "\n",
    "Rather than attempting to calculate the probabilities of each attribute value, they are assumed to be conditionally independent given the class value.\n",
    "\n",
    "This is a very strong assumption that is most unlikely in real data, i.e. that the attributes do not interact. Nevertheless, the approach performs surprisingly well on data where this assumption does not hold.\n",
    "\n",
    "### Multinomial NB\n",
    "\n",
    "The multinomial Naive Bayes classifier is suitable for classification with discrete features (e.g., word counts for text classification). The multinomial distribution normally requires integer feature counts. However, in practice, fractional counts such as tf-idf may also work"
   ]
  },
  {
   "cell_type": "markdown",
   "metadata": {},
   "source": [
    "### Train Models with Different Types of Features"
   ]
  },
  {
   "cell_type": "code",
   "execution_count": 13,
   "metadata": {},
   "outputs": [
    {
     "name": "stderr",
     "output_type": "stream",
     "text": [
      "2020-11-29 14:35:17,885 : INFO : Starting model training...\n",
      "2020-11-29 14:35:17,891 : INFO : Extracting features and creating vocabulary...\n"
     ]
    },
    {
     "name": "stdout",
     "output_type": "stream",
     "text": [
      "Model - binary features with statement\n"
     ]
    },
    {
     "name": "stderr",
     "output_type": "stream",
     "text": [
      "2020-11-29 14:35:56,161 : INFO : Training a Classification Model...\n",
      "2020-11-29 14:35:56,171 : INFO : Starting evaluation...\n",
      "2020-11-29 14:35:56,182 : INFO : Done training and evaluation.\n",
      "2020-11-29 14:35:56,183 : INFO : Starting model training...\n",
      "2020-11-29 14:35:56,188 : INFO : Extracting features and creating vocabulary...\n"
     ]
    },
    {
     "name": "stdout",
     "output_type": "stream",
     "text": [
      "              precision    recall  f1-score   support\n",
      "\n",
      "           0       0.55      0.48      0.51      1248\n",
      "           1       0.64      0.70      0.67      1632\n",
      "\n",
      "    accuracy                           0.60      2880\n",
      "   macro avg       0.59      0.59      0.59      2880\n",
      "weighted avg       0.60      0.60      0.60      2880\n",
      "\n",
      "[[ 596  652]\n",
      " [ 488 1144]]\n",
      "Model - counts features with statement\n"
     ]
    },
    {
     "name": "stderr",
     "output_type": "stream",
     "text": [
      "2020-11-29 14:36:33,983 : INFO : Training a Classification Model...\n",
      "2020-11-29 14:36:33,987 : INFO : Starting evaluation...\n",
      "2020-11-29 14:36:33,997 : INFO : Done training and evaluation.\n",
      "2020-11-29 14:36:33,999 : INFO : Starting model training...\n",
      "2020-11-29 14:36:34,003 : INFO : Extracting features and creating vocabulary...\n"
     ]
    },
    {
     "name": "stdout",
     "output_type": "stream",
     "text": [
      "              precision    recall  f1-score   support\n",
      "\n",
      "           0       0.55      0.48      0.52      1248\n",
      "           1       0.64      0.70      0.67      1632\n",
      "\n",
      "    accuracy                           0.61      2880\n",
      "   macro avg       0.60      0.59      0.59      2880\n",
      "weighted avg       0.60      0.61      0.60      2880\n",
      "\n",
      "[[ 602  646]\n",
      " [ 485 1147]]\n",
      "Model - tfidf features with statement\n"
     ]
    },
    {
     "name": "stderr",
     "output_type": "stream",
     "text": [
      "2020-11-29 14:37:13,014 : INFO : Training a Classification Model...\n",
      "2020-11-29 14:37:13,018 : INFO : Starting evaluation...\n",
      "2020-11-29 14:37:13,030 : INFO : Done training and evaluation.\n"
     ]
    },
    {
     "name": "stdout",
     "output_type": "stream",
     "text": [
      "              precision    recall  f1-score   support\n",
      "\n",
      "           0       0.58      0.31      0.41      1248\n",
      "           1       0.61      0.83      0.70      1632\n",
      "\n",
      "    accuracy                           0.60      2880\n",
      "   macro avg       0.60      0.57      0.56      2880\n",
      "weighted avg       0.60      0.60      0.58      2880\n",
      "\n",
      "[[ 391  857]\n",
      " [ 281 1351]]\n"
     ]
    }
   ],
   "source": [
    "# model,transformer,score,confusion,report=train_model(nb_clf, train_val,field=field,feature_rep=feature_rep)\n",
    "# print(\"\\nF1-score={0}; confusion={1}; classification_report={2}\".format(score,confusion,report))\n",
    "field='statement'\n",
    "feature_reps=['binary','counts','tfidf']\n",
    "nb_results=[]\n",
    "nb_clf = MultinomialNB()\n",
    "for feature_rep in feature_reps:\n",
    "        print(f'Model - {feature_rep} features with statement')\n",
    "        nb_model,transformer,score=train_model(nb_clf,train_val,field=field,feature_rep=feature_rep)\n",
    "        nb_results.append([field,feature_rep,score])"
   ]
  },
  {
   "cell_type": "markdown",
   "metadata": {},
   "source": [
    "### Naive Bayes Results of Various Models"
   ]
  },
  {
   "cell_type": "code",
   "execution_count": 14,
   "metadata": {},
   "outputs": [
    {
     "data": {
      "text/html": [
       "<div>\n",
       "<style scoped>\n",
       "    .dataframe tbody tr th:only-of-type {\n",
       "        vertical-align: middle;\n",
       "    }\n",
       "\n",
       "    .dataframe tbody tr th {\n",
       "        vertical-align: top;\n",
       "    }\n",
       "\n",
       "    .dataframe thead th {\n",
       "        text-align: right;\n",
       "    }\n",
       "</style>\n",
       "<table border=\"1\" class=\"dataframe\">\n",
       "  <thead>\n",
       "    <tr style=\"text-align: right;\">\n",
       "      <th></th>\n",
       "      <th>text_fields</th>\n",
       "      <th>feature_representation</th>\n",
       "      <th>f1-score</th>\n",
       "    </tr>\n",
       "  </thead>\n",
       "  <tbody>\n",
       "    <tr>\n",
       "      <th>2</th>\n",
       "      <td>statement</td>\n",
       "      <td>tfidf</td>\n",
       "      <td>0.703646</td>\n",
       "    </tr>\n",
       "    <tr>\n",
       "      <th>1</th>\n",
       "      <td>statement</td>\n",
       "      <td>counts</td>\n",
       "      <td>0.669781</td>\n",
       "    </tr>\n",
       "    <tr>\n",
       "      <th>0</th>\n",
       "      <td>statement</td>\n",
       "      <td>binary</td>\n",
       "      <td>0.667445</td>\n",
       "    </tr>\n",
       "  </tbody>\n",
       "</table>\n",
       "</div>"
      ],
      "text/plain": [
       "  text_fields feature_representation  f1-score\n",
       "2   statement                  tfidf  0.703646\n",
       "1   statement                 counts  0.669781\n",
       "0   statement                 binary  0.667445"
      ]
     },
     "execution_count": 14,
     "metadata": {},
     "output_type": "execute_result"
    }
   ],
   "source": [
    "nb_df_results=pd.DataFrame(nb_results,columns=['text_fields','feature_representation','f1-score'])\n",
    "nb_df_results.sort_values(by=['f1-score'],ascending=False)"
   ]
  },
  {
   "cell_type": "code",
   "execution_count": 41,
   "metadata": {
    "scrolled": true
   },
   "outputs": [],
   "source": [
    "# nb_clf_pipeline = Pipeline([('vect', count_vect),\n",
    "#                       ('tfidf', tfidf_transformer),\n",
    "#                       ('nb_clf', MultinomialNB()),\n",
    "#  ])\n",
    "# nb_clf_pipeline.fit(train_news['statement'], train_label)\n",
    "# predicted = nb_clf_pipeline.predict(test_news['statement'])\n",
    "# print(np.mean(predicted == test_label))\n",
    "# print(classification_report(test_label,predicted))\n",
    "# print(confusion_matrix(test_label,predicted))"
   ]
  },
  {
   "cell_type": "markdown",
   "metadata": {},
   "source": [
    "## logistic regression\n",
    "\n",
    "The underlying algorithm is also fairly easy to understand. More importantly, in the NLP world, it’s generally accepted that Logistic Regression is a great starter algorithm for text related classification (https://web.stanford.edu/~jurafsky/slp3/5.pdf). \n",
    "\n",
    "**How hypothesis makes prediction in logistics regression?**\n",
    "\n",
    "This algorithm uses sigmoid function(g(z)). If we want to predict y=1 or y=0.\n",
    "If estimated probability of y=1 is h(x)>=0.5 then the ouput is more likely to be \"y=1\" \n",
    "but if  h(x) < 0.5, the output is more likely to be is \"y=0\"."
   ]
  },
  {
   "cell_type": "markdown",
   "metadata": {},
   "source": [
    "### Train Models with Different Types of Features¶"
   ]
  },
  {
   "cell_type": "code",
   "execution_count": 15,
   "metadata": {},
   "outputs": [
    {
     "name": "stderr",
     "output_type": "stream",
     "text": [
      "2020-11-29 14:38:35,963 : INFO : Starting model training...\n",
      "2020-11-29 14:38:35,969 : INFO : Extracting features and creating vocabulary...\n"
     ]
    },
    {
     "name": "stdout",
     "output_type": "stream",
     "text": [
      "Model - binary features with statement\n"
     ]
    },
    {
     "name": "stderr",
     "output_type": "stream",
     "text": [
      "2020-11-29 14:39:14,635 : INFO : Training a Classification Model...\n",
      "2020-11-29 14:39:14,727 : INFO : Starting evaluation...\n",
      "2020-11-29 14:39:14,739 : INFO : Done training and evaluation.\n",
      "2020-11-29 14:39:14,742 : INFO : Starting model training...\n",
      "2020-11-29 14:39:14,746 : INFO : Extracting features and creating vocabulary...\n"
     ]
    },
    {
     "name": "stdout",
     "output_type": "stream",
     "text": [
      "[LibLinear]              precision    recall  f1-score   support\n",
      "\n",
      "           0       0.51      0.51      0.51      1248\n",
      "           1       0.62      0.62      0.62      1632\n",
      "\n",
      "    accuracy                           0.57      2880\n",
      "   macro avg       0.57      0.57      0.57      2880\n",
      "weighted avg       0.57      0.57      0.57      2880\n",
      "\n",
      "[[ 636  612]\n",
      " [ 617 1015]]\n",
      "Model - counts features with statement\n"
     ]
    },
    {
     "name": "stderr",
     "output_type": "stream",
     "text": [
      "2020-11-29 14:39:52,703 : INFO : Training a Classification Model...\n",
      "2020-11-29 14:39:52,799 : INFO : Starting evaluation...\n",
      "2020-11-29 14:39:52,811 : INFO : Done training and evaluation.\n",
      "2020-11-29 14:39:52,814 : INFO : Starting model training...\n",
      "2020-11-29 14:39:52,818 : INFO : Extracting features and creating vocabulary...\n"
     ]
    },
    {
     "name": "stdout",
     "output_type": "stream",
     "text": [
      "[LibLinear]              precision    recall  f1-score   support\n",
      "\n",
      "           0       0.50      0.50      0.50      1248\n",
      "           1       0.62      0.62      0.62      1632\n",
      "\n",
      "    accuracy                           0.57      2880\n",
      "   macro avg       0.56      0.56      0.56      2880\n",
      "weighted avg       0.57      0.57      0.57      2880\n",
      "\n",
      "[[ 620  628]\n",
      " [ 612 1020]]\n",
      "Model - tfidf features with statement\n"
     ]
    },
    {
     "name": "stderr",
     "output_type": "stream",
     "text": [
      "2020-11-29 14:40:30,692 : INFO : Training a Classification Model...\n",
      "2020-11-29 14:40:30,730 : INFO : Starting evaluation...\n",
      "2020-11-29 14:40:30,748 : INFO : Done training and evaluation.\n"
     ]
    },
    {
     "name": "stdout",
     "output_type": "stream",
     "text": [
      "[LibLinear]              precision    recall  f1-score   support\n",
      "\n",
      "           0       0.53      0.49      0.51      1248\n",
      "           1       0.63      0.66      0.65      1632\n",
      "\n",
      "    accuracy                           0.59      2880\n",
      "   macro avg       0.58      0.58      0.58      2880\n",
      "weighted avg       0.59      0.59      0.59      2880\n",
      "\n",
      "[[ 615  633]\n",
      " [ 552 1080]]\n"
     ]
    }
   ],
   "source": [
    "field='statement'\n",
    "feature_reps=['binary','counts','tfidf']\n",
    "lr_results=[]\n",
    "LogR_clf = LogisticRegression(verbose=1, solver='liblinear',random_state=0, C=5, penalty='l2',max_iter=1000)\n",
    "\n",
    "for feature_rep in feature_reps:\n",
    "        print(f'Model - {feature_rep} features with statement')\n",
    "        lr_model,transformer,score=train_model(LogR_clf,train_val,field=field,feature_rep=feature_rep)\n",
    "        lr_results.append([field,feature_rep,score])"
   ]
  },
  {
   "cell_type": "markdown",
   "metadata": {},
   "source": [
    "### Logistics Regression Results of Various Models"
   ]
  },
  {
   "cell_type": "code",
   "execution_count": 16,
   "metadata": {},
   "outputs": [
    {
     "data": {
      "text/html": [
       "<div>\n",
       "<style scoped>\n",
       "    .dataframe tbody tr th:only-of-type {\n",
       "        vertical-align: middle;\n",
       "    }\n",
       "\n",
       "    .dataframe tbody tr th {\n",
       "        vertical-align: top;\n",
       "    }\n",
       "\n",
       "    .dataframe thead th {\n",
       "        text-align: right;\n",
       "    }\n",
       "</style>\n",
       "<table border=\"1\" class=\"dataframe\">\n",
       "  <thead>\n",
       "    <tr style=\"text-align: right;\">\n",
       "      <th></th>\n",
       "      <th>text_fields</th>\n",
       "      <th>feature_representation</th>\n",
       "      <th>f1-score</th>\n",
       "    </tr>\n",
       "  </thead>\n",
       "  <tbody>\n",
       "    <tr>\n",
       "      <th>2</th>\n",
       "      <td>statement</td>\n",
       "      <td>tfidf</td>\n",
       "      <td>0.645740</td>\n",
       "    </tr>\n",
       "    <tr>\n",
       "      <th>0</th>\n",
       "      <td>statement</td>\n",
       "      <td>binary</td>\n",
       "      <td>0.622890</td>\n",
       "    </tr>\n",
       "    <tr>\n",
       "      <th>1</th>\n",
       "      <td>statement</td>\n",
       "      <td>counts</td>\n",
       "      <td>0.621951</td>\n",
       "    </tr>\n",
       "  </tbody>\n",
       "</table>\n",
       "</div>"
      ],
      "text/plain": [
       "  text_fields feature_representation  f1-score\n",
       "2   statement                  tfidf  0.645740\n",
       "0   statement                 binary  0.622890\n",
       "1   statement                 counts  0.621951"
      ]
     },
     "execution_count": 16,
     "metadata": {},
     "output_type": "execute_result"
    }
   ],
   "source": [
    "lr_df_results=pd.DataFrame(lr_results,columns=['text_fields','feature_representation','f1-score'])\n",
    "lr_df_results.sort_values(by=['f1-score'],ascending=False)"
   ]
  },
  {
   "cell_type": "markdown",
   "metadata": {},
   "source": [
    "Here you see how the performance of logistics model is improved using tfidf over counts and binary weightning."
   ]
  },
  {
   "cell_type": "markdown",
   "metadata": {},
   "source": [
    "## SVM\n",
    "\n",
    "Support vector machines is an algorithm that determines the best decision boundary between vectors that belong to a given group (or category) and vectors that do not belong to it. That’s it. It can be applied to any kind of vectors which encode any kind of data. This means that in order to leverage the power of svm text classification, texts have to be transformed into vectors.\n",
    "\n",
    "So, when SVM determines the decision boundary we mentioned above, SVM decides where to draw the best “line” (or the best hyperplane) that divides the space into two subspaces: one for the vectors which belong to the given category and one for the vectors which do not belong to it."
   ]
  },
  {
   "cell_type": "markdown",
   "metadata": {},
   "source": [
    "### Train Models with Different Types of Features¶"
   ]
  },
  {
   "cell_type": "code",
   "execution_count": 17,
   "metadata": {},
   "outputs": [
    {
     "name": "stderr",
     "output_type": "stream",
     "text": [
      "2020-11-29 14:45:56,188 : INFO : Starting model training...\n",
      "2020-11-29 14:45:56,194 : INFO : Extracting features and creating vocabulary...\n"
     ]
    },
    {
     "name": "stdout",
     "output_type": "stream",
     "text": [
      "SVM Model - binary features with statement\n"
     ]
    },
    {
     "name": "stderr",
     "output_type": "stream",
     "text": [
      "2020-11-29 14:46:37,039 : INFO : Training a Classification Model...\n",
      "2020-11-29 14:46:37,188 : INFO : Starting evaluation...\n",
      "2020-11-29 14:46:37,198 : INFO : Done training and evaluation.\n",
      "2020-11-29 14:46:37,200 : INFO : Starting model training...\n",
      "2020-11-29 14:46:37,204 : INFO : Extracting features and creating vocabulary...\n"
     ]
    },
    {
     "name": "stdout",
     "output_type": "stream",
     "text": [
      "              precision    recall  f1-score   support\n",
      "\n",
      "           0       0.50      0.50      0.50      1248\n",
      "           1       0.61      0.61      0.61      1632\n",
      "\n",
      "    accuracy                           0.56      2880\n",
      "   macro avg       0.55      0.55      0.55      2880\n",
      "weighted avg       0.56      0.56      0.56      2880\n",
      "\n",
      "[[622 626]\n",
      " [634 998]]\n",
      "SVM Model - counts features with statement\n"
     ]
    },
    {
     "name": "stderr",
     "output_type": "stream",
     "text": [
      "2020-11-29 14:47:15,152 : INFO : Training a Classification Model...\n",
      "2020-11-29 14:47:15,394 : INFO : Starting evaluation...\n",
      "2020-11-29 14:47:15,404 : INFO : Done training and evaluation.\n",
      "2020-11-29 14:47:15,407 : INFO : Starting model training...\n",
      "2020-11-29 14:47:15,411 : INFO : Extracting features and creating vocabulary...\n"
     ]
    },
    {
     "name": "stdout",
     "output_type": "stream",
     "text": [
      "              precision    recall  f1-score   support\n",
      "\n",
      "           0       0.49      0.50      0.50      1248\n",
      "           1       0.61      0.61      0.61      1632\n",
      "\n",
      "    accuracy                           0.56      2880\n",
      "   macro avg       0.55      0.55      0.55      2880\n",
      "weighted avg       0.56      0.56      0.56      2880\n",
      "\n",
      "[[622 626]\n",
      " [635 997]]\n",
      "SVM Model - tfidf features with statement\n"
     ]
    },
    {
     "name": "stderr",
     "output_type": "stream",
     "text": [
      "2020-11-29 14:47:53,168 : INFO : Training a Classification Model...\n",
      "2020-11-29 14:47:53,212 : INFO : Starting evaluation...\n",
      "2020-11-29 14:47:53,224 : INFO : Done training and evaluation.\n"
     ]
    },
    {
     "name": "stdout",
     "output_type": "stream",
     "text": [
      "              precision    recall  f1-score   support\n",
      "\n",
      "           0       0.52      0.50      0.51      1248\n",
      "           1       0.63      0.65      0.64      1632\n",
      "\n",
      "    accuracy                           0.58      2880\n",
      "   macro avg       0.57      0.57      0.57      2880\n",
      "weighted avg       0.58      0.58      0.58      2880\n",
      "\n",
      "[[ 622  626]\n",
      " [ 572 1060]]\n"
     ]
    }
   ],
   "source": [
    "field='statement'\n",
    "feature_reps=['binary','counts','tfidf']\n",
    "svm_results=[]\n",
    "svm_clf = svm.LinearSVC()\n",
    "\n",
    "for feature_rep in feature_reps:\n",
    "        print(f'SVM Model - {feature_rep} features with statement')\n",
    "        svm_model,transformer,score=train_model(svm_clf,train_val,field=field,feature_rep=feature_rep)\n",
    "        svm_results.append([field,feature_rep,score])"
   ]
  },
  {
   "cell_type": "markdown",
   "metadata": {},
   "source": [
    "### SVM Results of Various Models"
   ]
  },
  {
   "cell_type": "code",
   "execution_count": 18,
   "metadata": {},
   "outputs": [
    {
     "data": {
      "text/html": [
       "<div>\n",
       "<style scoped>\n",
       "    .dataframe tbody tr th:only-of-type {\n",
       "        vertical-align: middle;\n",
       "    }\n",
       "\n",
       "    .dataframe tbody tr th {\n",
       "        vertical-align: top;\n",
       "    }\n",
       "\n",
       "    .dataframe thead th {\n",
       "        text-align: right;\n",
       "    }\n",
       "</style>\n",
       "<table border=\"1\" class=\"dataframe\">\n",
       "  <thead>\n",
       "    <tr style=\"text-align: right;\">\n",
       "      <th></th>\n",
       "      <th>text_fields</th>\n",
       "      <th>feature_representation</th>\n",
       "      <th>f1-score</th>\n",
       "    </tr>\n",
       "  </thead>\n",
       "  <tbody>\n",
       "    <tr>\n",
       "      <th>2</th>\n",
       "      <td>statement</td>\n",
       "      <td>tfidf</td>\n",
       "      <td>0.638939</td>\n",
       "    </tr>\n",
       "    <tr>\n",
       "      <th>0</th>\n",
       "      <td>statement</td>\n",
       "      <td>binary</td>\n",
       "      <td>0.613022</td>\n",
       "    </tr>\n",
       "    <tr>\n",
       "      <th>1</th>\n",
       "      <td>statement</td>\n",
       "      <td>counts</td>\n",
       "      <td>0.612596</td>\n",
       "    </tr>\n",
       "  </tbody>\n",
       "</table>\n",
       "</div>"
      ],
      "text/plain": [
       "  text_fields feature_representation  f1-score\n",
       "2   statement                  tfidf  0.638939\n",
       "0   statement                 binary  0.613022\n",
       "1   statement                 counts  0.612596"
      ]
     },
     "execution_count": 18,
     "metadata": {},
     "output_type": "execute_result"
    }
   ],
   "source": [
    "svm_df_results=pd.DataFrame(svm_results,columns=['text_fields','feature_representation','f1-score'])\n",
    "svm_df_results.sort_values(by=['f1-score'],ascending=False)"
   ]
  },
  {
   "cell_type": "markdown",
   "metadata": {},
   "source": [
    "## Random Forest\n",
    "\n",
    "Given the nature of random forests (a bagging decision tree), it is true that you may come up with a rather weak classifier, especially if only a couple of features are truly significant to determine the outcome.\n",
    "\n",
    "However, keep in mind that in the case of text classification, a preprocessing phase is required to get either your TF or TF-IDF matrix, through which you have already made a selection of pertinent features. Potentially, all features are relevant in this matrix, so the random forest may be performant when you predict your outcome. (source: https://stats.stackexchange.com/questions/343954/random-forest-short-text-classification)"
   ]
  },
  {
   "cell_type": "markdown",
   "metadata": {},
   "source": [
    "### Train Models with Different Types of Features¶"
   ]
  },
  {
   "cell_type": "code",
   "execution_count": 19,
   "metadata": {},
   "outputs": [
    {
     "name": "stderr",
     "output_type": "stream",
     "text": [
      "2020-11-29 14:47:53,261 : INFO : Starting model training...\n",
      "2020-11-29 14:47:53,270 : INFO : Extracting features and creating vocabulary...\n",
      "2020-11-29 14:48:30,987 : INFO : Training a Classification Model...\n",
      "2020-11-29 14:49:44,378 : INFO : Starting evaluation...\n",
      "2020-11-29 14:49:44,388 : INFO : Done training and evaluation.\n",
      "2020-11-29 14:49:44,390 : INFO : Starting model training...\n",
      "2020-11-29 14:49:44,394 : INFO : Extracting features and creating vocabulary...\n"
     ]
    },
    {
     "name": "stdout",
     "output_type": "stream",
     "text": [
      "              precision    recall  f1-score   support\n",
      "\n",
      "           0       0.57      0.45      0.50      1248\n",
      "           1       0.64      0.74      0.68      1632\n",
      "\n",
      "    accuracy                           0.61      2880\n",
      "   macro avg       0.60      0.59      0.59      2880\n",
      "weighted avg       0.61      0.61      0.60      2880\n",
      "\n",
      "[[ 561  687]\n",
      " [ 428 1204]]\n"
     ]
    },
    {
     "name": "stderr",
     "output_type": "stream",
     "text": [
      "2020-11-29 14:50:22,211 : INFO : Training a Classification Model...\n",
      "2020-11-29 14:51:35,059 : INFO : Starting evaluation...\n",
      "2020-11-29 14:51:35,070 : INFO : Done training and evaluation.\n",
      "2020-11-29 14:51:35,072 : INFO : Starting model training...\n",
      "2020-11-29 14:51:35,076 : INFO : Extracting features and creating vocabulary...\n"
     ]
    },
    {
     "name": "stdout",
     "output_type": "stream",
     "text": [
      "              precision    recall  f1-score   support\n",
      "\n",
      "           0       0.55      0.44      0.49      1248\n",
      "           1       0.63      0.73      0.68      1632\n",
      "\n",
      "    accuracy                           0.60      2880\n",
      "   macro avg       0.59      0.59      0.58      2880\n",
      "weighted avg       0.60      0.60      0.60      2880\n",
      "\n",
      "[[ 554  694]\n",
      " [ 446 1186]]\n"
     ]
    },
    {
     "name": "stderr",
     "output_type": "stream",
     "text": [
      "2020-11-29 14:52:13,093 : INFO : Training a Classification Model...\n",
      "2020-11-29 14:53:19,751 : INFO : Starting evaluation...\n",
      "2020-11-29 14:53:19,762 : INFO : Done training and evaluation.\n"
     ]
    },
    {
     "name": "stdout",
     "output_type": "stream",
     "text": [
      "              precision    recall  f1-score   support\n",
      "\n",
      "           0       0.56      0.44      0.49      1248\n",
      "           1       0.63      0.74      0.68      1632\n",
      "\n",
      "    accuracy                           0.61      2880\n",
      "   macro avg       0.59      0.59      0.58      2880\n",
      "weighted avg       0.60      0.61      0.60      2880\n",
      "\n",
      "[[ 546  702]\n",
      " [ 432 1200]]\n"
     ]
    }
   ],
   "source": [
    "field='statement'\n",
    "feature_reps=['binary','counts','tfidf']\n",
    "rf_results=[]\n",
    "rf_clf = RandomForestClassifier(n_estimators=1000)\n",
    "\n",
    "for feature_rep in feature_reps:\n",
    "        rf_model,transformer,score=train_model(rf_clf,train_val,field=field,feature_rep=feature_rep)\n",
    "        rf_results.append([field,feature_rep,score])"
   ]
  },
  {
   "cell_type": "markdown",
   "metadata": {},
   "source": [
    "### RF Results of Various Models¶"
   ]
  },
  {
   "cell_type": "code",
   "execution_count": 20,
   "metadata": {},
   "outputs": [
    {
     "data": {
      "text/html": [
       "<div>\n",
       "<style scoped>\n",
       "    .dataframe tbody tr th:only-of-type {\n",
       "        vertical-align: middle;\n",
       "    }\n",
       "\n",
       "    .dataframe tbody tr th {\n",
       "        vertical-align: top;\n",
       "    }\n",
       "\n",
       "    .dataframe thead th {\n",
       "        text-align: right;\n",
       "    }\n",
       "</style>\n",
       "<table border=\"1\" class=\"dataframe\">\n",
       "  <thead>\n",
       "    <tr style=\"text-align: right;\">\n",
       "      <th></th>\n",
       "      <th>text_fields</th>\n",
       "      <th>feature_representation</th>\n",
       "      <th>f1-score</th>\n",
       "    </tr>\n",
       "  </thead>\n",
       "  <tbody>\n",
       "    <tr>\n",
       "      <th>0</th>\n",
       "      <td>statement</td>\n",
       "      <td>binary</td>\n",
       "      <td>0.683508</td>\n",
       "    </tr>\n",
       "    <tr>\n",
       "      <th>2</th>\n",
       "      <td>statement</td>\n",
       "      <td>tfidf</td>\n",
       "      <td>0.679117</td>\n",
       "    </tr>\n",
       "    <tr>\n",
       "      <th>1</th>\n",
       "      <td>statement</td>\n",
       "      <td>counts</td>\n",
       "      <td>0.675399</td>\n",
       "    </tr>\n",
       "  </tbody>\n",
       "</table>\n",
       "</div>"
      ],
      "text/plain": [
       "  text_fields feature_representation  f1-score\n",
       "0   statement                 binary  0.683508\n",
       "2   statement                  tfidf  0.679117\n",
       "1   statement                 counts  0.675399"
      ]
     },
     "execution_count": 20,
     "metadata": {},
     "output_type": "execute_result"
    }
   ],
   "source": [
    "rf_df_results=pd.DataFrame(rf_results,columns=['text_fields','feature_representation','f1-score'])\n",
    "rf_df_results.sort_values(by=['f1-score'],ascending=False)"
   ]
  },
  {
   "cell_type": "markdown",
   "metadata": {},
   "source": [
    "## K-fold cross validation\n",
    "\n",
    "With K-fold cross validation, you are testing how well your model is able to get trained by some data and then predict data it hasn't seen. We use cross validation for this because if you train using all the data you have, you have none left for testing. You could do this once, say by using 80% of the data to train and 20% to test, but what if the 20% you happened to pick to test happens to contain a bunch of points that are particularly easy (or particularly hard) to predict? We will not have come up with the best estimate possible of the models ability to learn and predict."
   ]
  },
  {
   "cell_type": "code",
   "execution_count": 22,
   "metadata": {},
   "outputs": [],
   "source": [
    "#User defined functon for K-Fold cross validatoin\n",
    "def apply_kfold(classifier,train_val,field,feature_rep):\n",
    "    \"\"\"\n",
    "    K-fold cross validation on the the data\n",
    "    \"\"\"\n",
    "    k_fold = KFold(n_splits=5, shuffle=True)\n",
    "    scores = []\n",
    "    confusion = np.array([[0,0],[0,0]])\n",
    "\n",
    "    for fold_n, (train_index, valid_index) in enumerate(k_fold.split(train_val['statement'], train_val['label'])):\n",
    "        print(fold_n, len(train_index), len(valid_index))\n",
    "        train_x = train_val['statement'].iloc[train_index]\n",
    "        train_y = train_val['label'].iloc[train_index]\n",
    "    \n",
    "        valid_x = train_val['statement'].iloc[valid_index]\n",
    "        valid_y = train_val['label'].iloc[valid_index]\n",
    "        \n",
    "        # GET FEATURES\n",
    "        train_features,val_features,feature_transformer=extract_features(field,train_x,valid_x,type=feature_rep)\n",
    "        \n",
    "        # INIT CLASSIFIER\n",
    "        logging.info(\"Training a Classification Model...\")\n",
    "        classifier.fit(train_features, train_y)\n",
    "        predictions = classifier.predict(val_features)\n",
    "        \n",
    "        confusion += confusion_matrix(valid_y,predictions)\n",
    "        score = f1_score(valid_y,predictions)\n",
    "        scores.append(score)\n",
    "        \n",
    "    return (print('Total statements classified:', len(train_val['statement'])),\n",
    "    print('Score:', sum(scores)/len(scores)),\n",
    "    print('score length', len(scores)),\n",
    "    print('Confusion matrix:'),\n",
    "    print(confusion))"
   ]
  },
  {
   "cell_type": "markdown",
   "metadata": {},
   "source": [
    "## Grid Search Hyperparameters"
   ]
  },
  {
   "cell_type": "code",
   "execution_count": 21,
   "metadata": {},
   "outputs": [],
   "source": [
    "# from sklearn.svm import SVC\n",
    "# from sklearn.model_selection import StratifiedKFold\n",
    "# from skopt import BayesSearchCV\n",
    "\n",
    "# field='statement'\n",
    "# feature_reps=['binary','counts','tfidf']\n",
    "# # GET FEATURES\n",
    "# train_features,feature_transformer=extract_final_features('statement',train_val['statement'],type='binary')\n",
    "    \n",
    "# # define search space\n",
    "# params = dict()\n",
    "# params['C'] = (1e-6, 100.0, 'log-uniform')\n",
    "# params['gamma'] = (1e-6, 100.0, 'log-uniform')\n",
    "# params['degree'] = (1,5)\n",
    "# params['kernel'] = ['linear', 'poly', 'rbf', 'sigmoid']\n",
    "# # define evaluation\n",
    "# cv = StratifiedKFold(n_splits=5, random_state=1)\n",
    "# # define the search\n",
    "# search = BayesSearchCV(estimator=SVC(), search_spaces=params, n_jobs=-1, cv=cv)\n",
    "# # perform the search\n",
    "# search.fit(train_features, train_val['label'])\n",
    "# # report the best result\n",
    "# print(search.best_score_)\n",
    "# print(search.best_params_)"
   ]
  },
  {
   "cell_type": "markdown",
   "metadata": {},
   "source": [
    "## Naive Bayes with K-fold cross validation"
   ]
  },
  {
   "cell_type": "code",
   "execution_count": 23,
   "metadata": {},
   "outputs": [
    {
     "name": "stderr",
     "output_type": "stream",
     "text": [
      "2020-11-29 15:08:18,004 : INFO : Extracting features and creating vocabulary...\n"
     ]
    },
    {
     "name": "stdout",
     "output_type": "stream",
     "text": [
      "Model - binary features with statement\n",
      "0 9216 2304\n"
     ]
    },
    {
     "name": "stderr",
     "output_type": "stream",
     "text": [
      "2020-11-29 15:09:00,091 : INFO : Training a Classification Model...\n",
      "2020-11-29 15:09:00,100 : INFO : Extracting features and creating vocabulary...\n"
     ]
    },
    {
     "name": "stdout",
     "output_type": "stream",
     "text": [
      "1 9216 2304\n"
     ]
    },
    {
     "name": "stderr",
     "output_type": "stream",
     "text": [
      "2020-11-29 15:09:39,146 : INFO : Training a Classification Model...\n",
      "2020-11-29 15:09:39,155 : INFO : Extracting features and creating vocabulary...\n"
     ]
    },
    {
     "name": "stdout",
     "output_type": "stream",
     "text": [
      "2 9216 2304\n"
     ]
    },
    {
     "name": "stderr",
     "output_type": "stream",
     "text": [
      "2020-11-29 15:10:17,909 : INFO : Training a Classification Model...\n",
      "2020-11-29 15:10:17,918 : INFO : Extracting features and creating vocabulary...\n"
     ]
    },
    {
     "name": "stdout",
     "output_type": "stream",
     "text": [
      "3 9216 2304\n"
     ]
    },
    {
     "name": "stderr",
     "output_type": "stream",
     "text": [
      "2020-11-29 15:10:56,728 : INFO : Training a Classification Model...\n",
      "2020-11-29 15:10:56,737 : INFO : Extracting features and creating vocabulary...\n"
     ]
    },
    {
     "name": "stdout",
     "output_type": "stream",
     "text": [
      "4 9216 2304\n"
     ]
    },
    {
     "name": "stderr",
     "output_type": "stream",
     "text": [
      "2020-11-29 15:11:35,651 : INFO : Training a Classification Model...\n",
      "2020-11-29 15:11:35,663 : INFO : Extracting features and creating vocabulary...\n"
     ]
    },
    {
     "name": "stdout",
     "output_type": "stream",
     "text": [
      "Total statements classified: 11520\n",
      "Score: 0.6696528205765316\n",
      "score length 5\n",
      "Confusion matrix:\n",
      "[[2319 2783]\n",
      " [1785 4633]]\n",
      "Model - counts features with statement\n",
      "0 9216 2304\n"
     ]
    },
    {
     "name": "stderr",
     "output_type": "stream",
     "text": [
      "2020-11-29 15:12:14,459 : INFO : Training a Classification Model...\n",
      "2020-11-29 15:12:14,468 : INFO : Extracting features and creating vocabulary...\n"
     ]
    },
    {
     "name": "stdout",
     "output_type": "stream",
     "text": [
      "1 9216 2304\n"
     ]
    },
    {
     "name": "stderr",
     "output_type": "stream",
     "text": [
      "2020-11-29 15:12:53,117 : INFO : Training a Classification Model...\n",
      "2020-11-29 15:12:53,126 : INFO : Extracting features and creating vocabulary...\n"
     ]
    },
    {
     "name": "stdout",
     "output_type": "stream",
     "text": [
      "2 9216 2304\n"
     ]
    },
    {
     "name": "stderr",
     "output_type": "stream",
     "text": [
      "2020-11-29 15:13:31,972 : INFO : Training a Classification Model...\n",
      "2020-11-29 15:13:31,980 : INFO : Extracting features and creating vocabulary...\n"
     ]
    },
    {
     "name": "stdout",
     "output_type": "stream",
     "text": [
      "3 9216 2304\n"
     ]
    },
    {
     "name": "stderr",
     "output_type": "stream",
     "text": [
      "2020-11-29 15:14:10,714 : INFO : Training a Classification Model...\n",
      "2020-11-29 15:14:10,723 : INFO : Extracting features and creating vocabulary...\n"
     ]
    },
    {
     "name": "stdout",
     "output_type": "stream",
     "text": [
      "4 9216 2304\n"
     ]
    },
    {
     "name": "stderr",
     "output_type": "stream",
     "text": [
      "2020-11-29 15:14:49,468 : INFO : Training a Classification Model...\n",
      "2020-11-29 15:14:49,480 : INFO : Extracting features and creating vocabulary...\n"
     ]
    },
    {
     "name": "stdout",
     "output_type": "stream",
     "text": [
      "Total statements classified: 11520\n",
      "Score: 0.6708390874339865\n",
      "score length 5\n",
      "Confusion matrix:\n",
      "[[2357 2745]\n",
      " [1793 4625]]\n",
      "Model - tfidf features with statement\n",
      "0 9216 2304\n"
     ]
    },
    {
     "name": "stderr",
     "output_type": "stream",
     "text": [
      "2020-11-29 15:15:28,212 : INFO : Training a Classification Model...\n",
      "2020-11-29 15:15:28,221 : INFO : Extracting features and creating vocabulary...\n"
     ]
    },
    {
     "name": "stdout",
     "output_type": "stream",
     "text": [
      "1 9216 2304\n"
     ]
    },
    {
     "name": "stderr",
     "output_type": "stream",
     "text": [
      "2020-11-29 15:16:06,870 : INFO : Training a Classification Model...\n",
      "2020-11-29 15:16:06,878 : INFO : Extracting features and creating vocabulary...\n"
     ]
    },
    {
     "name": "stdout",
     "output_type": "stream",
     "text": [
      "2 9216 2304\n"
     ]
    },
    {
     "name": "stderr",
     "output_type": "stream",
     "text": [
      "2020-11-29 15:16:45,479 : INFO : Training a Classification Model...\n",
      "2020-11-29 15:16:45,489 : INFO : Extracting features and creating vocabulary...\n"
     ]
    },
    {
     "name": "stdout",
     "output_type": "stream",
     "text": [
      "3 9216 2304\n"
     ]
    },
    {
     "name": "stderr",
     "output_type": "stream",
     "text": [
      "2020-11-29 15:17:24,137 : INFO : Training a Classification Model...\n",
      "2020-11-29 15:17:24,146 : INFO : Extracting features and creating vocabulary...\n"
     ]
    },
    {
     "name": "stdout",
     "output_type": "stream",
     "text": [
      "4 9216 2304\n"
     ]
    },
    {
     "name": "stderr",
     "output_type": "stream",
     "text": [
      "2020-11-29 15:18:02,991 : INFO : Training a Classification Model...\n"
     ]
    },
    {
     "name": "stdout",
     "output_type": "stream",
     "text": [
      "Total statements classified: 11520\n",
      "Score: 0.6991211110570669\n",
      "score length 5\n",
      "Confusion matrix:\n",
      "[[1443 3659]\n",
      " [1002 5416]]\n"
     ]
    }
   ],
   "source": [
    "field='statement'\n",
    "feature_reps=['binary','counts','tfidf']\n",
    "nb_results=[]\n",
    "nb_clf = MultinomialNB()\n",
    "for feature_rep in feature_reps:\n",
    "        print(f'Model - {feature_rep} features with statement')\n",
    "        apply_kfold(nb_clf,train_val,field=field,feature_rep=feature_rep)"
   ]
  },
  {
   "cell_type": "markdown",
   "metadata": {},
   "source": [
    "## Logistics Regression with K-fold cross Validation"
   ]
  },
  {
   "cell_type": "code",
   "execution_count": 24,
   "metadata": {},
   "outputs": [
    {
     "name": "stderr",
     "output_type": "stream",
     "text": [
      "2020-11-29 15:18:03,011 : INFO : Extracting features and creating vocabulary...\n"
     ]
    },
    {
     "name": "stdout",
     "output_type": "stream",
     "text": [
      "Model - binary features with statement\n",
      "0 9216 2304\n"
     ]
    },
    {
     "name": "stderr",
     "output_type": "stream",
     "text": [
      "2020-11-29 15:18:41,941 : INFO : Training a Classification Model...\n",
      "2020-11-29 15:18:42,040 : INFO : Extracting features and creating vocabulary...\n"
     ]
    },
    {
     "name": "stdout",
     "output_type": "stream",
     "text": [
      "[LibLinear]1 9216 2304\n"
     ]
    },
    {
     "name": "stderr",
     "output_type": "stream",
     "text": [
      "2020-11-29 15:19:20,926 : INFO : Training a Classification Model...\n",
      "2020-11-29 15:19:21,024 : INFO : Extracting features and creating vocabulary...\n"
     ]
    },
    {
     "name": "stdout",
     "output_type": "stream",
     "text": [
      "[LibLinear]2 9216 2304\n"
     ]
    },
    {
     "name": "stderr",
     "output_type": "stream",
     "text": [
      "2020-11-29 15:35:33,689 : INFO : Training a Classification Model...\n",
      "2020-11-29 15:35:33,870 : INFO : Extracting features and creating vocabulary...\n"
     ]
    },
    {
     "name": "stdout",
     "output_type": "stream",
     "text": [
      "[LibLinear]3 9216 2304\n"
     ]
    },
    {
     "name": "stderr",
     "output_type": "stream",
     "text": [
      "2020-11-29 15:36:17,741 : INFO : Training a Classification Model...\n",
      "2020-11-29 15:36:17,826 : INFO : Extracting features and creating vocabulary...\n"
     ]
    },
    {
     "name": "stdout",
     "output_type": "stream",
     "text": [
      "[LibLinear]4 9216 2304\n"
     ]
    },
    {
     "name": "stderr",
     "output_type": "stream",
     "text": [
      "2020-11-29 15:36:59,725 : INFO : Training a Classification Model...\n",
      "2020-11-29 15:36:59,810 : INFO : Extracting features and creating vocabulary...\n"
     ]
    },
    {
     "name": "stdout",
     "output_type": "stream",
     "text": [
      "[LibLinear]Total statements classified: 11520\n",
      "Score: 0.6318176784203094\n",
      "score length 5\n",
      "Confusion matrix:\n",
      "[[2532 2570]\n",
      " [2267 4151]]\n",
      "Model - counts features with statement\n",
      "0 9216 2304\n"
     ]
    },
    {
     "name": "stderr",
     "output_type": "stream",
     "text": [
      "2020-11-29 15:37:42,385 : INFO : Training a Classification Model...\n",
      "2020-11-29 15:37:42,466 : INFO : Extracting features and creating vocabulary...\n"
     ]
    },
    {
     "name": "stdout",
     "output_type": "stream",
     "text": [
      "[LibLinear]1 9216 2304\n"
     ]
    },
    {
     "name": "stderr",
     "output_type": "stream",
     "text": [
      "2020-11-29 15:38:23,893 : INFO : Training a Classification Model...\n",
      "2020-11-29 15:38:24,056 : INFO : Extracting features and creating vocabulary...\n"
     ]
    },
    {
     "name": "stdout",
     "output_type": "stream",
     "text": [
      "[LibLinear]2 9216 2304\n"
     ]
    },
    {
     "name": "stderr",
     "output_type": "stream",
     "text": [
      "2020-11-29 15:39:04,150 : INFO : Training a Classification Model...\n",
      "2020-11-29 15:39:04,250 : INFO : Extracting features and creating vocabulary...\n"
     ]
    },
    {
     "name": "stdout",
     "output_type": "stream",
     "text": [
      "[LibLinear]3 9216 2304\n"
     ]
    },
    {
     "name": "stderr",
     "output_type": "stream",
     "text": [
      "2020-11-29 15:39:49,488 : INFO : Training a Classification Model...\n",
      "2020-11-29 15:39:49,577 : INFO : Extracting features and creating vocabulary...\n"
     ]
    },
    {
     "name": "stdout",
     "output_type": "stream",
     "text": [
      "[LibLinear]4 9216 2304\n"
     ]
    },
    {
     "name": "stderr",
     "output_type": "stream",
     "text": [
      "2020-11-29 15:40:36,070 : INFO : Training a Classification Model...\n",
      "2020-11-29 15:40:36,152 : INFO : Extracting features and creating vocabulary...\n"
     ]
    },
    {
     "name": "stdout",
     "output_type": "stream",
     "text": [
      "[LibLinear]Total statements classified: 11520\n",
      "Score: 0.6258242722163977\n",
      "score length 5\n",
      "Confusion matrix:\n",
      "[[2524 2578]\n",
      " [2321 4097]]\n",
      "Model - tfidf features with statement\n",
      "0 9216 2304\n"
     ]
    },
    {
     "name": "stderr",
     "output_type": "stream",
     "text": [
      "2020-11-29 15:41:19,921 : INFO : Training a Classification Model...\n",
      "2020-11-29 15:41:19,966 : INFO : Extracting features and creating vocabulary...\n"
     ]
    },
    {
     "name": "stdout",
     "output_type": "stream",
     "text": [
      "[LibLinear]1 9216 2304\n"
     ]
    },
    {
     "name": "stderr",
     "output_type": "stream",
     "text": [
      "2020-11-29 15:42:09,994 : INFO : Training a Classification Model...\n",
      "2020-11-29 15:42:10,030 : INFO : Extracting features and creating vocabulary...\n"
     ]
    },
    {
     "name": "stdout",
     "output_type": "stream",
     "text": [
      "[LibLinear]2 9216 2304\n"
     ]
    },
    {
     "name": "stderr",
     "output_type": "stream",
     "text": [
      "2020-11-29 15:42:57,193 : INFO : Training a Classification Model...\n",
      "2020-11-29 15:42:57,226 : INFO : Extracting features and creating vocabulary...\n"
     ]
    },
    {
     "name": "stdout",
     "output_type": "stream",
     "text": [
      "[LibLinear]3 9216 2304\n"
     ]
    },
    {
     "name": "stderr",
     "output_type": "stream",
     "text": [
      "2020-11-29 15:43:37,580 : INFO : Training a Classification Model...\n",
      "2020-11-29 15:43:37,616 : INFO : Extracting features and creating vocabulary...\n"
     ]
    },
    {
     "name": "stdout",
     "output_type": "stream",
     "text": [
      "[LibLinear]4 9216 2304\n"
     ]
    },
    {
     "name": "stderr",
     "output_type": "stream",
     "text": [
      "2020-11-29 15:44:17,537 : INFO : Training a Classification Model...\n"
     ]
    },
    {
     "name": "stdout",
     "output_type": "stream",
     "text": [
      "[LibLinear]Total statements classified: 11520\n",
      "Score: 0.6552547115771776\n",
      "score length 5\n",
      "Confusion matrix:\n",
      "[[2470 2632]\n",
      " [2008 4410]]\n"
     ]
    }
   ],
   "source": [
    "field='statement'\n",
    "feature_reps=['binary','counts','tfidf']\n",
    "LogR_clf = LogisticRegression(verbose=1, solver='liblinear',random_state=0, C=5, penalty='l2',max_iter=1000)\n",
    "\n",
    "for feature_rep in feature_reps:\n",
    "        print(f'Model - {feature_rep} features with statement')\n",
    "        apply_kfold(LogR_clf,train_val,field=field,feature_rep=feature_rep)"
   ]
  },
  {
   "cell_type": "markdown",
   "metadata": {},
   "source": [
    "## SVM with K-fold cross Validation"
   ]
  },
  {
   "cell_type": "code",
   "execution_count": 25,
   "metadata": {},
   "outputs": [
    {
     "name": "stderr",
     "output_type": "stream",
     "text": [
      "2020-11-29 15:44:17,579 : INFO : Extracting features and creating vocabulary...\n"
     ]
    },
    {
     "name": "stdout",
     "output_type": "stream",
     "text": [
      "Model - binary features with statement\n",
      "0 9216 2304\n"
     ]
    },
    {
     "name": "stderr",
     "output_type": "stream",
     "text": [
      "2020-11-29 15:44:57,514 : INFO : Training a Classification Model...\n",
      "2020-11-29 15:44:57,657 : INFO : Extracting features and creating vocabulary...\n"
     ]
    },
    {
     "name": "stdout",
     "output_type": "stream",
     "text": [
      "1 9216 2304\n"
     ]
    },
    {
     "name": "stderr",
     "output_type": "stream",
     "text": [
      "2020-11-29 15:45:37,463 : INFO : Training a Classification Model...\n",
      "2020-11-29 15:45:37,601 : INFO : Extracting features and creating vocabulary...\n"
     ]
    },
    {
     "name": "stdout",
     "output_type": "stream",
     "text": [
      "2 9216 2304\n"
     ]
    },
    {
     "name": "stderr",
     "output_type": "stream",
     "text": [
      "2020-11-29 15:46:17,435 : INFO : Training a Classification Model...\n",
      "2020-11-29 15:46:17,587 : INFO : Extracting features and creating vocabulary...\n"
     ]
    },
    {
     "name": "stdout",
     "output_type": "stream",
     "text": [
      "3 9216 2304\n"
     ]
    },
    {
     "name": "stderr",
     "output_type": "stream",
     "text": [
      "2020-11-29 15:46:57,610 : INFO : Training a Classification Model...\n",
      "2020-11-29 15:46:57,753 : INFO : Extracting features and creating vocabulary...\n"
     ]
    },
    {
     "name": "stdout",
     "output_type": "stream",
     "text": [
      "4 9216 2304\n"
     ]
    },
    {
     "name": "stderr",
     "output_type": "stream",
     "text": [
      "2020-11-29 15:47:37,807 : INFO : Training a Classification Model...\n",
      "2020-11-29 15:47:37,951 : INFO : Extracting features and creating vocabulary...\n"
     ]
    },
    {
     "name": "stdout",
     "output_type": "stream",
     "text": [
      "Total statements classified: 11520\n",
      "Score: 0.616949159904504\n",
      "score length 5\n",
      "Confusion matrix:\n",
      "[[2574 2528]\n",
      " [2427 3991]]\n",
      "Model - counts features with statement\n",
      "0 9216 2304\n"
     ]
    },
    {
     "name": "stderr",
     "output_type": "stream",
     "text": [
      "2020-11-29 15:48:17,714 : INFO : Training a Classification Model...\n",
      "2020-11-29 15:48:17,965 : INFO : Extracting features and creating vocabulary...\n"
     ]
    },
    {
     "name": "stdout",
     "output_type": "stream",
     "text": [
      "1 9216 2304\n"
     ]
    },
    {
     "name": "stderr",
     "output_type": "stream",
     "text": [
      "2020-11-29 15:48:57,695 : INFO : Training a Classification Model...\n",
      "2020-11-29 15:48:57,948 : INFO : Extracting features and creating vocabulary...\n"
     ]
    },
    {
     "name": "stdout",
     "output_type": "stream",
     "text": [
      "2 9216 2304\n"
     ]
    },
    {
     "name": "stderr",
     "output_type": "stream",
     "text": [
      "2020-11-29 15:49:37,824 : INFO : Training a Classification Model...\n",
      "2020-11-29 15:49:38,081 : INFO : Extracting features and creating vocabulary...\n"
     ]
    },
    {
     "name": "stdout",
     "output_type": "stream",
     "text": [
      "3 9216 2304\n"
     ]
    },
    {
     "name": "stderr",
     "output_type": "stream",
     "text": [
      "2020-11-29 15:50:17,988 : INFO : Training a Classification Model...\n",
      "2020-11-29 15:50:18,177 : INFO : Extracting features and creating vocabulary...\n"
     ]
    },
    {
     "name": "stdout",
     "output_type": "stream",
     "text": [
      "4 9216 2304\n"
     ]
    },
    {
     "name": "stderr",
     "output_type": "stream",
     "text": [
      "2020-11-29 15:50:59,512 : INFO : Training a Classification Model...\n",
      "2020-11-29 15:50:59,779 : INFO : Extracting features and creating vocabulary...\n"
     ]
    },
    {
     "name": "stdout",
     "output_type": "stream",
     "text": [
      "Total statements classified: 11520\n",
      "Score: 0.615255046480374\n",
      "score length 5\n",
      "Confusion matrix:\n",
      "[[2579 2523]\n",
      " [2445 3973]]\n",
      "Model - tfidf features with statement\n",
      "0 9216 2304\n"
     ]
    },
    {
     "name": "stderr",
     "output_type": "stream",
     "text": [
      "2020-11-29 15:51:39,692 : INFO : Training a Classification Model...\n",
      "2020-11-29 15:51:39,731 : INFO : Extracting features and creating vocabulary...\n"
     ]
    },
    {
     "name": "stdout",
     "output_type": "stream",
     "text": [
      "1 9216 2304\n"
     ]
    },
    {
     "name": "stderr",
     "output_type": "stream",
     "text": [
      "2020-11-29 15:52:19,542 : INFO : Training a Classification Model...\n",
      "2020-11-29 15:52:19,581 : INFO : Extracting features and creating vocabulary...\n"
     ]
    },
    {
     "name": "stdout",
     "output_type": "stream",
     "text": [
      "2 9216 2304\n"
     ]
    },
    {
     "name": "stderr",
     "output_type": "stream",
     "text": [
      "2020-11-29 15:52:59,442 : INFO : Training a Classification Model...\n",
      "2020-11-29 15:52:59,482 : INFO : Extracting features and creating vocabulary...\n"
     ]
    },
    {
     "name": "stdout",
     "output_type": "stream",
     "text": [
      "3 9216 2304\n"
     ]
    },
    {
     "name": "stderr",
     "output_type": "stream",
     "text": [
      "2020-11-29 16:01:01,463 : INFO : Training a Classification Model...\n",
      "2020-11-29 16:01:01,502 : INFO : Extracting features and creating vocabulary...\n"
     ]
    },
    {
     "name": "stdout",
     "output_type": "stream",
     "text": [
      "4 9216 2304\n"
     ]
    },
    {
     "name": "stderr",
     "output_type": "stream",
     "text": [
      "2020-11-29 16:01:42,182 : INFO : Training a Classification Model...\n"
     ]
    },
    {
     "name": "stdout",
     "output_type": "stream",
     "text": [
      "Total statements classified: 11520\n",
      "Score: 0.6480762074477264\n",
      "score length 5\n",
      "Confusion matrix:\n",
      "[[2541 2561]\n",
      " [2113 4305]]\n"
     ]
    }
   ],
   "source": [
    "field='statement'\n",
    "feature_reps=['binary','counts','tfidf']\n",
    "svm_clf = svm.LinearSVC()\n",
    "\n",
    "for feature_rep in feature_reps:\n",
    "        print(f'Model - {feature_rep} features with statement')\n",
    "        apply_kfold(svm_clf,train_val,field=field,feature_rep=feature_rep)"
   ]
  },
  {
   "cell_type": "markdown",
   "metadata": {},
   "source": [
    "## RF with K-fold cross Validation"
   ]
  },
  {
   "cell_type": "code",
   "execution_count": null,
   "metadata": {},
   "outputs": [
    {
     "name": "stderr",
     "output_type": "stream",
     "text": [
      "2020-11-29 16:01:42,245 : INFO : Extracting features and creating vocabulary...\n"
     ]
    },
    {
     "name": "stdout",
     "output_type": "stream",
     "text": [
      "Model - binary features with statement\n",
      "0 9216 2304\n"
     ]
    },
    {
     "name": "stderr",
     "output_type": "stream",
     "text": [
      "2020-11-29 16:02:23,331 : INFO : Training a Classification Model...\n",
      "2020-11-29 16:03:47,938 : INFO : Extracting features and creating vocabulary...\n"
     ]
    },
    {
     "name": "stdout",
     "output_type": "stream",
     "text": [
      "1 9216 2304\n"
     ]
    },
    {
     "name": "stderr",
     "output_type": "stream",
     "text": [
      "2020-11-29 16:04:40,416 : INFO : Training a Classification Model...\n",
      "2020-11-29 16:06:24,841 : INFO : Extracting features and creating vocabulary...\n"
     ]
    },
    {
     "name": "stdout",
     "output_type": "stream",
     "text": [
      "2 9216 2304\n"
     ]
    },
    {
     "name": "stderr",
     "output_type": "stream",
     "text": [
      "2020-11-29 16:07:24,645 : INFO : Training a Classification Model...\n",
      "2020-11-29 16:08:53,518 : INFO : Extracting features and creating vocabulary...\n"
     ]
    },
    {
     "name": "stdout",
     "output_type": "stream",
     "text": [
      "3 9216 2304\n"
     ]
    },
    {
     "name": "stderr",
     "output_type": "stream",
     "text": [
      "2020-11-29 16:09:39,748 : INFO : Training a Classification Model...\n",
      "2020-11-29 16:11:18,948 : INFO : Extracting features and creating vocabulary...\n"
     ]
    },
    {
     "name": "stdout",
     "output_type": "stream",
     "text": [
      "4 9216 2304\n"
     ]
    },
    {
     "name": "stderr",
     "output_type": "stream",
     "text": [
      "2020-11-29 16:12:01,949 : INFO : Training a Classification Model...\n",
      "2020-11-29 16:13:36,395 : INFO : Extracting features and creating vocabulary...\n"
     ]
    },
    {
     "name": "stdout",
     "output_type": "stream",
     "text": [
      "Total statements classified: 11520\n",
      "Score: 0.6816749066807989\n",
      "score length 5\n",
      "Confusion matrix:\n",
      "[[2155 2947]\n",
      " [1575 4843]]\n",
      "Model - counts features with statement\n",
      "0 9216 2304\n"
     ]
    },
    {
     "name": "stderr",
     "output_type": "stream",
     "text": [
      "2020-11-29 16:14:25,004 : INFO : Training a Classification Model...\n",
      "2020-11-29 16:15:58,377 : INFO : Extracting features and creating vocabulary...\n"
     ]
    },
    {
     "name": "stdout",
     "output_type": "stream",
     "text": [
      "1 9216 2304\n"
     ]
    },
    {
     "name": "stderr",
     "output_type": "stream",
     "text": [
      "2020-11-29 16:16:45,730 : INFO : Training a Classification Model...\n",
      "2020-11-29 16:18:13,986 : INFO : Extracting features and creating vocabulary...\n"
     ]
    },
    {
     "name": "stdout",
     "output_type": "stream",
     "text": [
      "2 9216 2304\n"
     ]
    },
    {
     "name": "stderr",
     "output_type": "stream",
     "text": [
      "2020-11-29 16:19:03,080 : INFO : Training a Classification Model...\n",
      "2020-11-29 16:20:34,457 : INFO : Extracting features and creating vocabulary...\n"
     ]
    },
    {
     "name": "stdout",
     "output_type": "stream",
     "text": [
      "3 9216 2304\n"
     ]
    },
    {
     "name": "stderr",
     "output_type": "stream",
     "text": [
      "2020-11-29 16:21:18,368 : INFO : Training a Classification Model...\n"
     ]
    }
   ],
   "source": [
    "field='statement'\n",
    "feature_reps=['binary','counts','tfidf']\n",
    "rf_clf = RandomForestClassifier(n_estimators=1000)\n",
    "\n",
    "for feature_rep in feature_reps:\n",
    "        print(f'Model - {feature_rep} features with statement')\n",
    "        apply_kfold(rf_clf,train_val,field=field,feature_rep=feature_rep)"
   ]
  },
  {
   "cell_type": "markdown",
   "metadata": {},
   "source": [
    "## Best Model Selection"
   ]
  },
  {
   "cell_type": "markdown",
   "metadata": {},
   "source": [
    "\"\"\"\n",
    "Out of all the models fitted, we would take 2 best performing model. we would call them candidate models\n",
    "from the confusion matrix, we can see that logistic regression and SVM (with either binary or tfidf features) are better performing \n",
    "in terms of precision and recall (take a look into false positive and true negative counts which appeares\n",
    "to be low compared to rest of the models).\n",
    "\n",
    "Using k-fold cross validation, we see the performance of the models on the entire dataset. And, the model's aren't performing well. We can apply other features to improve the performance, and grid-search can also help us to find best parameters to improve the perfromance.\n",
    "\"\"\""
   ]
  },
  {
   "cell_type": "markdown",
   "metadata": {},
   "source": [
    "## Train the best Model on entire dataset"
   ]
  },
  {
   "cell_type": "code",
   "execution_count": null,
   "metadata": {},
   "outputs": [],
   "source": [
    "logging.basicConfig(format='%(asctime)s : %(levelname)s : %(message)s', level=logging.INFO)\n",
    "\n",
    "def extract_final_features(field,training_data,type):\n",
    "    \"\"\"Extract features using different methods\"\"\"\n",
    "    \n",
    "    logging.info(\"Extracting features and creating vocabulary...\")\n",
    "    \n",
    "    if \"binary\" in type:\n",
    "        \n",
    "        # BINARY FEATURE REPRESENTATION\n",
    "        cv= CountVectorizer(binary=True, max_df=0.95)\n",
    "        cv.fit_transform(training_data.values)\n",
    "        \n",
    "        train_feature_set=cv.transform(training_data.values)\n",
    "        \n",
    "        return train_feature_set,cv\n",
    "  \n",
    "    elif \"counts\" in type:\n",
    "        \n",
    "        # COUNT BASED FEATURE REPRESENTATION\n",
    "        cv= CountVectorizer(binary=False, max_df=0.95)\n",
    "        cv.fit_transform(training_data.values)\n",
    "        \n",
    "        train_feature_set=cv.transform(training_data.values)\n",
    "        \n",
    "        return train_feature_set,cv\n",
    "    \n",
    "    else:    \n",
    "        \n",
    "        # TF-IDF BASED FEATURE REPRESENTATION\n",
    "        tfidf_vectorizer=TfidfVectorizer(use_idf=True, max_df=0.95)\n",
    "        tfidf_vectorizer.fit_transform(training_data.values)\n",
    "        \n",
    "        train_feature_set=tfidf_vectorizer.transform(training_data.values)\n",
    "        \n",
    "        return train_feature_set,tfidf_vectorizer"
   ]
  },
  {
   "cell_type": "code",
   "execution_count": null,
   "metadata": {},
   "outputs": [],
   "source": [
    "def train_final_model(classifier, train_val, field=\"statement\",feature_rep=\"binary\"):\n",
    "    \"\"\"\n",
    "    Training the best classifier on entire dataset for the provided features.\n",
    "    \"\"\"\n",
    "    \n",
    "    logging.info(\"Starting model training...\")    \n",
    "\n",
    "    # features\n",
    "    train_x=train_val['statement']\n",
    "    \n",
    "    # GET LABELS\n",
    "    target=train_val['label'].values\n",
    "     \n",
    "    # GET FEATURES\n",
    "    features,feature_transformer=extract_final_features(field,train_x,type=feature_rep)\n",
    "\n",
    "    # INIT LOGISTIC REGRESSION CLASSIFIER\n",
    "    logging.info(\"Training a Final Model...\")\n",
    "#     scikit_log_reg = LogisticRegression(verbose=1, solver='liblinear',random_state=0, C=5, penalty='l2',max_iter=1000)\n",
    "    model=classifier.fit(features,target)\n",
    "\n",
    "    logging.info(\"Done training.\")\n",
    "    \n",
    "    return model,feature_transformer"
   ]
  },
  {
   "cell_type": "code",
   "execution_count": null,
   "metadata": {},
   "outputs": [],
   "source": [
    "def get_predictions(model,X_test):\n",
    "    \n",
    "    # get predicted labels\n",
    "    pred = model.predict(X_test)\n",
    "    \n",
    "    return pred"
   ]
  },
  {
   "cell_type": "code",
   "execution_count": null,
   "metadata": {},
   "outputs": [],
   "source": [
    "field='statement'\n",
    "LogR_clf_final = LogisticRegression(verbose=1, solver='liblinear',random_state=0, C=5, penalty='l2',max_iter=1000)\n",
    "lr_final_model,transformer=train_final_model(LogR_clf_final,train_val,field=field,feature_rep='counts')"
   ]
  },
  {
   "cell_type": "markdown",
   "metadata": {},
   "source": [
    "## Check predictions on unseen data"
   ]
  },
  {
   "cell_type": "code",
   "execution_count": null,
   "metadata": {},
   "outputs": [],
   "source": [
    "# https://www.snopes.com/fact-check/alaska-town-60-days-without-sun/\n",
    "test_features=transformer.transform([\"Building a wall on the U.S.-Mexico border will take literally years.\"])\n",
    "ouput = get_predictions(lr_final_model,test_features)"
   ]
  },
  {
   "cell_type": "code",
   "execution_count": null,
   "metadata": {},
   "outputs": [],
   "source": [
    "ouput[0]"
   ]
  },
  {
   "cell_type": "code",
   "execution_count": null,
   "metadata": {},
   "outputs": [],
   "source": [
    "# https://www.politifact.com/factchecks/2020/nov/20/viral-image/no-passage-about-defeat-isnt-donald-trumps-art-dea/\n",
    "test_features=transformer.transform([\"Wisconsin is on pace to double the number of layoffs this year.\"])\n",
    "ouput = get_predictions(lr_final_model,test_features)"
   ]
  },
  {
   "cell_type": "code",
   "execution_count": null,
   "metadata": {},
   "outputs": [],
   "source": [
    "ouput[0] # this information is predicted as true, however, it should be false"
   ]
  },
  {
   "cell_type": "markdown",
   "metadata": {},
   "source": [
    "## Save Model for Future Use"
   ]
  },
  {
   "cell_type": "code",
   "execution_count": 70,
   "metadata": {},
   "outputs": [],
   "source": [
    "import pickle\n",
    "\n",
    "model_path=\"../models/lr_final_model.pkl\"\n",
    "transformer_path=\"../models/transformer.pkl\"\n",
    "\n",
    "# we need to save both the transformer -> to encode a document and the model itself to make predictions based on the weight vectors \n",
    "pickle.dump(lr_final_model,open(model_path, 'wb'))\n",
    "pickle.dump(transformer,open(transformer_path,'wb'))"
   ]
  }
 ],
 "metadata": {
  "kernelspec": {
   "display_name": "Python 3",
   "language": "python",
   "name": "python3"
  },
  "language_info": {
   "codemirror_mode": {
    "name": "ipython",
    "version": 3
   },
   "file_extension": ".py",
   "mimetype": "text/x-python",
   "name": "python",
   "nbconvert_exporter": "python",
   "pygments_lexer": "ipython3",
   "version": "3.8.3"
  }
 },
 "nbformat": 4,
 "nbformat_minor": 4
}
