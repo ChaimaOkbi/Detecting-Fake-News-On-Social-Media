{
 "cells": [
  {
   "cell_type": "markdown",
   "metadata": {},
   "source": [
    "# Import necessary dependencies and settings"
   ]
  },
  {
   "cell_type": "code",
   "execution_count": 1,
   "metadata": {},
   "outputs": [
    {
     "name": "stderr",
     "output_type": "stream",
     "text": [
      "[nltk_data] Downloading package wordnet to\n",
      "[nltk_data]     /Users/kiranrawat/nltk_data...\n",
      "[nltk_data]   Package wordnet is already up-to-date!\n"
     ]
    }
   ],
   "source": [
    "import pandas as pd\n",
    "import numpy as np\n",
    "import string\n",
    "import logging\n",
    "import re\n",
    "import pickle\n",
    "\n",
    "from sklearn.preprocessing import LabelEncoder\n",
    "from sklearn.feature_extraction.text import CountVectorizer,TfidfVectorizer\n",
    "\n",
    "from sklearn.pipeline import Pipeline\n",
    "from sklearn.naive_bayes import MultinomialNB\n",
    "\n",
    "from sklearn.linear_model import  LogisticRegression\n",
    "from sklearn import svm\n",
    "from sklearn.ensemble import RandomForestClassifier\n",
    "from sklearn.model_selection import train_test_split\n",
    "from sklearn.metrics import classification_report, confusion_matrix, f1_score\n",
    "from sklearn.model_selection import KFold\n",
    "from sklearn.model_selection import GridSearchCV\n",
    "\n",
    "from skopt import BayesSearchCV\n",
    "from skopt.callbacks import DeadlineStopper, VerboseCallback, DeltaXStopper\n",
    "\n",
    "import nltk\n",
    "from nltk.corpus import stopwords\n",
    "\n",
    "#import python scripts to use user_defined functions\n",
    "import sys\n",
    "import os\n",
    "from pyprojroot import here\n",
    "sys.path.append(os.path.join(here(), 'src'))\n",
    "\n",
    "from cleaning import process_text, process_text2\n",
    "from training import extract_features, train_model, extract_final_features, train_final_model  \n",
    "from prediction import get_predictions"
   ]
  },
  {
   "cell_type": "markdown",
   "metadata": {},
   "source": [
    "# Loading the Data"
   ]
  },
  {
   "cell_type": "code",
   "execution_count": 2,
   "metadata": {},
   "outputs": [],
   "source": [
    "train_news = pd.read_csv('../data/processed/train.csv').drop('len', axis=1)\n",
    "val_news = pd.read_csv('../data/processed/val.csv')\n",
    "test_news = pd.read_csv('../data/processed/test.csv').drop('len', axis=1)"
   ]
  },
  {
   "cell_type": "code",
   "execution_count": 3,
   "metadata": {},
   "outputs": [
    {
     "data": {
      "text/html": [
       "<div>\n",
       "<style scoped>\n",
       "    .dataframe tbody tr th:only-of-type {\n",
       "        vertical-align: middle;\n",
       "    }\n",
       "\n",
       "    .dataframe tbody tr th {\n",
       "        vertical-align: top;\n",
       "    }\n",
       "\n",
       "    .dataframe thead th {\n",
       "        text-align: right;\n",
       "    }\n",
       "</style>\n",
       "<table border=\"1\" class=\"dataframe\">\n",
       "  <thead>\n",
       "    <tr style=\"text-align: right;\">\n",
       "      <th></th>\n",
       "      <th>label</th>\n",
       "      <th>statement</th>\n",
       "    </tr>\n",
       "  </thead>\n",
       "  <tbody>\n",
       "    <tr>\n",
       "      <th>0</th>\n",
       "      <td>False</td>\n",
       "      <td>Says the Annies List political group supports ...</td>\n",
       "    </tr>\n",
       "    <tr>\n",
       "      <th>1</th>\n",
       "      <td>True</td>\n",
       "      <td>When did the decline of coal start? It started...</td>\n",
       "    </tr>\n",
       "    <tr>\n",
       "      <th>2</th>\n",
       "      <td>True</td>\n",
       "      <td>Hillary Clinton agrees with John McCain \"by vo...</td>\n",
       "    </tr>\n",
       "    <tr>\n",
       "      <th>3</th>\n",
       "      <td>False</td>\n",
       "      <td>Health care reform legislation is likely to ma...</td>\n",
       "    </tr>\n",
       "    <tr>\n",
       "      <th>4</th>\n",
       "      <td>True</td>\n",
       "      <td>The economic turnaround started at the end of ...</td>\n",
       "    </tr>\n",
       "  </tbody>\n",
       "</table>\n",
       "</div>"
      ],
      "text/plain": [
       "   label                                          statement\n",
       "0  False  Says the Annies List political group supports ...\n",
       "1   True  When did the decline of coal start? It started...\n",
       "2   True  Hillary Clinton agrees with John McCain \"by vo...\n",
       "3  False  Health care reform legislation is likely to ma...\n",
       "4   True  The economic turnaround started at the end of ..."
      ]
     },
     "execution_count": 3,
     "metadata": {},
     "output_type": "execute_result"
    }
   ],
   "source": [
    "train_news.head()"
   ]
  },
  {
   "cell_type": "code",
   "execution_count": 4,
   "metadata": {},
   "outputs": [
    {
     "data": {
      "text/html": [
       "<div>\n",
       "<style scoped>\n",
       "    .dataframe tbody tr th:only-of-type {\n",
       "        vertical-align: middle;\n",
       "    }\n",
       "\n",
       "    .dataframe tbody tr th {\n",
       "        vertical-align: top;\n",
       "    }\n",
       "\n",
       "    .dataframe thead th {\n",
       "        text-align: right;\n",
       "    }\n",
       "</style>\n",
       "<table border=\"1\" class=\"dataframe\">\n",
       "  <thead>\n",
       "    <tr style=\"text-align: right;\">\n",
       "      <th></th>\n",
       "      <th>label</th>\n",
       "      <th>statement</th>\n",
       "    </tr>\n",
       "  </thead>\n",
       "  <tbody>\n",
       "    <tr>\n",
       "      <th>0</th>\n",
       "      <td>False</td>\n",
       "      <td>Says the Annies List political group supports ...</td>\n",
       "    </tr>\n",
       "    <tr>\n",
       "      <th>1</th>\n",
       "      <td>True</td>\n",
       "      <td>When did the decline of coal start? It started...</td>\n",
       "    </tr>\n",
       "    <tr>\n",
       "      <th>2</th>\n",
       "      <td>True</td>\n",
       "      <td>Hillary Clinton agrees with John McCain \"by vo...</td>\n",
       "    </tr>\n",
       "    <tr>\n",
       "      <th>3</th>\n",
       "      <td>False</td>\n",
       "      <td>Health care reform legislation is likely to ma...</td>\n",
       "    </tr>\n",
       "    <tr>\n",
       "      <th>4</th>\n",
       "      <td>True</td>\n",
       "      <td>The economic turnaround started at the end of ...</td>\n",
       "    </tr>\n",
       "    <tr>\n",
       "      <th>...</th>\n",
       "      <td>...</td>\n",
       "      <td>...</td>\n",
       "    </tr>\n",
       "    <tr>\n",
       "      <th>10231</th>\n",
       "      <td>True</td>\n",
       "      <td>There are a larger number of shark attacks in ...</td>\n",
       "    </tr>\n",
       "    <tr>\n",
       "      <th>10232</th>\n",
       "      <td>True</td>\n",
       "      <td>Democrats have now become the party of the [At...</td>\n",
       "    </tr>\n",
       "    <tr>\n",
       "      <th>10233</th>\n",
       "      <td>True</td>\n",
       "      <td>Says an alternative to Social Security that op...</td>\n",
       "    </tr>\n",
       "    <tr>\n",
       "      <th>10234</th>\n",
       "      <td>False</td>\n",
       "      <td>On lifting the U.S. Cuban embargo and allowing...</td>\n",
       "    </tr>\n",
       "    <tr>\n",
       "      <th>10235</th>\n",
       "      <td>False</td>\n",
       "      <td>The Department of Veterans Affairs has a manua...</td>\n",
       "    </tr>\n",
       "  </tbody>\n",
       "</table>\n",
       "<p>10236 rows × 2 columns</p>\n",
       "</div>"
      ],
      "text/plain": [
       "       label                                          statement\n",
       "0      False  Says the Annies List political group supports ...\n",
       "1       True  When did the decline of coal start? It started...\n",
       "2       True  Hillary Clinton agrees with John McCain \"by vo...\n",
       "3      False  Health care reform legislation is likely to ma...\n",
       "4       True  The economic turnaround started at the end of ...\n",
       "...      ...                                                ...\n",
       "10231   True  There are a larger number of shark attacks in ...\n",
       "10232   True  Democrats have now become the party of the [At...\n",
       "10233   True  Says an alternative to Social Security that op...\n",
       "10234  False  On lifting the U.S. Cuban embargo and allowing...\n",
       "10235  False  The Department of Veterans Affairs has a manua...\n",
       "\n",
       "[10236 rows x 2 columns]"
      ]
     },
     "metadata": {},
     "output_type": "display_data"
    },
    {
     "data": {
      "text/html": [
       "<div>\n",
       "<style scoped>\n",
       "    .dataframe tbody tr th:only-of-type {\n",
       "        vertical-align: middle;\n",
       "    }\n",
       "\n",
       "    .dataframe tbody tr th {\n",
       "        vertical-align: top;\n",
       "    }\n",
       "\n",
       "    .dataframe thead th {\n",
       "        text-align: right;\n",
       "    }\n",
       "</style>\n",
       "<table border=\"1\" class=\"dataframe\">\n",
       "  <thead>\n",
       "    <tr style=\"text-align: right;\">\n",
       "      <th></th>\n",
       "      <th>label</th>\n",
       "      <th>statement</th>\n",
       "    </tr>\n",
       "  </thead>\n",
       "  <tbody>\n",
       "    <tr>\n",
       "      <th>0</th>\n",
       "      <td>False</td>\n",
       "      <td>We have less Americans working now than in the...</td>\n",
       "    </tr>\n",
       "    <tr>\n",
       "      <th>1</th>\n",
       "      <td>False</td>\n",
       "      <td>When Obama was sworn into office, he DID NOT u...</td>\n",
       "    </tr>\n",
       "    <tr>\n",
       "      <th>2</th>\n",
       "      <td>False</td>\n",
       "      <td>Says Having organizations parading as being so...</td>\n",
       "    </tr>\n",
       "    <tr>\n",
       "      <th>3</th>\n",
       "      <td>True</td>\n",
       "      <td>Says nearly half of Oregons children are poor.</td>\n",
       "    </tr>\n",
       "    <tr>\n",
       "      <th>4</th>\n",
       "      <td>True</td>\n",
       "      <td>On attacks by Republicans that various program...</td>\n",
       "    </tr>\n",
       "    <tr>\n",
       "      <th>...</th>\n",
       "      <td>...</td>\n",
       "      <td>...</td>\n",
       "    </tr>\n",
       "    <tr>\n",
       "      <th>1279</th>\n",
       "      <td>True</td>\n",
       "      <td>For the first time in more than a decade, impo...</td>\n",
       "    </tr>\n",
       "    <tr>\n",
       "      <th>1280</th>\n",
       "      <td>True</td>\n",
       "      <td>Says Donald Trump has bankrupted his companies...</td>\n",
       "    </tr>\n",
       "    <tr>\n",
       "      <th>1281</th>\n",
       "      <td>True</td>\n",
       "      <td>John McCain and George Bush have \"absolutely n...</td>\n",
       "    </tr>\n",
       "    <tr>\n",
       "      <th>1282</th>\n",
       "      <td>False</td>\n",
       "      <td>A new poll shows 62 percent support the presid...</td>\n",
       "    </tr>\n",
       "    <tr>\n",
       "      <th>1283</th>\n",
       "      <td>False</td>\n",
       "      <td>No one claims the report vindicating New Jerse...</td>\n",
       "    </tr>\n",
       "  </tbody>\n",
       "</table>\n",
       "<p>1284 rows × 2 columns</p>\n",
       "</div>"
      ],
      "text/plain": [
       "      label                                          statement\n",
       "0     False  We have less Americans working now than in the...\n",
       "1     False  When Obama was sworn into office, he DID NOT u...\n",
       "2     False  Says Having organizations parading as being so...\n",
       "3      True     Says nearly half of Oregons children are poor.\n",
       "4      True  On attacks by Republicans that various program...\n",
       "...     ...                                                ...\n",
       "1279   True  For the first time in more than a decade, impo...\n",
       "1280   True  Says Donald Trump has bankrupted his companies...\n",
       "1281   True  John McCain and George Bush have \"absolutely n...\n",
       "1282  False  A new poll shows 62 percent support the presid...\n",
       "1283  False  No one claims the report vindicating New Jerse...\n",
       "\n",
       "[1284 rows x 2 columns]"
      ]
     },
     "metadata": {},
     "output_type": "display_data"
    },
    {
     "data": {
      "text/html": [
       "<div>\n",
       "<style scoped>\n",
       "    .dataframe tbody tr th:only-of-type {\n",
       "        vertical-align: middle;\n",
       "    }\n",
       "\n",
       "    .dataframe tbody tr th {\n",
       "        vertical-align: top;\n",
       "    }\n",
       "\n",
       "    .dataframe thead th {\n",
       "        text-align: right;\n",
       "    }\n",
       "</style>\n",
       "<table border=\"1\" class=\"dataframe\">\n",
       "  <thead>\n",
       "    <tr style=\"text-align: right;\">\n",
       "      <th></th>\n",
       "      <th>label</th>\n",
       "      <th>statement</th>\n",
       "    </tr>\n",
       "  </thead>\n",
       "  <tbody>\n",
       "    <tr>\n",
       "      <th>0</th>\n",
       "      <td>True</td>\n",
       "      <td>Building a wall on the U.S.-Mexico border will...</td>\n",
       "    </tr>\n",
       "    <tr>\n",
       "      <th>1</th>\n",
       "      <td>False</td>\n",
       "      <td>Wisconsin is on pace to double the number of l...</td>\n",
       "    </tr>\n",
       "    <tr>\n",
       "      <th>2</th>\n",
       "      <td>False</td>\n",
       "      <td>Says John McCain has done nothing to help the ...</td>\n",
       "    </tr>\n",
       "    <tr>\n",
       "      <th>3</th>\n",
       "      <td>True</td>\n",
       "      <td>Suzanne Bonamici supports a plan that will cut...</td>\n",
       "    </tr>\n",
       "    <tr>\n",
       "      <th>4</th>\n",
       "      <td>False</td>\n",
       "      <td>When asked by a reporter whether hes at the ce...</td>\n",
       "    </tr>\n",
       "    <tr>\n",
       "      <th>...</th>\n",
       "      <td>...</td>\n",
       "      <td>...</td>\n",
       "    </tr>\n",
       "    <tr>\n",
       "      <th>1260</th>\n",
       "      <td>True</td>\n",
       "      <td>Says his budget provides the highest state fun...</td>\n",
       "    </tr>\n",
       "    <tr>\n",
       "      <th>1261</th>\n",
       "      <td>False</td>\n",
       "      <td>Ive been here almost every day.</td>\n",
       "    </tr>\n",
       "    <tr>\n",
       "      <th>1262</th>\n",
       "      <td>False</td>\n",
       "      <td>In the early 1980s, Sen. Edward Kennedy secret...</td>\n",
       "    </tr>\n",
       "    <tr>\n",
       "      <th>1263</th>\n",
       "      <td>False</td>\n",
       "      <td>Says an EPA permit languished under Strickland...</td>\n",
       "    </tr>\n",
       "    <tr>\n",
       "      <th>1264</th>\n",
       "      <td>False</td>\n",
       "      <td>Says the governor is going around the state ta...</td>\n",
       "    </tr>\n",
       "  </tbody>\n",
       "</table>\n",
       "<p>1265 rows × 2 columns</p>\n",
       "</div>"
      ],
      "text/plain": [
       "      label                                          statement\n",
       "0      True  Building a wall on the U.S.-Mexico border will...\n",
       "1     False  Wisconsin is on pace to double the number of l...\n",
       "2     False  Says John McCain has done nothing to help the ...\n",
       "3      True  Suzanne Bonamici supports a plan that will cut...\n",
       "4     False  When asked by a reporter whether hes at the ce...\n",
       "...     ...                                                ...\n",
       "1260   True  Says his budget provides the highest state fun...\n",
       "1261  False                    Ive been here almost every day.\n",
       "1262  False  In the early 1980s, Sen. Edward Kennedy secret...\n",
       "1263  False  Says an EPA permit languished under Strickland...\n",
       "1264  False  Says the governor is going around the state ta...\n",
       "\n",
       "[1265 rows x 2 columns]"
      ]
     },
     "metadata": {},
     "output_type": "display_data"
    },
    {
     "data": {
      "text/plain": [
       "(None, None, None)"
      ]
     },
     "execution_count": 4,
     "metadata": {},
     "output_type": "execute_result"
    }
   ],
   "source": [
    "display(train_news), display(val_news), display(test_news)"
   ]
  },
  {
   "cell_type": "markdown",
   "metadata": {},
   "source": [
    "## Merging train & val data for K-Fold"
   ]
  },
  {
   "cell_type": "code",
   "execution_count": 5,
   "metadata": {},
   "outputs": [],
   "source": [
    "\"\"\"\n",
    "Merging the training and validation data together, so that I can peroform k-fold cross validation \n",
    "and shuffle the data to reduce the bias.\n",
    "\"\"\"\n",
    "labelEncoder = LabelEncoder()\n",
    "frames = [train_news, val_news]\n",
    "train_val = pd.concat(frames)\n",
    "train_val['label'].value_counts()\n",
    "train_val['label'] = labelEncoder.fit_transform(train_val['label'])"
   ]
  },
  {
   "cell_type": "code",
   "execution_count": 6,
   "metadata": {},
   "outputs": [
    {
     "data": {
      "text/html": [
       "<div>\n",
       "<style scoped>\n",
       "    .dataframe tbody tr th:only-of-type {\n",
       "        vertical-align: middle;\n",
       "    }\n",
       "\n",
       "    .dataframe tbody tr th {\n",
       "        vertical-align: top;\n",
       "    }\n",
       "\n",
       "    .dataframe thead th {\n",
       "        text-align: right;\n",
       "    }\n",
       "</style>\n",
       "<table border=\"1\" class=\"dataframe\">\n",
       "  <thead>\n",
       "    <tr style=\"text-align: right;\">\n",
       "      <th></th>\n",
       "      <th>label</th>\n",
       "      <th>statement</th>\n",
       "    </tr>\n",
       "  </thead>\n",
       "  <tbody>\n",
       "    <tr>\n",
       "      <th>0</th>\n",
       "      <td>0</td>\n",
       "      <td>Says the Annies List political group supports ...</td>\n",
       "    </tr>\n",
       "    <tr>\n",
       "      <th>1</th>\n",
       "      <td>1</td>\n",
       "      <td>When did the decline of coal start? It started...</td>\n",
       "    </tr>\n",
       "    <tr>\n",
       "      <th>2</th>\n",
       "      <td>1</td>\n",
       "      <td>Hillary Clinton agrees with John McCain \"by vo...</td>\n",
       "    </tr>\n",
       "    <tr>\n",
       "      <th>3</th>\n",
       "      <td>0</td>\n",
       "      <td>Health care reform legislation is likely to ma...</td>\n",
       "    </tr>\n",
       "    <tr>\n",
       "      <th>4</th>\n",
       "      <td>1</td>\n",
       "      <td>The economic turnaround started at the end of ...</td>\n",
       "    </tr>\n",
       "    <tr>\n",
       "      <th>...</th>\n",
       "      <td>...</td>\n",
       "      <td>...</td>\n",
       "    </tr>\n",
       "    <tr>\n",
       "      <th>1279</th>\n",
       "      <td>1</td>\n",
       "      <td>For the first time in more than a decade, impo...</td>\n",
       "    </tr>\n",
       "    <tr>\n",
       "      <th>1280</th>\n",
       "      <td>1</td>\n",
       "      <td>Says Donald Trump has bankrupted his companies...</td>\n",
       "    </tr>\n",
       "    <tr>\n",
       "      <th>1281</th>\n",
       "      <td>1</td>\n",
       "      <td>John McCain and George Bush have \"absolutely n...</td>\n",
       "    </tr>\n",
       "    <tr>\n",
       "      <th>1282</th>\n",
       "      <td>0</td>\n",
       "      <td>A new poll shows 62 percent support the presid...</td>\n",
       "    </tr>\n",
       "    <tr>\n",
       "      <th>1283</th>\n",
       "      <td>0</td>\n",
       "      <td>No one claims the report vindicating New Jerse...</td>\n",
       "    </tr>\n",
       "  </tbody>\n",
       "</table>\n",
       "<p>11520 rows × 2 columns</p>\n",
       "</div>"
      ],
      "text/plain": [
       "      label                                          statement\n",
       "0         0  Says the Annies List political group supports ...\n",
       "1         1  When did the decline of coal start? It started...\n",
       "2         1  Hillary Clinton agrees with John McCain \"by vo...\n",
       "3         0  Health care reform legislation is likely to ma...\n",
       "4         1  The economic turnaround started at the end of ...\n",
       "...     ...                                                ...\n",
       "1279      1  For the first time in more than a decade, impo...\n",
       "1280      1  Says Donald Trump has bankrupted his companies...\n",
       "1281      1  John McCain and George Bush have \"absolutely n...\n",
       "1282      0  A new poll shows 62 percent support the presid...\n",
       "1283      0  No one claims the report vindicating New Jerse...\n",
       "\n",
       "[11520 rows x 2 columns]"
      ]
     },
     "execution_count": 6,
     "metadata": {},
     "output_type": "execute_result"
    }
   ],
   "source": [
    "train_val"
   ]
  },
  {
   "cell_type": "markdown",
   "metadata": {},
   "source": [
    "## Feature Weighting\n",
    "\n",
    "Not all words are equally important to a particular document / category. For example, while words like ‘murder’, ‘knife’ and ‘abduction’ are important to a crime related document, words like ‘news’ and ‘reporter’ may not be quite as important. \n",
    "\n",
    "### Binary Weighting\n",
    "The most basic form of feature weighting, is binary weighting. Where if a word is present in a document, the weight is ‘1’ and if the word is absent the weight is ‘0’. \n",
    "\n",
    "### CountVectorizer\n",
    "\n",
    "It Convert a collection of text documents to a matrix of token counts.\n",
    "\n",
    "\n",
    "### Tfidf Weighting \n",
    "\n",
    "TF-IDF weighting where words that are unique to a particular document would have higher weights compared to words that are used commonly across documents. \n",
    "\n",
    "1. TF (Term Frequency): The number of times a word appears in a document divded by the total number of words in the document. Every document has its own term frequency.\n",
    "\n",
    "2. IDF (Inverse Data Frequency): The log of the number of documents divided by the number of documents that contain the word w. Inverse data frequency determines the weight of rare words across all documents in the corpus.\n",
    "\n",
    "3. Lastly, the TF-IDF is simply the TF multiplied by IDF."
   ]
  },
  {
   "cell_type": "markdown",
   "metadata": {},
   "source": [
    "## Metric\n",
    "\n",
    "I need to minimize false positives (number of fake news predicted as real news) as it can be very misleadling . For class 0 i.e. 'fake', recall should be high as well as precision. Because we want our model to perform well on both classes (real & fake). In short, we need to maximize f1-score.\n",
    "\n",
    "### Cases I considered to choose the right metric\n",
    "\n",
    "**1. Maximizing recall of class 0 (fake) or minimizing false positives(FP)?**\n",
    "Well, in extreme case, what if all the news predicted by model are labelled as 'fake'. Recall will still be 1, but overall model is really bad i.e. not able to predict class 1 ('real'). \n",
    "\n",
    "Ex=> TN = 553, FP = 0, TP = 0, FN = 714\n",
    "\n",
    "Class0-Recall = TN / (TN + FP) = 1\n",
    "Class0-Precision = TN / (TN + FN) = 0.43\n",
    "\n",
    "F1-Score = 2 * Class0-Recall * Class0-Precision/(Class0-Recall + Class0-Precision) = 0.60\n",
    "\n",
    "Recall, Precision and F1-score for class 1 will be 0.\n",
    "\n",
    "**2. Considering an extreme case, if all the news classified as True (Even, fake news are predicted as True).**\n",
    "\n",
    "Ex=>  TN = 0, FP = 553, TP = 714, FN =0\n",
    "In that case, TN will be 0, which led to Precision 0, Recall 0 and F1 = 0 for class 0 ('fake').\n",
    "\n",
    "For class 1, Class1-Recall = TP / (TP + FN) = 1\n",
    "Class1-Precision = TP / (TP + FP) = 0.56"
   ]
  },
  {
   "cell_type": "markdown",
   "metadata": {},
   "source": [
    "## Word2Vec"
   ]
  },
  {
   "cell_type": "code",
   "execution_count": 7,
   "metadata": {},
   "outputs": [],
   "source": [
    "train_val['clean_statement'] = train_val['statement'].apply(lambda x: process_text(x))"
   ]
  },
  {
   "cell_type": "code",
   "execution_count": 8,
   "metadata": {},
   "outputs": [],
   "source": [
    "train_val['clean_statement1'] = train_val['clean_statement'].apply(lambda x: process_text2(x))"
   ]
  },
  {
   "cell_type": "code",
   "execution_count": 9,
   "metadata": {},
   "outputs": [
    {
     "data": {
      "text/html": [
       "<div>\n",
       "<style scoped>\n",
       "    .dataframe tbody tr th:only-of-type {\n",
       "        vertical-align: middle;\n",
       "    }\n",
       "\n",
       "    .dataframe tbody tr th {\n",
       "        vertical-align: top;\n",
       "    }\n",
       "\n",
       "    .dataframe thead th {\n",
       "        text-align: right;\n",
       "    }\n",
       "</style>\n",
       "<table border=\"1\" class=\"dataframe\">\n",
       "  <thead>\n",
       "    <tr style=\"text-align: right;\">\n",
       "      <th></th>\n",
       "      <th>label</th>\n",
       "      <th>statement</th>\n",
       "      <th>clean_statement</th>\n",
       "      <th>clean_statement1</th>\n",
       "    </tr>\n",
       "  </thead>\n",
       "  <tbody>\n",
       "    <tr>\n",
       "      <th>0</th>\n",
       "      <td>0</td>\n",
       "      <td>Says the Annies List political group supports ...</td>\n",
       "      <td>[Says, Annies, List, political, group, support...</td>\n",
       "      <td>Says Annies List political group support abort...</td>\n",
       "    </tr>\n",
       "    <tr>\n",
       "      <th>1</th>\n",
       "      <td>1</td>\n",
       "      <td>When did the decline of coal start? It started...</td>\n",
       "      <td>[decline, coal, start, started, natural, gas, ...</td>\n",
       "      <td>decline coal start started natural gas took st...</td>\n",
       "    </tr>\n",
       "    <tr>\n",
       "      <th>2</th>\n",
       "      <td>1</td>\n",
       "      <td>Hillary Clinton agrees with John McCain \"by vo...</td>\n",
       "      <td>[Hillary, Clinton, agrees, John, McCain, votin...</td>\n",
       "      <td>Hillary Clinton agrees John McCain voting give...</td>\n",
       "    </tr>\n",
       "    <tr>\n",
       "      <th>3</th>\n",
       "      <td>0</td>\n",
       "      <td>Health care reform legislation is likely to ma...</td>\n",
       "      <td>[Health, care, reform, legislation, likely, ma...</td>\n",
       "      <td>Health care reform legislation likely mandate ...</td>\n",
       "    </tr>\n",
       "    <tr>\n",
       "      <th>4</th>\n",
       "      <td>1</td>\n",
       "      <td>The economic turnaround started at the end of ...</td>\n",
       "      <td>[economic, turnaround, started, end, term]</td>\n",
       "      <td>economic turnaround started end term</td>\n",
       "    </tr>\n",
       "    <tr>\n",
       "      <th>...</th>\n",
       "      <td>...</td>\n",
       "      <td>...</td>\n",
       "      <td>...</td>\n",
       "      <td>...</td>\n",
       "    </tr>\n",
       "    <tr>\n",
       "      <th>1279</th>\n",
       "      <td>1</td>\n",
       "      <td>For the first time in more than a decade, impo...</td>\n",
       "      <td>[first, time, decade, import, accounted, le, h...</td>\n",
       "      <td>first time decade import accounted le half oil...</td>\n",
       "    </tr>\n",
       "    <tr>\n",
       "      <th>1280</th>\n",
       "      <td>1</td>\n",
       "      <td>Says Donald Trump has bankrupted his companies...</td>\n",
       "      <td>[Says, Donald, Trump, bankrupted, company, twi...</td>\n",
       "      <td>Says Donald Trump bankrupted company twice fou...</td>\n",
       "    </tr>\n",
       "    <tr>\n",
       "      <th>1281</th>\n",
       "      <td>1</td>\n",
       "      <td>John McCain and George Bush have \"absolutely n...</td>\n",
       "      <td>[John, McCain, George, Bush, absolutely, plan,...</td>\n",
       "      <td>John McCain George Bush absolutely plan univer...</td>\n",
       "    </tr>\n",
       "    <tr>\n",
       "      <th>1282</th>\n",
       "      <td>0</td>\n",
       "      <td>A new poll shows 62 percent support the presid...</td>\n",
       "      <td>[new, poll, show, percent, support, president,...</td>\n",
       "      <td>new poll show percent support president plan r...</td>\n",
       "    </tr>\n",
       "    <tr>\n",
       "      <th>1283</th>\n",
       "      <td>0</td>\n",
       "      <td>No one claims the report vindicating New Jerse...</td>\n",
       "      <td>[one, claim, report, vindicating, New, Jersey,...</td>\n",
       "      <td>one claim report vindicating New Jersey Gov Ch...</td>\n",
       "    </tr>\n",
       "  </tbody>\n",
       "</table>\n",
       "<p>11520 rows × 4 columns</p>\n",
       "</div>"
      ],
      "text/plain": [
       "      label                                          statement  \\\n",
       "0         0  Says the Annies List political group supports ...   \n",
       "1         1  When did the decline of coal start? It started...   \n",
       "2         1  Hillary Clinton agrees with John McCain \"by vo...   \n",
       "3         0  Health care reform legislation is likely to ma...   \n",
       "4         1  The economic turnaround started at the end of ...   \n",
       "...     ...                                                ...   \n",
       "1279      1  For the first time in more than a decade, impo...   \n",
       "1280      1  Says Donald Trump has bankrupted his companies...   \n",
       "1281      1  John McCain and George Bush have \"absolutely n...   \n",
       "1282      0  A new poll shows 62 percent support the presid...   \n",
       "1283      0  No one claims the report vindicating New Jerse...   \n",
       "\n",
       "                                        clean_statement  \\\n",
       "0     [Says, Annies, List, political, group, support...   \n",
       "1     [decline, coal, start, started, natural, gas, ...   \n",
       "2     [Hillary, Clinton, agrees, John, McCain, votin...   \n",
       "3     [Health, care, reform, legislation, likely, ma...   \n",
       "4            [economic, turnaround, started, end, term]   \n",
       "...                                                 ...   \n",
       "1279  [first, time, decade, import, accounted, le, h...   \n",
       "1280  [Says, Donald, Trump, bankrupted, company, twi...   \n",
       "1281  [John, McCain, George, Bush, absolutely, plan,...   \n",
       "1282  [new, poll, show, percent, support, president,...   \n",
       "1283  [one, claim, report, vindicating, New, Jersey,...   \n",
       "\n",
       "                                       clean_statement1  \n",
       "0     Says Annies List political group support abort...  \n",
       "1     decline coal start started natural gas took st...  \n",
       "2     Hillary Clinton agrees John McCain voting give...  \n",
       "3     Health care reform legislation likely mandate ...  \n",
       "4                  economic turnaround started end term  \n",
       "...                                                 ...  \n",
       "1279  first time decade import accounted le half oil...  \n",
       "1280  Says Donald Trump bankrupted company twice fou...  \n",
       "1281  John McCain George Bush absolutely plan univer...  \n",
       "1282  new poll show percent support president plan r...  \n",
       "1283  one claim report vindicating New Jersey Gov Ch...  \n",
       "\n",
       "[11520 rows x 4 columns]"
      ]
     },
     "execution_count": 9,
     "metadata": {},
     "output_type": "execute_result"
    }
   ],
   "source": [
    "train_val"
   ]
  },
  {
   "cell_type": "code",
   "execution_count": 10,
   "metadata": {},
   "outputs": [
    {
     "name": "stderr",
     "output_type": "stream",
     "text": [
      "2020-12-08 20:59:39,373 : INFO : collecting all words and their counts\n",
      "2020-12-08 20:59:39,374 : INFO : PROGRESS: at sentence #0, processed 0 words, keeping 0 word types\n",
      "2020-12-08 20:59:39,399 : INFO : PROGRESS: at sentence #10000, processed 102700 words, keeping 11787 word types\n",
      "2020-12-08 20:59:39,402 : INFO : collected 12641 word types from a corpus of 118424 raw words and 11520 sentences\n",
      "2020-12-08 20:59:39,403 : INFO : Loading a fresh vocabulary\n",
      "2020-12-08 20:59:39,428 : INFO : effective_min_count=1 retains 12641 unique words (100% of original 12641, drops 0)\n",
      "2020-12-08 20:59:39,434 : INFO : effective_min_count=1 leaves 118424 word corpus (100% of original 118424, drops 0)\n",
      "2020-12-08 20:59:39,482 : INFO : deleting the raw counts dictionary of 12641 items\n",
      "2020-12-08 20:59:39,483 : INFO : sample=0.001 downsamples 35 most-common words\n",
      "2020-12-08 20:59:39,484 : INFO : downsampling leaves estimated 110464 word corpus (93.3% of prior 118424)\n",
      "2020-12-08 20:59:39,509 : INFO : estimated required memory for 12641 words and 300 dimensions: 36658900 bytes\n",
      "2020-12-08 20:59:39,510 : INFO : resetting layer weights\n",
      "2020-12-08 20:59:41,933 : INFO : training model with 3 workers on 12641 vocabulary and 300 features, using sg=0 hs=0 sample=0.001 negative=5 window=5\n",
      "2020-12-08 20:59:42,074 : INFO : worker thread finished; awaiting finish of 2 more threads\n",
      "2020-12-08 20:59:42,081 : INFO : worker thread finished; awaiting finish of 1 more threads\n",
      "2020-12-08 20:59:42,083 : INFO : worker thread finished; awaiting finish of 0 more threads\n",
      "2020-12-08 20:59:42,086 : INFO : EPOCH - 1 : training on 118424 raw words (110606 effective words) took 0.1s, 775447 effective words/s\n",
      "2020-12-08 20:59:42,236 : INFO : worker thread finished; awaiting finish of 2 more threads\n",
      "2020-12-08 20:59:42,264 : INFO : worker thread finished; awaiting finish of 1 more threads\n",
      "2020-12-08 20:59:42,269 : INFO : worker thread finished; awaiting finish of 0 more threads\n",
      "2020-12-08 20:59:42,270 : INFO : EPOCH - 2 : training on 118424 raw words (110493 effective words) took 0.2s, 629305 effective words/s\n",
      "2020-12-08 20:59:42,489 : INFO : worker thread finished; awaiting finish of 2 more threads\n",
      "2020-12-08 20:59:42,505 : INFO : worker thread finished; awaiting finish of 1 more threads\n",
      "2020-12-08 20:59:42,533 : INFO : worker thread finished; awaiting finish of 0 more threads\n",
      "2020-12-08 20:59:42,534 : INFO : EPOCH - 3 : training on 118424 raw words (110535 effective words) took 0.2s, 519181 effective words/s\n",
      "2020-12-08 20:59:42,797 : INFO : worker thread finished; awaiting finish of 2 more threads\n",
      "2020-12-08 20:59:42,808 : INFO : worker thread finished; awaiting finish of 1 more threads\n",
      "2020-12-08 20:59:42,819 : INFO : worker thread finished; awaiting finish of 0 more threads\n",
      "2020-12-08 20:59:42,820 : INFO : EPOCH - 4 : training on 118424 raw words (110532 effective words) took 0.3s, 409353 effective words/s\n",
      "2020-12-08 20:59:42,985 : INFO : worker thread finished; awaiting finish of 2 more threads\n",
      "2020-12-08 20:59:42,988 : INFO : worker thread finished; awaiting finish of 1 more threads\n",
      "2020-12-08 20:59:42,997 : INFO : worker thread finished; awaiting finish of 0 more threads\n",
      "2020-12-08 20:59:42,997 : INFO : EPOCH - 5 : training on 118424 raw words (110468 effective words) took 0.2s, 659812 effective words/s\n",
      "2020-12-08 20:59:42,998 : INFO : training on a 592120 raw words (552634 effective words) took 1.1s, 519628 effective words/s\n"
     ]
    }
   ],
   "source": [
    "import gensim\n",
    "\n",
    "#Dimension of vectors we are generating\n",
    "EMBEDDING_DIM = 300\n",
    "\n",
    "#Creating Word Vectors by Word2Vec Method (takes time...)\n",
    "wv = gensim.models.Word2Vec(sentences=train_val['clean_statement'], size=EMBEDDING_DIM, window=5, min_count=1)"
   ]
  },
  {
   "cell_type": "code",
   "execution_count": 11,
   "metadata": {},
   "outputs": [
    {
     "data": {
      "text/plain": [
       "12641"
      ]
     },
     "execution_count": 11,
     "metadata": {},
     "output_type": "execute_result"
    }
   ],
   "source": [
    "# vocab size\n",
    "len(wv.wv.vocab)"
   ]
  },
  {
   "cell_type": "code",
   "execution_count": 12,
   "metadata": {},
   "outputs": [
    {
     "name": "stderr",
     "output_type": "stream",
     "text": [
      "<ipython-input-12-7aeb24534c24>:2: DeprecationWarning: Call to deprecated `most_similar` (Method will be removed in 4.0.0, use self.wv.most_similar() instead).\n",
      "  print(wv.most_similar('Hillary'))\n",
      "2020-12-08 20:59:43,020 : INFO : precomputing L2-norms of word weight vectors\n"
     ]
    },
    {
     "name": "stdout",
     "output_type": "stream",
     "text": [
      "[('Foundation', 0.9921605587005615), ('Says', 0.9921257495880127), ('Donald', 0.9918859004974365), ('said', 0.9918675422668457), ('Clinton', 0.9914191961288452), ('Trump', 0.991229772567749), ('interview', 0.9911936521530151), ('NAFTA', 0.9904438257217407), ('want', 0.9903834462165833), ('flipflopped', 0.9902236461639404)]\n"
     ]
    }
   ],
   "source": [
    "#printing similarity index\n",
    "print(wv.most_similar('Hillary'))"
   ]
  },
  {
   "cell_type": "code",
   "execution_count": 13,
   "metadata": {},
   "outputs": [],
   "source": [
    "#Word averaging\n",
    "def word_averaging(wv, words):\n",
    "    all_words, mean = set(), []\n",
    "    \n",
    "    for word in words:\n",
    "        if isinstance(word, np.ndarray):\n",
    "            mean.append(word)\n",
    "        elif word in wv.wv.vocab:\n",
    "            mean.append(wv.wv.syn0[wv.wv.vocab[word].index])\n",
    "            all_words.add(wv.wv.vocab[word].index)\n",
    "\n",
    "\n",
    "    if not mean:\n",
    "        #logging.warning(\"cannot compute similarity with no input %s\", words)\n",
    "        return np.zeros(wv.vector_size,)\n",
    "\n",
    "    mean = gensim.matutils.unitvec(np.array(mean).mean(axis=0)).astype(np.float32)\n",
    "    return mean\n",
    "\n",
    "def  word_averaging_list(wv, text_list):\n",
    "    return np.vstack([word_averaging(wv, clean_title_publish) for clean_title_publish in text_list])"
   ]
  },
  {
   "cell_type": "code",
   "execution_count": 14,
   "metadata": {},
   "outputs": [],
   "source": [
    "# Tokenization\n",
    "def w2v_tokenize_text(text):\n",
    "    tokens = []\n",
    "    for sent in nltk.sent_tokenize(text, language='english'):\n",
    "        for word in nltk.word_tokenize(sent, language='english'):\n",
    "            if len(word) < 2:\n",
    "                continue\n",
    "            tokens.append(word)\n",
    "    return tokens"
   ]
  },
  {
   "cell_type": "code",
   "execution_count": 15,
   "metadata": {},
   "outputs": [
    {
     "name": "stdout",
     "output_type": "stream",
     "text": [
      "CPU times: user 2.08 s, sys: 49.2 ms, total: 2.13 s\n",
      "Wall time: 2.13 s\n"
     ]
    }
   ],
   "source": [
    "%%time\n",
    "train, test = train_test_split(train_val, test_size=0.2,shuffle=True)\n",
    "test_tokenized = test.apply(lambda r: w2v_tokenize_text(r['clean_statement1']), axis=1).values\n",
    "train_tokenized = train.apply(lambda r: w2v_tokenize_text(r['clean_statement1']), axis=1).values"
   ]
  },
  {
   "cell_type": "code",
   "execution_count": 16,
   "metadata": {},
   "outputs": [
    {
     "data": {
      "text/plain": [
       "array([list(['Theres', 'still', 'billion', 'billion', 'stimulus', 'plan', 'spent', 'dont', 'stop']),\n",
       "       list(['Monarch', 'butterfly', 'becoming', 'extinct', 'increased', 'use', 'crop', 'genetically', 'modified', 'withstand', 'pesticide']),\n",
       "       list(['serving', 'gubernatorial', 'term']), ...,\n",
       "       list(['Says', 'House', 'weve', 'bipartisan', 'support', 'repeal', 'Obamacare', 'getting', 'rid', 'cap', 'trade', 'building', 'Keystone', 'Pipeline']),\n",
       "       list(['Many', 'dont', 'know', 'Bill', 'Young', 'minority', 'leader', 'Florida', 'Senatebecause', 'Republican', 'senator']),\n",
       "       list(['save', 'billion', 'simply', 'giving', 'money', 'Medicare', 'recipient', 'dont', 'exist', 'procedure', 'didnt', 'happen'])],\n",
       "      dtype=object)"
      ]
     },
     "execution_count": 16,
     "metadata": {},
     "output_type": "execute_result"
    }
   ],
   "source": [
    "train_tokenized"
   ]
  },
  {
   "cell_type": "code",
   "execution_count": 17,
   "metadata": {},
   "outputs": [
    {
     "data": {
      "text/plain": [
       "array([list(['Today', 'America', 'people', 'jail', 'country', 'Earth']),\n",
       "       list(['DREAM', 'Act', 'would', 'give', 'amnesty', 'two', 'million', 'illegal', 'alien']),\n",
       "       list(['Secretary', 'State', 'shut', 'program', 'collecting', 'information', 'protect', 'America', 'unseemly', 'move', 'led', 'million', 'million', 'death', 'World', 'War']),\n",
       "       ..., list(['University', 'Texas', 'get', 'iPad']),\n",
       "       list(['percent', 'Hispanic', 'homeowner', 'subprime', 'mortgage']),\n",
       "       list(['thing', 'Megyn', 'Kelly', 'said', 'didnt', 'say'])],\n",
       "      dtype=object)"
      ]
     },
     "execution_count": 17,
     "metadata": {},
     "output_type": "execute_result"
    }
   ],
   "source": [
    "test_tokenized"
   ]
  },
  {
   "cell_type": "code",
   "execution_count": 18,
   "metadata": {},
   "outputs": [
    {
     "name": "stderr",
     "output_type": "stream",
     "text": [
      "<ipython-input-13-a4bfd8bd3c62>:9: DeprecationWarning: Call to deprecated `syn0` (Attribute will be removed in 4.0.0, use self.vectors instead).\n",
      "  mean.append(wv.wv.syn0[wv.wv.vocab[word].index])\n"
     ]
    },
    {
     "name": "stdout",
     "output_type": "stream",
     "text": [
      "CPU times: user 673 ms, sys: 22.4 ms, total: 695 ms\n",
      "Wall time: 703 ms\n"
     ]
    }
   ],
   "source": [
    "%%time\n",
    "X_train_word_average = word_averaging_list(wv,train_tokenized)\n",
    "X_test_word_average = word_averaging_list(wv,test_tokenized)"
   ]
  },
  {
   "cell_type": "code",
   "execution_count": 19,
   "metadata": {},
   "outputs": [
    {
     "data": {
      "text/plain": [
       "array([[ 0.00924172, -0.05915157, -0.00371567, ...,  0.06874663,\n",
       "         0.0667466 ,  0.05630261],\n",
       "       [ 0.00917691, -0.06303515, -0.00424992, ...,  0.07118004,\n",
       "         0.06967147,  0.05409954],\n",
       "       [ 0.00798366, -0.06174356, -0.00454207, ...,  0.07037252,\n",
       "         0.06934619,  0.05388384],\n",
       "       ...,\n",
       "       [ 0.0083139 , -0.06234573, -0.00524336, ...,  0.07042219,\n",
       "         0.06937642,  0.05348664],\n",
       "       [ 0.00810462, -0.0621093 , -0.00413022, ...,  0.07051649,\n",
       "         0.06901025,  0.05365073],\n",
       "       [ 0.00583919, -0.0641881 , -0.0049453 , ...,  0.07241308,\n",
       "         0.07251561,  0.04813179]], dtype=float32)"
      ]
     },
     "execution_count": 19,
     "metadata": {},
     "output_type": "execute_result"
    }
   ],
   "source": [
    "X_test_word_average"
   ]
  },
  {
   "cell_type": "markdown",
   "metadata": {},
   "source": [
    "## Model Training"
   ]
  },
  {
   "cell_type": "markdown",
   "metadata": {},
   "source": [
    "## Text Classification Algorithms\n",
    "\n",
    "1. Naive Bayes (NB)\n",
    "2. Logistics Regression\n",
    "3. SVM\n",
    "4. Random Forest"
   ]
  },
  {
   "cell_type": "markdown",
   "metadata": {},
   "source": [
    "## Naive Bayes\n",
    "\n",
    "Well, when assumption of independence holds, a Naive Bayes classifier performs better compare to other models like logistic regression and you need less training data. An advantage of naive Bayes is that it only requires a small number of training data to estimate the parameters necessary for classification. \n",
    "\n",
    "Bayes’ Theorem provides a way that we can calculate the probability of a piece of data belonging to a given class, given our prior knowledge. Bayes’ Theorem is stated as:\n",
    "\n",
    "P(class|data) = (P(data|class) * P(class)) / P(data)\n",
    "\n",
    "Where P(class|data) is the probability of class given the provided data.\n",
    "\n",
    "Naive Bayes is a classification algorithm for binary (two-class) and multiclass classification problems. It is called Naive Bayes or idiot Bayes because the calculations of the probabilities for each class are simplified to make their calculations tractable.\n",
    "\n",
    "Rather than attempting to calculate the probabilities of each attribute value, they are assumed to be conditionally independent given the class value.\n",
    "\n",
    "This is a very strong assumption that is most unlikely in real data, i.e. that the attributes do not interact. Nevertheless, the approach performs surprisingly well on data where this assumption does not hold.\n",
    "\n",
    "### Multinomial NB\n",
    "\n",
    "The multinomial Naive Bayes classifier is suitable for classification with discrete features (e.g., word counts for text classification). The multinomial distribution normally requires integer feature counts. However, in practice, fractional counts such as tf-idf may also work"
   ]
  },
  {
   "cell_type": "markdown",
   "metadata": {},
   "source": [
    "### Train Models with Different Types of Features"
   ]
  },
  {
   "cell_type": "code",
   "execution_count": 7,
   "metadata": {},
   "outputs": [
    {
     "name": "stderr",
     "output_type": "stream",
     "text": [
      "2020-12-04 21:31:10,413 : INFO : Starting model training...\n",
      "2020-12-04 21:31:10,420 : INFO : Extracting features and creating vocabulary...\n"
     ]
    },
    {
     "name": "stdout",
     "output_type": "stream",
     "text": [
      "Model - binary features with statement\n"
     ]
    },
    {
     "name": "stderr",
     "output_type": "stream",
     "text": [
      "2020-12-04 21:31:50,295 : INFO : Training a Classification Model...\n",
      "2020-12-04 21:31:50,299 : INFO : Starting evaluation...\n",
      "2020-12-04 21:31:50,309 : INFO : Done training and evaluation.\n",
      "2020-12-04 21:31:50,311 : INFO : Starting model training...\n",
      "2020-12-04 21:31:50,314 : INFO : Extracting features and creating vocabulary...\n"
     ]
    },
    {
     "name": "stdout",
     "output_type": "stream",
     "text": [
      "              precision    recall  f1-score   support\n",
      "\n",
      "           0       0.55      0.48      0.51      1248\n",
      "           1       0.64      0.70      0.67      1632\n",
      "\n",
      "    accuracy                           0.60      2880\n",
      "   macro avg       0.59      0.59      0.59      2880\n",
      "weighted avg       0.60      0.60      0.60      2880\n",
      "\n",
      "[[ 596  652]\n",
      " [ 488 1144]]\n",
      "Model - counts features with statement\n"
     ]
    },
    {
     "name": "stderr",
     "output_type": "stream",
     "text": [
      "2020-12-04 21:32:28,344 : INFO : Training a Classification Model...\n",
      "2020-12-04 21:32:28,349 : INFO : Starting evaluation...\n",
      "2020-12-04 21:32:28,360 : INFO : Done training and evaluation.\n",
      "2020-12-04 21:32:28,362 : INFO : Starting model training...\n",
      "2020-12-04 21:32:28,367 : INFO : Extracting features and creating vocabulary...\n"
     ]
    },
    {
     "name": "stdout",
     "output_type": "stream",
     "text": [
      "              precision    recall  f1-score   support\n",
      "\n",
      "           0       0.55      0.48      0.52      1248\n",
      "           1       0.64      0.70      0.67      1632\n",
      "\n",
      "    accuracy                           0.61      2880\n",
      "   macro avg       0.60      0.59      0.59      2880\n",
      "weighted avg       0.60      0.61      0.60      2880\n",
      "\n",
      "[[ 602  646]\n",
      " [ 485 1147]]\n",
      "Model - tfidf features with statement\n"
     ]
    },
    {
     "name": "stderr",
     "output_type": "stream",
     "text": [
      "2020-12-04 21:33:06,207 : INFO : Training a Classification Model...\n",
      "2020-12-04 21:33:06,211 : INFO : Starting evaluation...\n",
      "2020-12-04 21:33:06,221 : INFO : Done training and evaluation.\n"
     ]
    },
    {
     "name": "stdout",
     "output_type": "stream",
     "text": [
      "              precision    recall  f1-score   support\n",
      "\n",
      "           0       0.58      0.31      0.41      1248\n",
      "           1       0.61      0.83      0.70      1632\n",
      "\n",
      "    accuracy                           0.60      2880\n",
      "   macro avg       0.60      0.57      0.56      2880\n",
      "weighted avg       0.60      0.60      0.58      2880\n",
      "\n",
      "[[ 391  857]\n",
      " [ 281 1351]]\n"
     ]
    }
   ],
   "source": [
    "# model,transformer,score,confusion,report=train_model(nb_clf, train_val,field=field,feature_rep=feature_rep)\n",
    "# print(\"\\nF1-score={0}; confusion={1}; classification_report={2}\".format(score,confusion,report))\n",
    "field='statement'\n",
    "feature_reps=['binary','counts','tfidf']\n",
    "nb_results=[]\n",
    "nb_clf = MultinomialNB()\n",
    "for feature_rep in feature_reps:\n",
    "        print(f'Model - {feature_rep} features with statement')\n",
    "        nb_model,transformer,score=train_model(nb_clf,train_val,field=field,feature_rep=feature_rep)\n",
    "        nb_results.append([field,feature_rep,score])"
   ]
  },
  {
   "cell_type": "markdown",
   "metadata": {},
   "source": [
    "### Naive Bayes Results of Various Models"
   ]
  },
  {
   "cell_type": "code",
   "execution_count": 8,
   "metadata": {},
   "outputs": [
    {
     "data": {
      "text/html": [
       "<div>\n",
       "<style scoped>\n",
       "    .dataframe tbody tr th:only-of-type {\n",
       "        vertical-align: middle;\n",
       "    }\n",
       "\n",
       "    .dataframe tbody tr th {\n",
       "        vertical-align: top;\n",
       "    }\n",
       "\n",
       "    .dataframe thead th {\n",
       "        text-align: right;\n",
       "    }\n",
       "</style>\n",
       "<table border=\"1\" class=\"dataframe\">\n",
       "  <thead>\n",
       "    <tr style=\"text-align: right;\">\n",
       "      <th></th>\n",
       "      <th>text_fields</th>\n",
       "      <th>feature_representation</th>\n",
       "      <th>f1-score</th>\n",
       "    </tr>\n",
       "  </thead>\n",
       "  <tbody>\n",
       "    <tr>\n",
       "      <th>2</th>\n",
       "      <td>statement</td>\n",
       "      <td>tfidf</td>\n",
       "      <td>0.703646</td>\n",
       "    </tr>\n",
       "    <tr>\n",
       "      <th>1</th>\n",
       "      <td>statement</td>\n",
       "      <td>counts</td>\n",
       "      <td>0.669781</td>\n",
       "    </tr>\n",
       "    <tr>\n",
       "      <th>0</th>\n",
       "      <td>statement</td>\n",
       "      <td>binary</td>\n",
       "      <td>0.667445</td>\n",
       "    </tr>\n",
       "  </tbody>\n",
       "</table>\n",
       "</div>"
      ],
      "text/plain": [
       "  text_fields feature_representation  f1-score\n",
       "2   statement                  tfidf  0.703646\n",
       "1   statement                 counts  0.669781\n",
       "0   statement                 binary  0.667445"
      ]
     },
     "execution_count": 8,
     "metadata": {},
     "output_type": "execute_result"
    }
   ],
   "source": [
    "nb_df_results=pd.DataFrame(nb_results,columns=['text_fields','feature_representation','f1-score'])\n",
    "nb_df_results.sort_values(by=['f1-score'],ascending=False)"
   ]
  },
  {
   "cell_type": "markdown",
   "metadata": {},
   "source": [
    "## logistic regression\n",
    "\n",
    "The underlying algorithm is also fairly easy to understand. More importantly, in the NLP world, it’s generally accepted that Logistic Regression is a great starter algorithm for text related classification (https://web.stanford.edu/~jurafsky/slp3/5.pdf). \n",
    "\n",
    "**How hypothesis makes prediction in logistics regression?**\n",
    "\n",
    "This algorithm uses sigmoid function(g(z)). If we want to predict y=1 or y=0.\n",
    "If estimated probability of y=1 is h(x)>=0.5 then the ouput is more likely to be \"y=1\" \n",
    "but if  h(x) < 0.5, the output is more likely to be is \"y=0\"."
   ]
  },
  {
   "cell_type": "markdown",
   "metadata": {},
   "source": [
    "### Train Models with Different Types of Features¶"
   ]
  },
  {
   "cell_type": "code",
   "execution_count": 21,
   "metadata": {},
   "outputs": [
    {
     "name": "stderr",
     "output_type": "stream",
     "text": [
      "2020-12-03 20:44:04,794 : INFO : Starting model training...\n",
      "2020-12-03 20:44:04,800 : INFO : Extracting features and creating vocabulary...\n"
     ]
    },
    {
     "name": "stdout",
     "output_type": "stream",
     "text": [
      "Model - binary features with statement\n"
     ]
    },
    {
     "name": "stderr",
     "output_type": "stream",
     "text": [
      "2020-12-03 20:44:46,314 : INFO : Training a Classification Model...\n",
      "2020-12-03 20:44:46,400 : INFO : Starting evaluation...\n",
      "2020-12-03 20:44:46,412 : INFO : Done training and evaluation.\n",
      "2020-12-03 20:44:46,413 : INFO : Starting model training...\n",
      "2020-12-03 20:44:46,418 : INFO : Extracting features and creating vocabulary...\n"
     ]
    },
    {
     "name": "stdout",
     "output_type": "stream",
     "text": [
      "[LibLinear]              precision    recall  f1-score   support\n",
      "\n",
      "           0       0.51      0.51      0.51      1248\n",
      "           1       0.62      0.62      0.62      1632\n",
      "\n",
      "    accuracy                           0.57      2880\n",
      "   macro avg       0.57      0.57      0.57      2880\n",
      "weighted avg       0.57      0.57      0.57      2880\n",
      "\n",
      "[[ 636  612]\n",
      " [ 617 1015]]\n",
      "Model - counts features with statement\n"
     ]
    },
    {
     "name": "stderr",
     "output_type": "stream",
     "text": [
      "2020-12-03 20:45:29,889 : INFO : Training a Classification Model...\n",
      "2020-12-03 20:45:29,997 : INFO : Starting evaluation...\n",
      "2020-12-03 20:45:30,012 : INFO : Done training and evaluation.\n",
      "2020-12-03 20:45:30,014 : INFO : Starting model training...\n",
      "2020-12-03 20:45:30,027 : INFO : Extracting features and creating vocabulary...\n"
     ]
    },
    {
     "name": "stdout",
     "output_type": "stream",
     "text": [
      "[LibLinear]              precision    recall  f1-score   support\n",
      "\n",
      "           0       0.50      0.50      0.50      1248\n",
      "           1       0.62      0.62      0.62      1632\n",
      "\n",
      "    accuracy                           0.57      2880\n",
      "   macro avg       0.56      0.56      0.56      2880\n",
      "weighted avg       0.57      0.57      0.57      2880\n",
      "\n",
      "[[ 620  628]\n",
      " [ 612 1020]]\n",
      "Model - tfidf features with statement\n"
     ]
    },
    {
     "name": "stderr",
     "output_type": "stream",
     "text": [
      "2020-12-03 20:46:11,374 : INFO : Training a Classification Model...\n",
      "2020-12-03 20:46:11,419 : INFO : Starting evaluation...\n",
      "2020-12-03 20:46:11,434 : INFO : Done training and evaluation.\n"
     ]
    },
    {
     "name": "stdout",
     "output_type": "stream",
     "text": [
      "[LibLinear]              precision    recall  f1-score   support\n",
      "\n",
      "           0       0.53      0.49      0.51      1248\n",
      "           1       0.63      0.66      0.65      1632\n",
      "\n",
      "    accuracy                           0.59      2880\n",
      "   macro avg       0.58      0.58      0.58      2880\n",
      "weighted avg       0.59      0.59      0.59      2880\n",
      "\n",
      "[[ 615  633]\n",
      " [ 552 1080]]\n"
     ]
    }
   ],
   "source": [
    "field='statement'\n",
    "feature_reps=['binary','counts','tfidf']\n",
    "lr_results=[]\n",
    "LogR_clf = LogisticRegression(verbose=1, solver='liblinear',random_state=0, C=5, penalty='l2',max_iter=1000)\n",
    "\n",
    "for feature_rep in feature_reps:\n",
    "        print(f'Model - {feature_rep} features with statement')\n",
    "        lr_model,transformer,score=train_model(LogR_clf,train_val,field=field,feature_rep=feature_rep)\n",
    "        lr_results.append([field,feature_rep,score])"
   ]
  },
  {
   "cell_type": "markdown",
   "metadata": {},
   "source": [
    "### Logistics Regression Results of Various Models"
   ]
  },
  {
   "cell_type": "code",
   "execution_count": 22,
   "metadata": {},
   "outputs": [
    {
     "data": {
      "text/html": [
       "<div>\n",
       "<style scoped>\n",
       "    .dataframe tbody tr th:only-of-type {\n",
       "        vertical-align: middle;\n",
       "    }\n",
       "\n",
       "    .dataframe tbody tr th {\n",
       "        vertical-align: top;\n",
       "    }\n",
       "\n",
       "    .dataframe thead th {\n",
       "        text-align: right;\n",
       "    }\n",
       "</style>\n",
       "<table border=\"1\" class=\"dataframe\">\n",
       "  <thead>\n",
       "    <tr style=\"text-align: right;\">\n",
       "      <th></th>\n",
       "      <th>text_fields</th>\n",
       "      <th>feature_representation</th>\n",
       "      <th>f1-score</th>\n",
       "    </tr>\n",
       "  </thead>\n",
       "  <tbody>\n",
       "    <tr>\n",
       "      <th>2</th>\n",
       "      <td>statement</td>\n",
       "      <td>tfidf</td>\n",
       "      <td>0.645740</td>\n",
       "    </tr>\n",
       "    <tr>\n",
       "      <th>0</th>\n",
       "      <td>statement</td>\n",
       "      <td>binary</td>\n",
       "      <td>0.622890</td>\n",
       "    </tr>\n",
       "    <tr>\n",
       "      <th>1</th>\n",
       "      <td>statement</td>\n",
       "      <td>counts</td>\n",
       "      <td>0.621951</td>\n",
       "    </tr>\n",
       "  </tbody>\n",
       "</table>\n",
       "</div>"
      ],
      "text/plain": [
       "  text_fields feature_representation  f1-score\n",
       "2   statement                  tfidf  0.645740\n",
       "0   statement                 binary  0.622890\n",
       "1   statement                 counts  0.621951"
      ]
     },
     "execution_count": 22,
     "metadata": {},
     "output_type": "execute_result"
    }
   ],
   "source": [
    "lr_df_results=pd.DataFrame(lr_results,columns=['text_fields','feature_representation','f1-score'])\n",
    "lr_df_results.sort_values(by=['f1-score'],ascending=False)"
   ]
  },
  {
   "cell_type": "markdown",
   "metadata": {},
   "source": [
    "## Logistics Regression with word2vec"
   ]
  },
  {
   "cell_type": "code",
   "execution_count": 26,
   "metadata": {},
   "outputs": [
    {
     "name": "stdout",
     "output_type": "stream",
     "text": [
      "[LibLinear]"
     ]
    },
    {
     "data": {
      "text/plain": [
       "LogisticRegression(C=0.1, class_weight=None, dual=False, fit_intercept=True,\n",
       "                   intercept_scaling=1, l1_ratio=None, max_iter=500,\n",
       "                   multi_class='auto', n_jobs=None, penalty='l2',\n",
       "                   random_state=0, solver='liblinear', tol=0.0001, verbose=1,\n",
       "                   warm_start=False)"
      ]
     },
     "execution_count": 26,
     "metadata": {},
     "output_type": "execute_result"
    }
   ],
   "source": [
    "LogR_clf = LogisticRegression(verbose=1, solver='liblinear',random_state=0, C=0.1, penalty='l2',max_iter=500)\n",
    "LogR_clf.fit(X_train_word_average, train['label'])"
   ]
  },
  {
   "cell_type": "code",
   "execution_count": 27,
   "metadata": {},
   "outputs": [],
   "source": [
    "y_pred_test_log=LogR_clf.predict(X_test_word_average)\n",
    "# y_pred_train_log=LogR_clf.predict(X_train_word_average)"
   ]
  },
  {
   "cell_type": "code",
   "execution_count": 28,
   "metadata": {},
   "outputs": [
    {
     "name": "stdout",
     "output_type": "stream",
     "text": [
      "              precision    recall  f1-score   support\n",
      "\n",
      "           0       0.79      0.01      0.03      1094\n",
      "           1       0.53      1.00      0.69      1210\n",
      "\n",
      "    accuracy                           0.53      2304\n",
      "   macro avg       0.66      0.51      0.36      2304\n",
      "weighted avg       0.65      0.53      0.38      2304\n",
      "\n",
      "[[  15 1079]\n",
      " [   4 1206]]\n"
     ]
    }
   ],
   "source": [
    "score = f1_score(test.label,y_pred_test_log)\n",
    "print(classification_report(test.label,y_pred_test_log))\n",
    "print(confusion_matrix(test.label,y_pred_test_log))"
   ]
  },
  {
   "cell_type": "markdown",
   "metadata": {},
   "source": [
    "Here you see how the performance of logistics model is improved using tfidf over counts and binary weightning."
   ]
  },
  {
   "cell_type": "markdown",
   "metadata": {},
   "source": [
    "## SVM\n",
    "\n",
    "Support vector machines is an algorithm that determines the best decision boundary between vectors that belong to a given group (or category) and vectors that do not belong to it. That’s it. It can be applied to any kind of vectors which encode any kind of data. This means that in order to leverage the power of svm text classification, texts have to be transformed into vectors.\n",
    "\n",
    "So, when SVM determines the decision boundary we mentioned above, SVM decides where to draw the best “line” (or the best hyperplane) that divides the space into two subspaces: one for the vectors which belong to the given category and one for the vectors which do not belong to it."
   ]
  },
  {
   "cell_type": "markdown",
   "metadata": {},
   "source": [
    "### Train Models with Different Types of Features¶"
   ]
  },
  {
   "cell_type": "code",
   "execution_count": 23,
   "metadata": {},
   "outputs": [
    {
     "name": "stderr",
     "output_type": "stream",
     "text": [
      "2020-12-03 20:46:11,467 : INFO : Starting model training...\n",
      "2020-12-03 20:46:11,474 : INFO : Extracting features and creating vocabulary...\n"
     ]
    },
    {
     "name": "stdout",
     "output_type": "stream",
     "text": [
      "SVM Model - binary features with statement\n"
     ]
    },
    {
     "name": "stderr",
     "output_type": "stream",
     "text": [
      "2020-12-03 20:46:49,509 : INFO : Training a Classification Model...\n",
      "2020-12-03 20:46:49,651 : INFO : Starting evaluation...\n",
      "2020-12-03 20:46:49,661 : INFO : Done training and evaluation.\n",
      "2020-12-03 20:46:49,663 : INFO : Starting model training...\n",
      "2020-12-03 20:46:49,667 : INFO : Extracting features and creating vocabulary...\n"
     ]
    },
    {
     "name": "stdout",
     "output_type": "stream",
     "text": [
      "              precision    recall  f1-score   support\n",
      "\n",
      "           0       0.50      0.50      0.50      1248\n",
      "           1       0.61      0.61      0.61      1632\n",
      "\n",
      "    accuracy                           0.56      2880\n",
      "   macro avg       0.55      0.55      0.55      2880\n",
      "weighted avg       0.56      0.56      0.56      2880\n",
      "\n",
      "[[622 626]\n",
      " [634 998]]\n",
      "SVM Model - counts features with statement\n"
     ]
    },
    {
     "name": "stderr",
     "output_type": "stream",
     "text": [
      "2020-12-03 20:47:27,984 : INFO : Training a Classification Model...\n",
      "2020-12-03 20:47:28,175 : INFO : Starting evaluation...\n",
      "2020-12-03 20:47:28,185 : INFO : Done training and evaluation.\n",
      "2020-12-03 20:47:28,187 : INFO : Starting model training...\n",
      "2020-12-03 20:47:28,192 : INFO : Extracting features and creating vocabulary...\n"
     ]
    },
    {
     "name": "stdout",
     "output_type": "stream",
     "text": [
      "              precision    recall  f1-score   support\n",
      "\n",
      "           0       0.49      0.50      0.50      1248\n",
      "           1       0.61      0.61      0.61      1632\n",
      "\n",
      "    accuracy                           0.56      2880\n",
      "   macro avg       0.55      0.55      0.55      2880\n",
      "weighted avg       0.56      0.56      0.56      2880\n",
      "\n",
      "[[622 626]\n",
      " [635 997]]\n",
      "SVM Model - tfidf features with statement\n"
     ]
    },
    {
     "name": "stderr",
     "output_type": "stream",
     "text": [
      "2020-12-03 20:48:06,256 : INFO : Training a Classification Model...\n",
      "2020-12-03 20:48:06,299 : INFO : Starting evaluation...\n",
      "2020-12-03 20:48:06,312 : INFO : Done training and evaluation.\n"
     ]
    },
    {
     "name": "stdout",
     "output_type": "stream",
     "text": [
      "              precision    recall  f1-score   support\n",
      "\n",
      "           0       0.52      0.50      0.51      1248\n",
      "           1       0.63      0.65      0.64      1632\n",
      "\n",
      "    accuracy                           0.58      2880\n",
      "   macro avg       0.57      0.57      0.57      2880\n",
      "weighted avg       0.58      0.58      0.58      2880\n",
      "\n",
      "[[ 622  626]\n",
      " [ 572 1060]]\n"
     ]
    }
   ],
   "source": [
    "field='statement'\n",
    "feature_reps=['binary','counts','tfidf']\n",
    "svm_results=[]\n",
    "svm_clf = svm.LinearSVC()\n",
    "\n",
    "for feature_rep in feature_reps:\n",
    "        print(f'SVM Model - {feature_rep} features with statement')\n",
    "        svm_model,transformer,score=train_model(svm_clf,train_val,field=field,feature_rep=feature_rep)\n",
    "        svm_results.append([field,feature_rep,score])"
   ]
  },
  {
   "cell_type": "markdown",
   "metadata": {},
   "source": [
    "### SVM Results of Various Models"
   ]
  },
  {
   "cell_type": "code",
   "execution_count": 24,
   "metadata": {},
   "outputs": [
    {
     "data": {
      "text/html": [
       "<div>\n",
       "<style scoped>\n",
       "    .dataframe tbody tr th:only-of-type {\n",
       "        vertical-align: middle;\n",
       "    }\n",
       "\n",
       "    .dataframe tbody tr th {\n",
       "        vertical-align: top;\n",
       "    }\n",
       "\n",
       "    .dataframe thead th {\n",
       "        text-align: right;\n",
       "    }\n",
       "</style>\n",
       "<table border=\"1\" class=\"dataframe\">\n",
       "  <thead>\n",
       "    <tr style=\"text-align: right;\">\n",
       "      <th></th>\n",
       "      <th>text_fields</th>\n",
       "      <th>feature_representation</th>\n",
       "      <th>f1-score</th>\n",
       "    </tr>\n",
       "  </thead>\n",
       "  <tbody>\n",
       "    <tr>\n",
       "      <th>2</th>\n",
       "      <td>statement</td>\n",
       "      <td>tfidf</td>\n",
       "      <td>0.638939</td>\n",
       "    </tr>\n",
       "    <tr>\n",
       "      <th>0</th>\n",
       "      <td>statement</td>\n",
       "      <td>binary</td>\n",
       "      <td>0.613022</td>\n",
       "    </tr>\n",
       "    <tr>\n",
       "      <th>1</th>\n",
       "      <td>statement</td>\n",
       "      <td>counts</td>\n",
       "      <td>0.612596</td>\n",
       "    </tr>\n",
       "  </tbody>\n",
       "</table>\n",
       "</div>"
      ],
      "text/plain": [
       "  text_fields feature_representation  f1-score\n",
       "2   statement                  tfidf  0.638939\n",
       "0   statement                 binary  0.613022\n",
       "1   statement                 counts  0.612596"
      ]
     },
     "execution_count": 24,
     "metadata": {},
     "output_type": "execute_result"
    }
   ],
   "source": [
    "svm_df_results=pd.DataFrame(svm_results,columns=['text_fields','feature_representation','f1-score'])\n",
    "svm_df_results.sort_values(by=['f1-score'],ascending=False)"
   ]
  },
  {
   "cell_type": "markdown",
   "metadata": {},
   "source": [
    "## Random Forest\n",
    "\n",
    "Given the nature of random forests (a bagging decision tree), it is true that you may come up with a rather weak classifier, especially if only a couple of features are truly significant to determine the outcome.\n",
    "\n",
    "However, keep in mind that in the case of text classification, a preprocessing phase is required to get either your TF or TF-IDF matrix, through which you have already made a selection of pertinent features. Potentially, all features are relevant in this matrix, so the random forest may be performant when you predict your outcome. (source: https://stats.stackexchange.com/questions/343954/random-forest-short-text-classification)"
   ]
  },
  {
   "cell_type": "markdown",
   "metadata": {},
   "source": [
    "### Train Models with Different Types of Features¶"
   ]
  },
  {
   "cell_type": "code",
   "execution_count": 25,
   "metadata": {},
   "outputs": [
    {
     "name": "stderr",
     "output_type": "stream",
     "text": [
      "2020-12-03 20:48:06,348 : INFO : Starting model training...\n",
      "2020-12-03 20:48:06,353 : INFO : Extracting features and creating vocabulary...\n",
      "2020-12-03 20:48:52,329 : INFO : Training a Classification Model...\n",
      "2020-12-03 20:50:26,183 : INFO : Starting evaluation...\n",
      "2020-12-03 20:50:26,193 : INFO : Done training and evaluation.\n",
      "2020-12-03 20:50:26,196 : INFO : Starting model training...\n",
      "2020-12-03 20:50:26,200 : INFO : Extracting features and creating vocabulary...\n"
     ]
    },
    {
     "name": "stdout",
     "output_type": "stream",
     "text": [
      "              precision    recall  f1-score   support\n",
      "\n",
      "           0       0.56      0.45      0.50      1248\n",
      "           1       0.63      0.73      0.68      1632\n",
      "\n",
      "    accuracy                           0.61      2880\n",
      "   macro avg       0.60      0.59      0.59      2880\n",
      "weighted avg       0.60      0.61      0.60      2880\n",
      "\n",
      "[[ 561  687]\n",
      " [ 443 1189]]\n"
     ]
    },
    {
     "name": "stderr",
     "output_type": "stream",
     "text": [
      "2020-12-03 20:51:11,303 : INFO : Training a Classification Model...\n",
      "2020-12-03 20:52:24,718 : INFO : Starting evaluation...\n",
      "2020-12-03 20:52:24,729 : INFO : Done training and evaluation.\n",
      "2020-12-03 20:52:24,732 : INFO : Starting model training...\n",
      "2020-12-03 20:52:24,735 : INFO : Extracting features and creating vocabulary...\n"
     ]
    },
    {
     "name": "stdout",
     "output_type": "stream",
     "text": [
      "              precision    recall  f1-score   support\n",
      "\n",
      "           0       0.55      0.43      0.49      1248\n",
      "           1       0.63      0.73      0.68      1632\n",
      "\n",
      "    accuracy                           0.60      2880\n",
      "   macro avg       0.59      0.58      0.58      2880\n",
      "weighted avg       0.59      0.60      0.59      2880\n",
      "\n",
      "[[ 540  708]\n",
      " [ 438 1194]]\n"
     ]
    },
    {
     "name": "stderr",
     "output_type": "stream",
     "text": [
      "2020-12-03 20:53:02,968 : INFO : Training a Classification Model...\n",
      "2020-12-03 20:54:09,725 : INFO : Starting evaluation...\n",
      "2020-12-03 20:54:09,735 : INFO : Done training and evaluation.\n"
     ]
    },
    {
     "name": "stdout",
     "output_type": "stream",
     "text": [
      "              precision    recall  f1-score   support\n",
      "\n",
      "           0       0.55      0.42      0.48      1248\n",
      "           1       0.63      0.74      0.68      1632\n",
      "\n",
      "    accuracy                           0.60      2880\n",
      "   macro avg       0.59      0.58      0.58      2880\n",
      "weighted avg       0.59      0.60      0.59      2880\n",
      "\n",
      "[[ 528  720]\n",
      " [ 428 1204]]\n"
     ]
    }
   ],
   "source": [
    "field='statement'\n",
    "feature_reps=['binary','counts','tfidf']\n",
    "rf_results=[]\n",
    "rf_clf = RandomForestClassifier(n_estimators=1000)\n",
    "\n",
    "for feature_rep in feature_reps:\n",
    "        rf_model,transformer,score=train_model(rf_clf,train_val,field=field,feature_rep=feature_rep)\n",
    "        rf_results.append([field,feature_rep,score])"
   ]
  },
  {
   "cell_type": "markdown",
   "metadata": {},
   "source": [
    "### RF Results of Various Models¶"
   ]
  },
  {
   "cell_type": "code",
   "execution_count": 26,
   "metadata": {},
   "outputs": [
    {
     "data": {
      "text/html": [
       "<div>\n",
       "<style scoped>\n",
       "    .dataframe tbody tr th:only-of-type {\n",
       "        vertical-align: middle;\n",
       "    }\n",
       "\n",
       "    .dataframe tbody tr th {\n",
       "        vertical-align: top;\n",
       "    }\n",
       "\n",
       "    .dataframe thead th {\n",
       "        text-align: right;\n",
       "    }\n",
       "</style>\n",
       "<table border=\"1\" class=\"dataframe\">\n",
       "  <thead>\n",
       "    <tr style=\"text-align: right;\">\n",
       "      <th></th>\n",
       "      <th>text_fields</th>\n",
       "      <th>feature_representation</th>\n",
       "      <th>f1-score</th>\n",
       "    </tr>\n",
       "  </thead>\n",
       "  <tbody>\n",
       "    <tr>\n",
       "      <th>0</th>\n",
       "      <td>statement</td>\n",
       "      <td>binary</td>\n",
       "      <td>0.677879</td>\n",
       "    </tr>\n",
       "    <tr>\n",
       "      <th>2</th>\n",
       "      <td>statement</td>\n",
       "      <td>tfidf</td>\n",
       "      <td>0.677165</td>\n",
       "    </tr>\n",
       "    <tr>\n",
       "      <th>1</th>\n",
       "      <td>statement</td>\n",
       "      <td>counts</td>\n",
       "      <td>0.675722</td>\n",
       "    </tr>\n",
       "  </tbody>\n",
       "</table>\n",
       "</div>"
      ],
      "text/plain": [
       "  text_fields feature_representation  f1-score\n",
       "0   statement                 binary  0.677879\n",
       "2   statement                  tfidf  0.677165\n",
       "1   statement                 counts  0.675722"
      ]
     },
     "execution_count": 26,
     "metadata": {},
     "output_type": "execute_result"
    }
   ],
   "source": [
    "rf_df_results=pd.DataFrame(rf_results,columns=['text_fields','feature_representation','f1-score'])\n",
    "rf_df_results.sort_values(by=['f1-score'],ascending=False)"
   ]
  },
  {
   "cell_type": "markdown",
   "metadata": {},
   "source": [
    "## K-fold cross validation\n",
    "\n",
    "With K-fold cross validation, you are testing how well your model is able to get trained by some data and then predict data it hasn't seen. We use cross validation for this because if you train using all the data you have, you have none left for testing. You could do this once, say by using 80% of the data to train and 20% to test, but what if the 20% you happened to pick to test happens to contain a bunch of points that are particularly easy (or particularly hard) to predict? We will not have come up with the best estimate possible of the models ability to learn and predict."
   ]
  },
  {
   "cell_type": "code",
   "execution_count": 30,
   "metadata": {},
   "outputs": [],
   "source": [
    "#User defined functon for K-Fold cross validatoin\n",
    "def apply_kfold(classifier,train_val,field,feature_rep):\n",
    "    \"\"\"\n",
    "    K-fold cross validation on the the data\n",
    "    \"\"\"\n",
    "    k_fold = KFold(n_splits=5, shuffle=True)\n",
    "    scores = []\n",
    "    confusion = np.array([[0,0],[0,0]])\n",
    "\n",
    "    for fold_n, (train_index, valid_index) in enumerate(k_fold.split(train_val['statement'], train_val['label'])):\n",
    "        print(fold_n, len(train_index), len(valid_index))\n",
    "        train_x = train_val['statement'].iloc[train_index]\n",
    "        train_y = train_val['label'].iloc[train_index]\n",
    "    \n",
    "        valid_x = train_val['statement'].iloc[valid_index]\n",
    "        valid_y = train_val['label'].iloc[valid_index]\n",
    "        \n",
    "        # GET FEATURES\n",
    "        train_features,val_features,feature_transformer=extract_features(field,train_x,valid_x,type=feature_rep)\n",
    "        \n",
    "        # INIT CLASSIFIER\n",
    "        logging.info(\"Training a Classification Model...\")\n",
    "        classifier.fit(train_features, train_y)\n",
    "        predictions = classifier.predict(val_features)\n",
    "        \n",
    "        confusion += confusion_matrix(valid_y,predictions)\n",
    "        score = f1_score(valid_y,predictions)\n",
    "        scores.append(score)\n",
    "        \n",
    "    return (print('Total statements classified:', len(train_val['statement'])),\n",
    "    print('Score:', sum(scores)/len(scores)),\n",
    "    print('score length', len(scores)),\n",
    "    print('Confusion matrix:'),\n",
    "    print(confusion))"
   ]
  },
  {
   "cell_type": "markdown",
   "metadata": {},
   "source": [
    "## Grid Search Hyperparameters with K-Fold Cross Validation"
   ]
  },
  {
   "cell_type": "markdown",
   "metadata": {},
   "source": [
    "## Logistics Regression"
   ]
  },
  {
   "cell_type": "code",
   "execution_count": 14,
   "metadata": {},
   "outputs": [
    {
     "name": "stderr",
     "output_type": "stream",
     "text": [
      "2020-12-04 14:27:12,473 : INFO : Extracting features and creating vocabulary...\n",
      "/opt/anaconda3/envs/newenv/lib/python3.8/site-packages/sklearn/linear_model/_logistic.py:938: ConvergenceWarning: lbfgs failed to converge (status=1):\n",
      "STOP: TOTAL NO. of ITERATIONS REACHED LIMIT.\n",
      "\n",
      "Increase the number of iterations (max_iter) or scale the data as shown in:\n",
      "    https://scikit-learn.org/stable/modules/preprocessing.html\n",
      "Please also refer to the documentation for alternative solver options:\n",
      "    https://scikit-learn.org/stable/modules/linear_model.html#logistic-regression\n",
      "  n_iter_i = _check_optimize_result(\n",
      "/opt/anaconda3/envs/newenv/lib/python3.8/site-packages/sklearn/linear_model/_logistic.py:938: ConvergenceWarning: lbfgs failed to converge (status=1):\n",
      "STOP: TOTAL NO. of ITERATIONS REACHED LIMIT.\n",
      "\n",
      "Increase the number of iterations (max_iter) or scale the data as shown in:\n",
      "    https://scikit-learn.org/stable/modules/preprocessing.html\n",
      "Please also refer to the documentation for alternative solver options:\n",
      "    https://scikit-learn.org/stable/modules/linear_model.html#logistic-regression\n",
      "  n_iter_i = _check_optimize_result(\n",
      "/opt/anaconda3/envs/newenv/lib/python3.8/site-packages/sklearn/linear_model/_logistic.py:938: ConvergenceWarning: lbfgs failed to converge (status=1):\n",
      "STOP: TOTAL NO. of ITERATIONS REACHED LIMIT.\n",
      "\n",
      "Increase the number of iterations (max_iter) or scale the data as shown in:\n",
      "    https://scikit-learn.org/stable/modules/preprocessing.html\n",
      "Please also refer to the documentation for alternative solver options:\n",
      "    https://scikit-learn.org/stable/modules/linear_model.html#logistic-regression\n",
      "  n_iter_i = _check_optimize_result(\n",
      "/opt/anaconda3/envs/newenv/lib/python3.8/site-packages/sklearn/linear_model/_logistic.py:938: ConvergenceWarning: lbfgs failed to converge (status=1):\n",
      "STOP: TOTAL NO. of ITERATIONS REACHED LIMIT.\n",
      "\n",
      "Increase the number of iterations (max_iter) or scale the data as shown in:\n",
      "    https://scikit-learn.org/stable/modules/preprocessing.html\n",
      "Please also refer to the documentation for alternative solver options:\n",
      "    https://scikit-learn.org/stable/modules/linear_model.html#logistic-regression\n",
      "  n_iter_i = _check_optimize_result(\n",
      "/opt/anaconda3/envs/newenv/lib/python3.8/site-packages/sklearn/linear_model/_logistic.py:938: ConvergenceWarning: lbfgs failed to converge (status=1):\n",
      "STOP: TOTAL NO. of ITERATIONS REACHED LIMIT.\n",
      "\n",
      "Increase the number of iterations (max_iter) or scale the data as shown in:\n",
      "    https://scikit-learn.org/stable/modules/preprocessing.html\n",
      "Please also refer to the documentation for alternative solver options:\n",
      "    https://scikit-learn.org/stable/modules/linear_model.html#logistic-regression\n",
      "  n_iter_i = _check_optimize_result(\n",
      "/opt/anaconda3/envs/newenv/lib/python3.8/site-packages/sklearn/linear_model/_logistic.py:938: ConvergenceWarning: lbfgs failed to converge (status=1):\n",
      "STOP: TOTAL NO. of ITERATIONS REACHED LIMIT.\n",
      "\n",
      "Increase the number of iterations (max_iter) or scale the data as shown in:\n",
      "    https://scikit-learn.org/stable/modules/preprocessing.html\n",
      "Please also refer to the documentation for alternative solver options:\n",
      "    https://scikit-learn.org/stable/modules/linear_model.html#logistic-regression\n",
      "  n_iter_i = _check_optimize_result(\n",
      "/opt/anaconda3/envs/newenv/lib/python3.8/site-packages/sklearn/linear_model/_logistic.py:938: ConvergenceWarning: lbfgs failed to converge (status=1):\n",
      "STOP: TOTAL NO. of ITERATIONS REACHED LIMIT.\n",
      "\n",
      "Increase the number of iterations (max_iter) or scale the data as shown in:\n",
      "    https://scikit-learn.org/stable/modules/preprocessing.html\n",
      "Please also refer to the documentation for alternative solver options:\n",
      "    https://scikit-learn.org/stable/modules/linear_model.html#logistic-regression\n",
      "  n_iter_i = _check_optimize_result(\n",
      "/opt/anaconda3/envs/newenv/lib/python3.8/site-packages/sklearn/linear_model/_logistic.py:938: ConvergenceWarning: lbfgs failed to converge (status=1):\n",
      "STOP: TOTAL NO. of ITERATIONS REACHED LIMIT.\n",
      "\n",
      "Increase the number of iterations (max_iter) or scale the data as shown in:\n",
      "    https://scikit-learn.org/stable/modules/preprocessing.html\n",
      "Please also refer to the documentation for alternative solver options:\n",
      "    https://scikit-learn.org/stable/modules/linear_model.html#logistic-regression\n",
      "  n_iter_i = _check_optimize_result(\n",
      "/opt/anaconda3/envs/newenv/lib/python3.8/site-packages/sklearn/linear_model/_logistic.py:938: ConvergenceWarning: lbfgs failed to converge (status=1):\n",
      "STOP: TOTAL NO. of ITERATIONS REACHED LIMIT.\n",
      "\n",
      "Increase the number of iterations (max_iter) or scale the data as shown in:\n",
      "    https://scikit-learn.org/stable/modules/preprocessing.html\n",
      "Please also refer to the documentation for alternative solver options:\n",
      "    https://scikit-learn.org/stable/modules/linear_model.html#logistic-regression\n",
      "  n_iter_i = _check_optimize_result(\n",
      "/opt/anaconda3/envs/newenv/lib/python3.8/site-packages/sklearn/linear_model/_logistic.py:938: ConvergenceWarning: lbfgs failed to converge (status=1):\n",
      "STOP: TOTAL NO. of ITERATIONS REACHED LIMIT.\n",
      "\n",
      "Increase the number of iterations (max_iter) or scale the data as shown in:\n",
      "    https://scikit-learn.org/stable/modules/preprocessing.html\n",
      "Please also refer to the documentation for alternative solver options:\n",
      "    https://scikit-learn.org/stable/modules/linear_model.html#logistic-regression\n",
      "  n_iter_i = _check_optimize_result(\n",
      "/opt/anaconda3/envs/newenv/lib/python3.8/site-packages/sklearn/linear_model/_logistic.py:938: ConvergenceWarning: lbfgs failed to converge (status=1):\n",
      "STOP: TOTAL NO. of ITERATIONS REACHED LIMIT.\n",
      "\n",
      "Increase the number of iterations (max_iter) or scale the data as shown in:\n",
      "    https://scikit-learn.org/stable/modules/preprocessing.html\n",
      "Please also refer to the documentation for alternative solver options:\n",
      "    https://scikit-learn.org/stable/modules/linear_model.html#logistic-regression\n",
      "  n_iter_i = _check_optimize_result(\n",
      "/opt/anaconda3/envs/newenv/lib/python3.8/site-packages/sklearn/linear_model/_logistic.py:938: ConvergenceWarning: lbfgs failed to converge (status=1):\n",
      "STOP: TOTAL NO. of ITERATIONS REACHED LIMIT.\n",
      "\n",
      "Increase the number of iterations (max_iter) or scale the data as shown in:\n",
      "    https://scikit-learn.org/stable/modules/preprocessing.html\n",
      "Please also refer to the documentation for alternative solver options:\n",
      "    https://scikit-learn.org/stable/modules/linear_model.html#logistic-regression\n",
      "  n_iter_i = _check_optimize_result(\n",
      "/opt/anaconda3/envs/newenv/lib/python3.8/site-packages/sklearn/linear_model/_logistic.py:938: ConvergenceWarning: lbfgs failed to converge (status=1):\n",
      "STOP: TOTAL NO. of ITERATIONS REACHED LIMIT.\n",
      "\n",
      "Increase the number of iterations (max_iter) or scale the data as shown in:\n",
      "    https://scikit-learn.org/stable/modules/preprocessing.html\n",
      "Please also refer to the documentation for alternative solver options:\n",
      "    https://scikit-learn.org/stable/modules/linear_model.html#logistic-regression\n",
      "  n_iter_i = _check_optimize_result(\n",
      "/opt/anaconda3/envs/newenv/lib/python3.8/site-packages/sklearn/linear_model/_logistic.py:938: ConvergenceWarning: lbfgs failed to converge (status=1):\n",
      "STOP: TOTAL NO. of ITERATIONS REACHED LIMIT.\n",
      "\n",
      "Increase the number of iterations (max_iter) or scale the data as shown in:\n",
      "    https://scikit-learn.org/stable/modules/preprocessing.html\n",
      "Please also refer to the documentation for alternative solver options:\n",
      "    https://scikit-learn.org/stable/modules/linear_model.html#logistic-regression\n",
      "  n_iter_i = _check_optimize_result(\n",
      "/opt/anaconda3/envs/newenv/lib/python3.8/site-packages/sklearn/linear_model/_logistic.py:938: ConvergenceWarning: lbfgs failed to converge (status=1):\n",
      "STOP: TOTAL NO. of ITERATIONS REACHED LIMIT.\n",
      "\n",
      "Increase the number of iterations (max_iter) or scale the data as shown in:\n",
      "    https://scikit-learn.org/stable/modules/preprocessing.html\n",
      "Please also refer to the documentation for alternative solver options:\n",
      "    https://scikit-learn.org/stable/modules/linear_model.html#logistic-regression\n",
      "  n_iter_i = _check_optimize_result(\n"
     ]
    },
    {
     "data": {
      "text/plain": [
       "GridSearchCV(cv=5, error_score=nan,\n",
       "             estimator=LogisticRegression(C=1.0, class_weight=None, dual=False,\n",
       "                                          fit_intercept=True,\n",
       "                                          intercept_scaling=1, l1_ratio=None,\n",
       "                                          max_iter=100, multi_class='auto',\n",
       "                                          n_jobs=None, penalty='l2',\n",
       "                                          random_state=None, solver='lbfgs',\n",
       "                                          tol=0.0001, verbose=0,\n",
       "                                          warm_start=False),\n",
       "             iid='deprecated', n_jobs=None,\n",
       "             param_grid={'C': array([1.e-03, 1.e-02, 1.e-01, 1.e+00, 1.e+01, 1.e+02, 1.e+03]),\n",
       "                         'max_iter': [500, 1000], 'penalty': ['l2']},\n",
       "             pre_dispatch='2*n_jobs', refit=True, return_train_score=False,\n",
       "             scoring=None, verbose=0)"
      ]
     },
     "execution_count": 14,
     "metadata": {},
     "output_type": "execute_result"
    }
   ],
   "source": [
    "grid={\"C\":np.logspace(-3,3,7), \"penalty\":[\"l2\"], \"max_iter\":[500, 1000]}# l1 lasso l2 ridge\n",
    "logreg=LogisticRegression()\n",
    "logreg_cv=GridSearchCV(logreg,grid,cv=5)\n",
    "\n",
    "# GET FEATURES\n",
    "feature_reps=['binary','counts','tfidf']\n",
    "train_features,feature_transformer=extract_final_features(field,train_val['statement'],type='binary')\n",
    "logreg_cv.fit(train_features,train_val['label'])"
   ]
  },
  {
   "cell_type": "code",
   "execution_count": 15,
   "metadata": {},
   "outputs": [
    {
     "name": "stdout",
     "output_type": "stream",
     "text": [
      "tuned hpyerparameters :(best parameters)  {'C': 0.1, 'max_iter': 500, 'penalty': 'l2'}\n",
      "accuracy : 0.6151041666666667\n"
     ]
    }
   ],
   "source": [
    "print(\"tuned hpyerparameters :(best parameters) \",logreg_cv.best_params_)\n",
    "print(\"accuracy :\",logreg_cv.best_score_)"
   ]
  },
  {
   "cell_type": "markdown",
   "metadata": {},
   "source": [
    "## SVC"
   ]
  },
  {
   "cell_type": "code",
   "execution_count": 16,
   "metadata": {},
   "outputs": [
    {
     "name": "stderr",
     "output_type": "stream",
     "text": [
      "2020-12-04 14:38:28,037 : INFO : Extracting features and creating vocabulary...\n",
      "/opt/anaconda3/envs/newenv/lib/python3.8/site-packages/sklearn/model_selection/_split.py:292: FutureWarning: Setting a random_state has no effect since shuffle is False. This will raise an error in 0.24. You should leave random_state to its default (None), or set shuffle=True.\n",
      "  warnings.warn(\n"
     ]
    },
    {
     "name": "stdout",
     "output_type": "stream",
     "text": [
      "0.6172743055555555\n",
      "OrderedDict([('C', 0.00020805609531827864), ('degree', 1), ('gamma', 100.0), ('kernel', 'poly')])\n"
     ]
    }
   ],
   "source": [
    "from sklearn.svm import SVC\n",
    "from sklearn.model_selection import StratifiedKFold\n",
    "from skopt import BayesSearchCV\n",
    "\n",
    "field='statement'\n",
    "feature_reps=['binary','counts','tfidf']\n",
    "# GET FEATURES\n",
    "train_features,feature_transformer=extract_final_features('statement',train_val['statement'],type='binary')\n",
    "    \n",
    "# define search space\n",
    "params = dict()\n",
    "params['C'] = (1e-6, 100.0, 'log-uniform')\n",
    "params['gamma'] = (1e-6, 100.0, 'log-uniform')\n",
    "params['degree'] = (1,5)\n",
    "params['kernel'] = ['linear', 'poly', 'rbf', 'sigmoid']\n",
    "# define evaluation\n",
    "cv = StratifiedKFold(n_splits=5, random_state=1)\n",
    "# define the search\n",
    "search = BayesSearchCV(estimator=SVC(), search_spaces=params, n_jobs=-1, cv=cv)\n",
    "# perform the search\n",
    "search.fit(train_features, train_val['label'])\n",
    "# report the best result\n",
    "print(search.best_score_)\n",
    "print(search.best_params_)"
   ]
  },
  {
   "cell_type": "markdown",
   "metadata": {},
   "source": [
    "## Random Forest"
   ]
  },
  {
   "cell_type": "code",
   "execution_count": 20,
   "metadata": {},
   "outputs": [
    {
     "name": "stderr",
     "output_type": "stream",
     "text": [
      "2020-12-04 15:44:02,202 : INFO : Extracting features and creating vocabulary...\n"
     ]
    },
    {
     "name": "stdout",
     "output_type": "stream",
     "text": [
      "{'max_features': 'log2', 'n_estimators': 700}\n"
     ]
    }
   ],
   "source": [
    "rfc = RandomForestClassifier(n_jobs=-1,oob_score = True) \n",
    "\n",
    "param_grid = { \n",
    "    'n_estimators': [200, 700],\n",
    "    'max_features': ['sqrt', 'log2']\n",
    "}\n",
    "\n",
    "CV_rfc = GridSearchCV(estimator=rfc, param_grid=param_grid, cv= 5)\n",
    "# get features\n",
    "train_features,feature_transformer=extract_final_features('statement',train_val['statement'],type='binary')\n",
    "CV_rfc.fit(train_features, train_val['label'])\n",
    "print(CV_rfc.best_params_)"
   ]
  },
  {
   "cell_type": "code",
   "execution_count": 25,
   "metadata": {},
   "outputs": [
    {
     "name": "stdout",
     "output_type": "stream",
     "text": [
      "0.6276041666666666\n"
     ]
    }
   ],
   "source": [
    "print(CV_rfc.best_score_)"
   ]
  },
  {
   "cell_type": "markdown",
   "metadata": {},
   "source": [
    "## Naive Bayes with K-fold cross validation"
   ]
  },
  {
   "cell_type": "code",
   "execution_count": 32,
   "metadata": {},
   "outputs": [
    {
     "name": "stderr",
     "output_type": "stream",
     "text": [
      "2020-12-03 20:54:40,953 : INFO : Extracting features and creating vocabulary...\n"
     ]
    },
    {
     "name": "stdout",
     "output_type": "stream",
     "text": [
      "Model - binary features with statement\n",
      "0 9216 2304\n"
     ]
    },
    {
     "name": "stderr",
     "output_type": "stream",
     "text": [
      "2020-12-03 20:55:23,804 : INFO : Training a Classification Model...\n",
      "2020-12-03 20:55:23,814 : INFO : Extracting features and creating vocabulary...\n"
     ]
    },
    {
     "name": "stdout",
     "output_type": "stream",
     "text": [
      "1 9216 2304\n"
     ]
    },
    {
     "name": "stderr",
     "output_type": "stream",
     "text": [
      "2020-12-03 20:56:03,322 : INFO : Training a Classification Model...\n",
      "2020-12-03 20:56:03,331 : INFO : Extracting features and creating vocabulary...\n"
     ]
    },
    {
     "name": "stdout",
     "output_type": "stream",
     "text": [
      "2 9216 2304\n"
     ]
    },
    {
     "name": "stderr",
     "output_type": "stream",
     "text": [
      "2020-12-03 20:56:42,538 : INFO : Training a Classification Model...\n",
      "2020-12-03 20:56:42,547 : INFO : Extracting features and creating vocabulary...\n"
     ]
    },
    {
     "name": "stdout",
     "output_type": "stream",
     "text": [
      "3 9216 2304\n"
     ]
    },
    {
     "name": "stderr",
     "output_type": "stream",
     "text": [
      "2020-12-03 20:57:21,634 : INFO : Training a Classification Model...\n",
      "2020-12-03 20:57:21,642 : INFO : Extracting features and creating vocabulary...\n"
     ]
    },
    {
     "name": "stdout",
     "output_type": "stream",
     "text": [
      "4 9216 2304\n"
     ]
    },
    {
     "name": "stderr",
     "output_type": "stream",
     "text": [
      "2020-12-03 20:58:00,847 : INFO : Training a Classification Model...\n",
      "2020-12-03 20:58:00,859 : INFO : Extracting features and creating vocabulary...\n"
     ]
    },
    {
     "name": "stdout",
     "output_type": "stream",
     "text": [
      "Total statements classified: 11520\n",
      "Score: 0.6719650990437549\n",
      "score length 5\n",
      "Confusion matrix:\n",
      "[[2330 2772]\n",
      " [1767 4651]]\n",
      "Model - counts features with statement\n",
      "0 9216 2304\n"
     ]
    },
    {
     "name": "stderr",
     "output_type": "stream",
     "text": [
      "2020-12-03 20:58:39,800 : INFO : Training a Classification Model...\n",
      "2020-12-03 20:58:39,809 : INFO : Extracting features and creating vocabulary...\n"
     ]
    },
    {
     "name": "stdout",
     "output_type": "stream",
     "text": [
      "1 9216 2304\n"
     ]
    },
    {
     "name": "stderr",
     "output_type": "stream",
     "text": [
      "2020-12-03 20:59:18,933 : INFO : Training a Classification Model...\n",
      "2020-12-03 20:59:18,941 : INFO : Extracting features and creating vocabulary...\n"
     ]
    },
    {
     "name": "stdout",
     "output_type": "stream",
     "text": [
      "2 9216 2304\n"
     ]
    },
    {
     "name": "stderr",
     "output_type": "stream",
     "text": [
      "2020-12-03 20:59:58,121 : INFO : Training a Classification Model...\n",
      "2020-12-03 20:59:58,131 : INFO : Extracting features and creating vocabulary...\n"
     ]
    },
    {
     "name": "stdout",
     "output_type": "stream",
     "text": [
      "3 9216 2304\n"
     ]
    },
    {
     "name": "stderr",
     "output_type": "stream",
     "text": [
      "2020-12-03 21:00:37,065 : INFO : Training a Classification Model...\n",
      "2020-12-03 21:00:37,074 : INFO : Extracting features and creating vocabulary...\n"
     ]
    },
    {
     "name": "stdout",
     "output_type": "stream",
     "text": [
      "4 9216 2304\n"
     ]
    },
    {
     "name": "stderr",
     "output_type": "stream",
     "text": [
      "2020-12-03 21:01:16,297 : INFO : Training a Classification Model...\n",
      "2020-12-03 21:01:16,310 : INFO : Extracting features and creating vocabulary...\n"
     ]
    },
    {
     "name": "stdout",
     "output_type": "stream",
     "text": [
      "Total statements classified: 11520\n",
      "Score: 0.6706466952721573\n",
      "score length 5\n",
      "Confusion matrix:\n",
      "[[2337 2765]\n",
      " [1785 4633]]\n",
      "Model - tfidf features with statement\n",
      "0 9216 2304\n"
     ]
    },
    {
     "name": "stderr",
     "output_type": "stream",
     "text": [
      "2020-12-03 21:01:55,724 : INFO : Training a Classification Model...\n",
      "2020-12-03 21:01:55,733 : INFO : Extracting features and creating vocabulary...\n"
     ]
    },
    {
     "name": "stdout",
     "output_type": "stream",
     "text": [
      "1 9216 2304\n"
     ]
    },
    {
     "name": "stderr",
     "output_type": "stream",
     "text": [
      "2020-12-03 21:02:35,105 : INFO : Training a Classification Model...\n",
      "2020-12-03 21:02:35,114 : INFO : Extracting features and creating vocabulary...\n"
     ]
    },
    {
     "name": "stdout",
     "output_type": "stream",
     "text": [
      "2 9216 2304\n"
     ]
    },
    {
     "name": "stderr",
     "output_type": "stream",
     "text": [
      "2020-12-03 21:03:14,334 : INFO : Training a Classification Model...\n",
      "2020-12-03 21:03:14,343 : INFO : Extracting features and creating vocabulary...\n"
     ]
    },
    {
     "name": "stdout",
     "output_type": "stream",
     "text": [
      "3 9216 2304\n"
     ]
    },
    {
     "name": "stderr",
     "output_type": "stream",
     "text": [
      "2020-12-03 21:03:53,362 : INFO : Training a Classification Model...\n",
      "2020-12-03 21:03:53,370 : INFO : Extracting features and creating vocabulary...\n"
     ]
    },
    {
     "name": "stdout",
     "output_type": "stream",
     "text": [
      "4 9216 2304\n"
     ]
    },
    {
     "name": "stderr",
     "output_type": "stream",
     "text": [
      "2020-12-03 21:04:32,660 : INFO : Training a Classification Model...\n"
     ]
    },
    {
     "name": "stdout",
     "output_type": "stream",
     "text": [
      "Total statements classified: 11520\n",
      "Score: 0.7032826381843794\n",
      "score length 5\n",
      "Confusion matrix:\n",
      "[[1477 3625]\n",
      " [ 971 5447]]\n"
     ]
    }
   ],
   "source": [
    "field='statement'\n",
    "feature_reps=['binary','counts','tfidf']\n",
    "nb_results=[]\n",
    "nb_clf = MultinomialNB()\n",
    "for feature_rep in feature_reps:\n",
    "        print(f'Model - {feature_rep} features with statement')\n",
    "        apply_kfold(nb_clf,train_val,field=field,feature_rep=feature_rep)"
   ]
  },
  {
   "cell_type": "markdown",
   "metadata": {},
   "source": [
    "## Logistics Regression with K-fold cross Validation"
   ]
  },
  {
   "cell_type": "code",
   "execution_count": 17,
   "metadata": {},
   "outputs": [],
   "source": [
    "# field='statement'\n",
    "# feature_reps=['binary','counts','tfidf']\n",
    "# LogR_clf = LogisticRegression(verbose=1, solver='liblinear',random_state=0, C=5, penalty='l2',max_iter=1000)\n",
    "\n",
    "# for feature_rep in feature_reps:\n",
    "#         print(f'Model - {feature_rep} features with statement')\n",
    "#         apply_kfold(LogR_clf,train_val,field=field,feature_rep=feature_rep)"
   ]
  },
  {
   "cell_type": "markdown",
   "metadata": {},
   "source": [
    "## SVM with K-fold cross Validation"
   ]
  },
  {
   "cell_type": "code",
   "execution_count": 18,
   "metadata": {},
   "outputs": [],
   "source": [
    "# field='statement'\n",
    "# feature_reps=['binary','counts','tfidf']\n",
    "# svm_clf = svm.LinearSVC()\n",
    "\n",
    "# for feature_rep in feature_reps:\n",
    "#         print(f'Model - {feature_rep} features with statement')\n",
    "#         apply_kfold(svm_clf,train_val,field=field,feature_rep=feature_rep)"
   ]
  },
  {
   "cell_type": "markdown",
   "metadata": {},
   "source": [
    "## RF with K-fold cross Validation"
   ]
  },
  {
   "cell_type": "code",
   "execution_count": 19,
   "metadata": {},
   "outputs": [],
   "source": [
    "# field='statement'\n",
    "# feature_reps=['binary','counts','tfidf']\n",
    "# rf_clf = RandomForestClassifier(n_estimators=1000)\n",
    "\n",
    "# for feature_rep in feature_reps:\n",
    "#         print(f'Model - {feature_rep} features with statement')\n",
    "#         apply_kfold(rf_clf,train_val,field=field,feature_rep=feature_rep)"
   ]
  },
  {
   "cell_type": "markdown",
   "metadata": {},
   "source": [
    "## Best Model Selection"
   ]
  },
  {
   "cell_type": "markdown",
   "metadata": {},
   "source": [
    "\"\"\"\n",
    "Out of all the models fitted, we would take 2 best performing model. we would call them candidate models\n",
    "from the confusion matrix, we can see that logistic regression and SVM (with either binary or tfidf features) are better performing \n",
    "in terms of precision and recall (take a look into false positive and true negative counts which appeares\n",
    "to be low compared to rest of the models).\n",
    "\n",
    "Using k-fold cross validation, we see the performance of the models on the entire dataset. And, the model's aren't performing well. We can apply other features to improve the performance, and grid-search can also help us to find best parameters to improve the perfromance.\n",
    "\"\"\""
   ]
  },
  {
   "cell_type": "code",
   "execution_count": 23,
   "metadata": {},
   "outputs": [
    {
     "name": "stderr",
     "output_type": "stream",
     "text": [
      "2020-12-07 11:52:19,852 : INFO : Starting model training...\n",
      "2020-12-07 11:52:19,854 : INFO : Extracting features and creating vocabulary...\n",
      "2020-12-07 11:53:03,648 : INFO : Training a Final Model...\n",
      "2020-12-07 11:53:03,775 : INFO : Done training.\n"
     ]
    },
    {
     "name": "stdout",
     "output_type": "stream",
     "text": [
      "[LibLinear]"
     ]
    }
   ],
   "source": [
    "field='statement'\n",
    "LogR_clf_final = LogisticRegression(verbose=1, solver='liblinear',random_state=0, C=5, penalty='l2',max_iter=1000)\n",
    "lr_final_model,transformer=train_final_model(LogR_clf_final,train_val,field=field,feature_rep='counts')"
   ]
  },
  {
   "cell_type": "code",
   "execution_count": 47,
   "metadata": {},
   "outputs": [],
   "source": [
    "# train_val['statement'].values.values"
   ]
  },
  {
   "cell_type": "markdown",
   "metadata": {},
   "source": [
    "## Saving Model"
   ]
  },
  {
   "cell_type": "code",
   "execution_count": 10,
   "metadata": {},
   "outputs": [],
   "source": [
    "model_path=\"../models/lr_final_model.pkl\"\n",
    "transformer_path=\"../models/transformer.pkl\""
   ]
  },
  {
   "cell_type": "code",
   "execution_count": 43,
   "metadata": {},
   "outputs": [],
   "source": [
    "# we need to save both the transformer -> to encode a document and the model itself to make predictions based on the weight vectors \n",
    "pickle.dump(lr_final_model,open(model_path, 'wb'))\n",
    "pickle.dump(transformer,open(transformer_path,'wb'))"
   ]
  },
  {
   "cell_type": "markdown",
   "metadata": {},
   "source": [
    "## Loading model "
   ]
  },
  {
   "cell_type": "code",
   "execution_count": 11,
   "metadata": {},
   "outputs": [],
   "source": [
    "# load the model and feature transformer with pickle\n",
    "loaded_model = pickle.load(open(model_path, 'rb'))\n",
    "loaded_transformer = pickle.load(open(transformer_path, 'rb'))"
   ]
  },
  {
   "cell_type": "code",
   "execution_count": 24,
   "metadata": {},
   "outputs": [
    {
     "data": {
      "text/plain": [
       "sklearn.linear_model._logistic.LogisticRegression"
      ]
     },
     "execution_count": 24,
     "metadata": {},
     "output_type": "execute_result"
    }
   ],
   "source": [
    "type(LogR_clf_final)"
   ]
  },
  {
   "cell_type": "markdown",
   "metadata": {},
   "source": [
    "## Check predictions on unseen data"
   ]
  },
  {
   "cell_type": "code",
   "execution_count": 17,
   "metadata": {},
   "outputs": [
    {
     "data": {
      "text/plain": [
       "0"
      ]
     },
     "execution_count": 17,
     "metadata": {},
     "output_type": "execute_result"
    }
   ],
   "source": [
    "input_text = process_text(\"When asked by a reporter whether hes at the center of a criminal scheme to violate campaign laws, Gov. Scott Walker nodded yes.\")\n",
    "test_features = loaded_transformer.transform([\" \".join(input_text)])\n",
    "output = get_predictions(loaded_model,test_features)\n",
    "output[0] # correctly predicted"
   ]
  },
  {
   "cell_type": "code",
   "execution_count": 18,
   "metadata": {},
   "outputs": [
    {
     "data": {
      "text/plain": [
       "0"
      ]
     },
     "execution_count": 18,
     "metadata": {},
     "output_type": "execute_result"
    }
   ],
   "source": [
    "input_text = process_text(\"Says John McCain has done nothing to help the vets.\")\n",
    "test_features=loaded_transformer.transform([\" \".join(input_text)])\n",
    "ouput = get_predictions(loaded_model,test_features)\n",
    "ouput[0] # false news predicted as false. #correct prediction"
   ]
  },
  {
   "cell_type": "code",
   "execution_count": 19,
   "metadata": {},
   "outputs": [
    {
     "data": {
      "text/plain": [
       "0"
      ]
     },
     "execution_count": 19,
     "metadata": {},
     "output_type": "execute_result"
    }
   ],
   "source": [
    "input_text = process_text(\"Says that Tennessee law requires that schools receive half of proceeds -- $31 million per year -- from a half-cent increase in the Shelby County sales tax.\")\n",
    "test_features=loaded_transformer.transform([\" \".join(input_text)])\n",
    "ouput = get_predictions(loaded_model,test_features)\n",
    "ouput[0] # True news predicted as True. #correct prediction"
   ]
  }
 ],
 "metadata": {
  "kernelspec": {
   "display_name": "Python 3",
   "language": "python",
   "name": "python3"
  },
  "language_info": {
   "codemirror_mode": {
    "name": "ipython",
    "version": 3
   },
   "file_extension": ".py",
   "mimetype": "text/x-python",
   "name": "python",
   "nbconvert_exporter": "python",
   "pygments_lexer": "ipython3",
   "version": "3.8.3"
  }
 },
 "nbformat": 4,
 "nbformat_minor": 4
}
